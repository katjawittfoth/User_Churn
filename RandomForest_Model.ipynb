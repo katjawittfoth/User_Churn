{
 "cells": [
  {
   "cell_type": "code",
   "execution_count": 1,
   "metadata": {},
   "outputs": [],
   "source": [
    "import pandas as pd\n",
    "import numpy as np\n",
    "import boto3\n",
    "from datetime import datetime\n",
    "from keys import *"
   ]
  },
  {
   "cell_type": "markdown",
   "metadata": {},
   "source": [
    "# Load data from S3 bucket"
   ]
  },
  {
   "cell_type": "code",
   "execution_count": 2,
   "metadata": {},
   "outputs": [],
   "source": [
    "s3 = boto3.resource('s3')\n",
    "bucket = s3.Bucket(\"msds-630-finalproject\")\n",
    "\n",
    "client = boto3.client(\"s3\", aws_access_key_id=access_key, aws_secret_access_key=secret_key)\n",
    "\n",
    "obj = client.get_object(Bucket=\"msds-630-finalproject\", Key=\"sessions.csv\")\n",
    "sessions = pd.read_csv(obj[\"Body\"])"
   ]
  },
  {
   "cell_type": "code",
   "execution_count": 3,
   "metadata": {},
   "outputs": [
    {
     "name": "stdout",
     "output_type": "stream",
     "text": [
      "<class 'pandas.core.frame.DataFrame'>\n",
      "RangeIndex: 6239836 entries, 0 to 6239835\n",
      "Data columns (total 22 columns):\n",
      "app_id                        int64\n",
      "session_id                    int64\n",
      "start_timestamp               int64\n",
      "timezone                      object\n",
      "timezone_offset               float64\n",
      "previous_sessions_duration    int64\n",
      "user_created_timestamp        int64\n",
      "is_user_first_session         bool\n",
      "is_session                    bool\n",
      "is_developer                  bool\n",
      "is_wau                        bool\n",
      "is_mau                        bool\n",
      "country                       object\n",
      "region                        object\n",
      "city                          object\n",
      "latitude                      float64\n",
      "longitude                     float64\n",
      "locale                        object\n",
      "os_name                       object\n",
      "session_index                 int64\n",
      "device_id                     object\n",
      "user_id_hash                  object\n",
      "dtypes: bool(5), float64(3), int64(6), object(8)\n",
      "memory usage: 839.1+ MB\n"
     ]
    }
   ],
   "source": [
    "sessions.info()"
   ]
  },
  {
   "cell_type": "code",
   "execution_count": 4,
   "metadata": {},
   "outputs": [],
   "source": [
    "sessions_selected = sessions[['user_id_hash','start_timestamp','previous_sessions_duration','is_developer',\n",
    "                              'country','city','device_id']]"
   ]
  },
  {
   "cell_type": "markdown",
   "metadata": {},
   "source": [
    "## Filter out is_developer"
   ]
  },
  {
   "cell_type": "code",
   "execution_count": 5,
   "metadata": {},
   "outputs": [],
   "source": [
    "sessions_selected = sessions_selected[sessions_selected['is_developer']==False]"
   ]
  },
  {
   "cell_type": "code",
   "execution_count": 6,
   "metadata": {},
   "outputs": [
    {
     "name": "stdout",
     "output_type": "stream",
     "text": [
      "<class 'pandas.core.frame.DataFrame'>\n",
      "Int64Index: 6237248 entries, 0 to 6239835\n",
      "Data columns (total 7 columns):\n",
      "user_id_hash                  object\n",
      "start_timestamp               int64\n",
      "previous_sessions_duration    int64\n",
      "is_developer                  bool\n",
      "country                       object\n",
      "city                          object\n",
      "device_id                     object\n",
      "dtypes: bool(1), int64(2), object(4)\n",
      "memory usage: 339.1+ MB\n"
     ]
    }
   ],
   "source": [
    "sessions_selected.info()"
   ]
  },
  {
   "cell_type": "markdown",
   "metadata": {},
   "source": [
    "## Filter out December data"
   ]
  },
  {
   "cell_type": "code",
   "execution_count": 7,
   "metadata": {},
   "outputs": [],
   "source": [
    "sessions_selected['start_timestamp'] = pd.to_datetime(sessions_selected['start_timestamp'], unit='ms')"
   ]
  },
  {
   "cell_type": "code",
   "execution_count": 8,
   "metadata": {},
   "outputs": [],
   "source": [
    "dec1_cutoff = datetime(2018, 12, 1, 0, 0, 0)"
   ]
  },
  {
   "cell_type": "code",
   "execution_count": 9,
   "metadata": {},
   "outputs": [],
   "source": [
    "df_train = sessions_selected[sessions_selected['start_timestamp'] < dec1_cutoff]"
   ]
  },
  {
   "cell_type": "markdown",
   "metadata": {},
   "source": [
    "## Only select the following features from sessions"
   ]
  },
  {
   "cell_type": "code",
   "execution_count": 10,
   "metadata": {},
   "outputs": [],
   "source": [
    "df_train = df_train[['user_id_hash','start_timestamp','previous_sessions_duration',\n",
    "                              'country','city','device_id']]"
   ]
  },
  {
   "cell_type": "code",
   "execution_count": 11,
   "metadata": {},
   "outputs": [
    {
     "name": "stdout",
     "output_type": "stream",
     "text": [
      "<class 'pandas.core.frame.DataFrame'>\n",
      "Int64Index: 5447266 entries, 0 to 6239835\n",
      "Data columns (total 6 columns):\n",
      "user_id_hash                  object\n",
      "start_timestamp               datetime64[ns]\n",
      "previous_sessions_duration    int64\n",
      "country                       object\n",
      "city                          object\n",
      "device_id                     object\n",
      "dtypes: datetime64[ns](1), int64(1), object(4)\n",
      "memory usage: 290.9+ MB\n"
     ]
    }
   ],
   "source": [
    "df_train.info()"
   ]
  },
  {
   "cell_type": "markdown",
   "metadata": {},
   "source": [
    "Obtain the list of country and city each session at, if there are more than 1 we will only the first one."
   ]
  },
  {
   "cell_type": "code",
   "execution_count": 13,
   "metadata": {},
   "outputs": [],
   "source": [
    "df_train_countries = df_train.groupby('user_id_hash')['country'].apply(set)\n",
    "df_train_city = df_train.groupby('user_id_hash')['city'].apply(set)"
   ]
  },
  {
   "cell_type": "markdown",
   "metadata": {},
   "source": [
    "Get the number of seasons and mean of sessions durations, and number of unique device per user."
   ]
  },
  {
   "cell_type": "code",
   "execution_count": 14,
   "metadata": {},
   "outputs": [],
   "source": [
    "df_train_main = df_train.groupby('user_id_hash').agg({'user_id_hash': 'count', 'previous_sessions_duration': 'mean',\n",
    "                                      'device_id': 'nunique'})"
   ]
  },
  {
   "cell_type": "code",
   "execution_count": 15,
   "metadata": {},
   "outputs": [],
   "source": [
    "df_train_main['user_id_hash'] = df_train_main.index"
   ]
  },
  {
   "cell_type": "code",
   "execution_count": 16,
   "metadata": {},
   "outputs": [],
   "source": [
    "df_train_countries['user_id_hash'] = df_train_countries.index\n",
    "df_train_city['user_id_hash'] = df_train_city.index"
   ]
  },
  {
   "cell_type": "markdown",
   "metadata": {},
   "source": [
    "Merge all those togehter"
   ]
  },
  {
   "cell_type": "code",
   "execution_count": 17,
   "metadata": {},
   "outputs": [
    {
     "name": "stderr",
     "output_type": "stream",
     "text": [
      "/home/ubuntu/anaconda3/lib/python3.6/site-packages/IPython/core/interactiveshell.py:2963: FutureWarning: 'user_id_hash' is both an index level and a column label.\n",
      "Defaulting to column, but this will raise an ambiguity error in a future version\n",
      "  exec(code_obj, self.user_global_ns, self.user_ns)\n"
     ]
    }
   ],
   "source": [
    "all_X = pd.merge(pd.DataFrame(df_train_main), pd.DataFrame(df_train_countries), on='user_id_hash')\n",
    "all_X = pd.merge(all_X, pd.DataFrame(df_train_city), on='user_id_hash')"
   ]
  },
  {
   "cell_type": "markdown",
   "metadata": {},
   "source": [
    "Get the label that we are predicting"
   ]
  },
  {
   "cell_type": "code",
   "execution_count": 18,
   "metadata": {},
   "outputs": [
    {
     "data": {
      "text/html": [
       "<div>\n",
       "<style scoped>\n",
       "    .dataframe tbody tr th:only-of-type {\n",
       "        vertical-align: middle;\n",
       "    }\n",
       "\n",
       "    .dataframe tbody tr th {\n",
       "        vertical-align: top;\n",
       "    }\n",
       "\n",
       "    .dataframe thead th {\n",
       "        text-align: right;\n",
       "    }\n",
       "</style>\n",
       "<table border=\"1\" class=\"dataframe\">\n",
       "  <thead>\n",
       "    <tr style=\"text-align: right;\">\n",
       "      <th></th>\n",
       "      <th>user_id_hash</th>\n",
       "      <th>user_purchase_binary_7_days</th>\n",
       "      <th>user_purchase_binary_14_days</th>\n",
       "      <th>num_purchase</th>\n",
       "      <th>value_purchase</th>\n",
       "    </tr>\n",
       "  </thead>\n",
       "  <tbody>\n",
       "    <tr>\n",
       "      <th>0</th>\n",
       "      <td>e469dfaed039ead9110165d9bc457acb11609ca34057dc...</td>\n",
       "      <td>0.0</td>\n",
       "      <td>0.0</td>\n",
       "      <td>0.0</td>\n",
       "      <td>0.0</td>\n",
       "    </tr>\n",
       "    <tr>\n",
       "      <th>1</th>\n",
       "      <td>afcc639a324b6c598ef83d360450afa011cb2dd1358bf9...</td>\n",
       "      <td>0.0</td>\n",
       "      <td>0.0</td>\n",
       "      <td>0.0</td>\n",
       "      <td>0.0</td>\n",
       "    </tr>\n",
       "    <tr>\n",
       "      <th>2</th>\n",
       "      <td>fd5a7cf211d08e3e00f7be6a9df6e6ea3d2e5c22a5d9c3...</td>\n",
       "      <td>0.0</td>\n",
       "      <td>0.0</td>\n",
       "      <td>0.0</td>\n",
       "      <td>0.0</td>\n",
       "    </tr>\n",
       "    <tr>\n",
       "      <th>3</th>\n",
       "      <td>00bfff98b9d0329f014c2eeac7ce47cd18b2bc6e10d608...</td>\n",
       "      <td>0.0</td>\n",
       "      <td>0.0</td>\n",
       "      <td>0.0</td>\n",
       "      <td>0.0</td>\n",
       "    </tr>\n",
       "    <tr>\n",
       "      <th>4</th>\n",
       "      <td>0d298f3638c43e915c119d4935e1ce8d168f81b5e3e8c1...</td>\n",
       "      <td>0.0</td>\n",
       "      <td>0.0</td>\n",
       "      <td>0.0</td>\n",
       "      <td>0.0</td>\n",
       "    </tr>\n",
       "  </tbody>\n",
       "</table>\n",
       "</div>"
      ],
      "text/plain": [
       "                                        user_id_hash  \\\n",
       "0  e469dfaed039ead9110165d9bc457acb11609ca34057dc...   \n",
       "1  afcc639a324b6c598ef83d360450afa011cb2dd1358bf9...   \n",
       "2  fd5a7cf211d08e3e00f7be6a9df6e6ea3d2e5c22a5d9c3...   \n",
       "3  00bfff98b9d0329f014c2eeac7ce47cd18b2bc6e10d608...   \n",
       "4  0d298f3638c43e915c119d4935e1ce8d168f81b5e3e8c1...   \n",
       "\n",
       "   user_purchase_binary_7_days  user_purchase_binary_14_days  num_purchase  \\\n",
       "0                          0.0                           0.0           0.0   \n",
       "1                          0.0                           0.0           0.0   \n",
       "2                          0.0                           0.0           0.0   \n",
       "3                          0.0                           0.0           0.0   \n",
       "4                          0.0                           0.0           0.0   \n",
       "\n",
       "   value_purchase  \n",
       "0             0.0  \n",
       "1             0.0  \n",
       "2             0.0  \n",
       "3             0.0  \n",
       "4             0.0  "
      ]
     },
     "execution_count": 18,
     "metadata": {},
     "output_type": "execute_result"
    }
   ],
   "source": [
    "labels = pd.read_csv(\"features_train.csv\", index_col = 0)\n",
    "labels.head()"
   ]
  },
  {
   "cell_type": "code",
   "execution_count": 19,
   "metadata": {},
   "outputs": [
    {
     "data": {
      "text/html": [
       "<div>\n",
       "<style scoped>\n",
       "    .dataframe tbody tr th:only-of-type {\n",
       "        vertical-align: middle;\n",
       "    }\n",
       "\n",
       "    .dataframe tbody tr th {\n",
       "        vertical-align: top;\n",
       "    }\n",
       "\n",
       "    .dataframe thead th {\n",
       "        text-align: right;\n",
       "    }\n",
       "</style>\n",
       "<table border=\"1\" class=\"dataframe\">\n",
       "  <thead>\n",
       "    <tr style=\"text-align: right;\">\n",
       "      <th></th>\n",
       "      <th>user_id_hash</th>\n",
       "      <th>user_purchase_binary_7_days</th>\n",
       "      <th>user_purchase_binary_14_days</th>\n",
       "    </tr>\n",
       "  </thead>\n",
       "  <tbody>\n",
       "    <tr>\n",
       "      <th>0</th>\n",
       "      <td>e469dfaed039ead9110165d9bc457acb11609ca34057dc...</td>\n",
       "      <td>0.0</td>\n",
       "      <td>0.0</td>\n",
       "    </tr>\n",
       "    <tr>\n",
       "      <th>1</th>\n",
       "      <td>afcc639a324b6c598ef83d360450afa011cb2dd1358bf9...</td>\n",
       "      <td>0.0</td>\n",
       "      <td>0.0</td>\n",
       "    </tr>\n",
       "    <tr>\n",
       "      <th>2</th>\n",
       "      <td>fd5a7cf211d08e3e00f7be6a9df6e6ea3d2e5c22a5d9c3...</td>\n",
       "      <td>0.0</td>\n",
       "      <td>0.0</td>\n",
       "    </tr>\n",
       "    <tr>\n",
       "      <th>3</th>\n",
       "      <td>00bfff98b9d0329f014c2eeac7ce47cd18b2bc6e10d608...</td>\n",
       "      <td>0.0</td>\n",
       "      <td>0.0</td>\n",
       "    </tr>\n",
       "    <tr>\n",
       "      <th>4</th>\n",
       "      <td>0d298f3638c43e915c119d4935e1ce8d168f81b5e3e8c1...</td>\n",
       "      <td>0.0</td>\n",
       "      <td>0.0</td>\n",
       "    </tr>\n",
       "  </tbody>\n",
       "</table>\n",
       "</div>"
      ],
      "text/plain": [
       "                                        user_id_hash  \\\n",
       "0  e469dfaed039ead9110165d9bc457acb11609ca34057dc...   \n",
       "1  afcc639a324b6c598ef83d360450afa011cb2dd1358bf9...   \n",
       "2  fd5a7cf211d08e3e00f7be6a9df6e6ea3d2e5c22a5d9c3...   \n",
       "3  00bfff98b9d0329f014c2eeac7ce47cd18b2bc6e10d608...   \n",
       "4  0d298f3638c43e915c119d4935e1ce8d168f81b5e3e8c1...   \n",
       "\n",
       "   user_purchase_binary_7_days  user_purchase_binary_14_days  \n",
       "0                          0.0                           0.0  \n",
       "1                          0.0                           0.0  \n",
       "2                          0.0                           0.0  \n",
       "3                          0.0                           0.0  \n",
       "4                          0.0                           0.0  "
      ]
     },
     "execution_count": 19,
     "metadata": {},
     "output_type": "execute_result"
    }
   ],
   "source": [
    "labels = labels[['user_id_hash','user_purchase_binary_7_days','user_purchase_binary_14_days']]\n",
    "labels.head()"
   ]
  },
  {
   "cell_type": "code",
   "execution_count": 20,
   "metadata": {},
   "outputs": [
    {
     "name": "stdout",
     "output_type": "stream",
     "text": [
      "<class 'pandas.core.frame.DataFrame'>\n",
      "Int64Index: 312568 entries, 0 to 312567\n",
      "Data columns (total 3 columns):\n",
      "user_id_hash                    312568 non-null object\n",
      "user_purchase_binary_7_days     312568 non-null float64\n",
      "user_purchase_binary_14_days    312568 non-null float64\n",
      "dtypes: float64(2), object(1)\n",
      "memory usage: 9.5+ MB\n"
     ]
    }
   ],
   "source": [
    "labels.info()"
   ]
  },
  {
   "cell_type": "markdown",
   "metadata": {},
   "source": [
    "Fill NAs"
   ]
  },
  {
   "cell_type": "code",
   "execution_count": 21,
   "metadata": {},
   "outputs": [],
   "source": [
    "all_X = pd.merge(labels, all_X, how='left', on='user_id_hash')"
   ]
  },
  {
   "cell_type": "code",
   "execution_count": 22,
   "metadata": {},
   "outputs": [
    {
     "name": "stdout",
     "output_type": "stream",
     "text": [
      "<class 'pandas.core.frame.DataFrame'>\n",
      "Int64Index: 312568 entries, 0 to 312567\n",
      "Data columns (total 7 columns):\n",
      "user_id_hash                    312568 non-null object\n",
      "user_purchase_binary_7_days     312568 non-null float64\n",
      "user_purchase_binary_14_days    312568 non-null float64\n",
      "previous_sessions_duration      311863 non-null float64\n",
      "device_id                       311863 non-null float64\n",
      "country                         311863 non-null object\n",
      "city                            311863 non-null object\n",
      "dtypes: float64(4), object(3)\n",
      "memory usage: 19.1+ MB\n"
     ]
    }
   ],
   "source": [
    "all_X.info()"
   ]
  },
  {
   "cell_type": "code",
   "execution_count": 23,
   "metadata": {},
   "outputs": [],
   "source": [
    "all_X['country'] = all_X['country'].fillna('None')\n",
    "all_X['city'] = all_X['city'].fillna('None')"
   ]
  },
  {
   "cell_type": "markdown",
   "metadata": {},
   "source": [
    "Only select one country or city."
   ]
  },
  {
   "cell_type": "code",
   "execution_count": 24,
   "metadata": {},
   "outputs": [],
   "source": [
    "def convert(x):\n",
    "    if type(x) is set:\n",
    "        return list(x)[0]\n",
    "    return x\n",
    "all_X['country'] = all_X['country'].apply(lambda x: convert(x))\n",
    "all_X['city'] = all_X['city'].apply(lambda x: convert(x))"
   ]
  },
  {
   "cell_type": "code",
   "execution_count": 25,
   "metadata": {},
   "outputs": [
    {
     "name": "stdout",
     "output_type": "stream",
     "text": [
      "<class 'pandas.core.frame.DataFrame'>\n",
      "Int64Index: 312568 entries, 0 to 312567\n",
      "Data columns (total 7 columns):\n",
      "user_id_hash                    312568 non-null object\n",
      "user_purchase_binary_7_days     312568 non-null float64\n",
      "user_purchase_binary_14_days    312568 non-null float64\n",
      "previous_sessions_duration      311863 non-null float64\n",
      "device_id                       311863 non-null float64\n",
      "country                         312121 non-null object\n",
      "city                            312064 non-null object\n",
      "dtypes: float64(4), object(3)\n",
      "memory usage: 19.1+ MB\n"
     ]
    }
   ],
   "source": [
    "all_X.info()"
   ]
  },
  {
   "cell_type": "code",
   "execution_count": 26,
   "metadata": {},
   "outputs": [],
   "source": [
    "train = pd.read_csv('train_id.csv')\n",
    "val = pd.read_csv('val_id.csv')\n",
    "train = train.rename(index=str, columns={'0':'user_id_hash'})\n",
    "val = val.rename(index=str, columns={'0':'user_id_hash'})"
   ]
  },
  {
   "cell_type": "code",
   "execution_count": 59,
   "metadata": {},
   "outputs": [],
   "source": [
    "train_X = pd.merge(train, all_X, how='left', on='user_id_hash')\n",
    "val_X = pd.merge(val, all_X, how='left', on='user_id_hash')"
   ]
  },
  {
   "cell_type": "code",
   "execution_count": 60,
   "metadata": {},
   "outputs": [],
   "source": [
    "train_y7 = pd.DataFrame(train_X['user_purchase_binary_7_days'])\n",
    "train_y14 = pd.DataFrame(train_X['user_purchase_binary_14_days'])\n",
    "val_y7 = pd.DataFrame(val_X['user_purchase_binary_7_days'])\n",
    "val_y14 = pd.DataFrame(val_X['user_purchase_binary_14_days'])"
   ]
  },
  {
   "cell_type": "code",
   "execution_count": 61,
   "metadata": {},
   "outputs": [],
   "source": [
    "test_X = all_X[['previous_sessions_duration','device_id','country','city']]"
   ]
  },
  {
   "cell_type": "code",
   "execution_count": 62,
   "metadata": {},
   "outputs": [
    {
     "name": "stderr",
     "output_type": "stream",
     "text": [
      "/home/ubuntu/anaconda3/lib/python3.6/site-packages/ipykernel_launcher.py:5: SettingWithCopyWarning: \n",
      "A value is trying to be set on a copy of a slice from a DataFrame.\n",
      "Try using .loc[row_indexer,col_indexer] = value instead\n",
      "\n",
      "See the caveats in the documentation: http://pandas.pydata.org/pandas-docs/stable/indexing.html#indexing-view-versus-copy\n",
      "  \"\"\"\n",
      "/home/ubuntu/anaconda3/lib/python3.6/site-packages/ipykernel_launcher.py:6: SettingWithCopyWarning: \n",
      "A value is trying to be set on a copy of a slice from a DataFrame.\n",
      "Try using .loc[row_indexer,col_indexer] = value instead\n",
      "\n",
      "See the caveats in the documentation: http://pandas.pydata.org/pandas-docs/stable/indexing.html#indexing-view-versus-copy\n",
      "  \n"
     ]
    }
   ],
   "source": [
    "train_X['country'] = train_X['country'].fillna('None')\n",
    "train_X['city'] = train_X['city'].fillna('None')\n",
    "val_X['country'] = val_X['country'].fillna('None')\n",
    "val_X['city'] = val_X['city'].fillna('None')\n",
    "test_X['country'] = test_X['country'].fillna('None')\n",
    "test_X['city'] = test_X['city'].fillna('None')"
   ]
  },
  {
   "cell_type": "code",
   "execution_count": 63,
   "metadata": {},
   "outputs": [],
   "source": [
    "train_X = train_X[['previous_sessions_duration','device_id','country','city']]\n",
    "val_X = val_X[['previous_sessions_duration','device_id','country','city']]"
   ]
  },
  {
   "cell_type": "code",
   "execution_count": 64,
   "metadata": {},
   "outputs": [
    {
     "name": "stdout",
     "output_type": "stream",
     "text": [
      "<class 'pandas.core.frame.DataFrame'>\n",
      "Int64Index: 496356 entries, 0 to 496355\n",
      "Data columns (total 4 columns):\n",
      "previous_sessions_duration    249380 non-null float64\n",
      "device_id                     249380 non-null float64\n",
      "country                       496356 non-null object\n",
      "city                          496356 non-null object\n",
      "dtypes: float64(2), object(2)\n",
      "memory usage: 18.9+ MB\n"
     ]
    }
   ],
   "source": [
    "train_X.info()"
   ]
  },
  {
   "cell_type": "code",
   "execution_count": 65,
   "metadata": {},
   "outputs": [
    {
     "name": "stdout",
     "output_type": "stream",
     "text": [
      "<class 'pandas.core.frame.DataFrame'>\n",
      "Int64Index: 496356 entries, 0 to 496355\n",
      "Data columns (total 1 columns):\n",
      "user_purchase_binary_7_days    249503 non-null float64\n",
      "dtypes: float64(1)\n",
      "memory usage: 7.6 MB\n"
     ]
    }
   ],
   "source": [
    "train_y7.info()"
   ]
  },
  {
   "cell_type": "code",
   "execution_count": 66,
   "metadata": {},
   "outputs": [],
   "source": [
    "psd_mean = pd.DataFrame.mean(train_X['previous_sessions_duration'])\n",
    "device_mean = pd.DataFrame.mean(train_X['device_id'])\n",
    "train_X['previous_sessions_duration'] = train_X['previous_sessions_duration'].fillna(psd_mean)\n",
    "train_X['device_id'] = train_X['device_id'].fillna(device_mean)"
   ]
  },
  {
   "cell_type": "code",
   "execution_count": 67,
   "metadata": {},
   "outputs": [],
   "source": [
    "psd_mean = pd.DataFrame.mean(val_X['previous_sessions_duration'])\n",
    "device_mean = pd.DataFrame.mean(val_X['device_id'])\n",
    "val_X['previous_sessions_duration'] = val_X['previous_sessions_duration'].fillna(psd_mean)\n",
    "val_X['device_id'] = val_X['device_id'].fillna(device_mean)"
   ]
  },
  {
   "cell_type": "code",
   "execution_count": 68,
   "metadata": {},
   "outputs": [
    {
     "name": "stderr",
     "output_type": "stream",
     "text": [
      "/home/ubuntu/anaconda3/lib/python3.6/site-packages/ipykernel_launcher.py:3: SettingWithCopyWarning: \n",
      "A value is trying to be set on a copy of a slice from a DataFrame.\n",
      "Try using .loc[row_indexer,col_indexer] = value instead\n",
      "\n",
      "See the caveats in the documentation: http://pandas.pydata.org/pandas-docs/stable/indexing.html#indexing-view-versus-copy\n",
      "  This is separate from the ipykernel package so we can avoid doing imports until\n",
      "/home/ubuntu/anaconda3/lib/python3.6/site-packages/ipykernel_launcher.py:4: SettingWithCopyWarning: \n",
      "A value is trying to be set on a copy of a slice from a DataFrame.\n",
      "Try using .loc[row_indexer,col_indexer] = value instead\n",
      "\n",
      "See the caveats in the documentation: http://pandas.pydata.org/pandas-docs/stable/indexing.html#indexing-view-versus-copy\n",
      "  after removing the cwd from sys.path.\n"
     ]
    }
   ],
   "source": [
    "psd_mean = pd.DataFrame.mean(train_X['previous_sessions_duration'])\n",
    "device_mean = pd.DataFrame.mean(train_X['device_id'])\n",
    "test_X['previous_sessions_duration'] = test_X['previous_sessions_duration'].fillna(psd_mean)\n",
    "test_X['device_id'] = test_X['device_id'].fillna(device_mean)"
   ]
  },
  {
   "cell_type": "markdown",
   "metadata": {},
   "source": [
    "Encode the strings in the dataset"
   ]
  },
  {
   "cell_type": "code",
   "execution_count": 69,
   "metadata": {},
   "outputs": [],
   "source": [
    "from sklearn import preprocessing"
   ]
  },
  {
   "cell_type": "code",
   "execution_count": 70,
   "metadata": {},
   "outputs": [
    {
     "name": "stderr",
     "output_type": "stream",
     "text": [
      "/home/ubuntu/anaconda3/lib/python3.6/site-packages/ipykernel_launcher.py:5: SettingWithCopyWarning: \n",
      "A value is trying to be set on a copy of a slice from a DataFrame.\n",
      "Try using .loc[row_indexer,col_indexer] = value instead\n",
      "\n",
      "See the caveats in the documentation: http://pandas.pydata.org/pandas-docs/stable/indexing.html#indexing-view-versus-copy\n",
      "  \"\"\"\n"
     ]
    }
   ],
   "source": [
    "le_country = preprocessing.LabelEncoder()\n",
    "le_country.fit(all_X['country'].astype(str))\n",
    "train_X['country'] = le_country.transform(train_X['country'])\n",
    "val_X['country'] = le_country.transform(val_X['country'])\n",
    "test_X['country'] = le_country.transform(test_X['country'])"
   ]
  },
  {
   "cell_type": "code",
   "execution_count": 75,
   "metadata": {},
   "outputs": [
    {
     "name": "stderr",
     "output_type": "stream",
     "text": [
      "/home/ubuntu/anaconda3/lib/python3.6/site-packages/ipykernel_launcher.py:5: SettingWithCopyWarning: \n",
      "A value is trying to be set on a copy of a slice from a DataFrame.\n",
      "Try using .loc[row_indexer,col_indexer] = value instead\n",
      "\n",
      "See the caveats in the documentation: http://pandas.pydata.org/pandas-docs/stable/indexing.html#indexing-view-versus-copy\n",
      "  \"\"\"\n"
     ]
    }
   ],
   "source": [
    "le_city = preprocessing.LabelEncoder()\n",
    "le_city.fit(all_X['city'].astype(str))\n",
    "train_X['city'] = le_city.transform(train_X['city'])\n",
    "val_X['city'] = le_city.transform(val_X['city'])\n",
    "test_X['city'] = le_city.transform(test_X['city'])"
   ]
  },
  {
   "cell_type": "code",
   "execution_count": 100,
   "metadata": {},
   "outputs": [],
   "source": [
    "train_y7 = train_y7.fillna(0)\n",
    "train_y14 = train_y14.fillna(0)\n",
    "val_y7 = val_y7.fillna(0)\n",
    "val_y14 = val_y14.fillna(0)"
   ]
  },
  {
   "cell_type": "code",
   "execution_count": 88,
   "metadata": {},
   "outputs": [
    {
     "name": "stdout",
     "output_type": "stream",
     "text": [
      "<class 'pandas.core.frame.DataFrame'>\n",
      "Int64Index: 496356 entries, 0 to 496355\n",
      "Data columns (total 4 columns):\n",
      "previous_sessions_duration    496356 non-null float64\n",
      "device_id                     496356 non-null float64\n",
      "country                       496356 non-null int64\n",
      "city                          496356 non-null int64\n",
      "dtypes: float64(2), int64(2)\n",
      "memory usage: 18.9 MB\n"
     ]
    }
   ],
   "source": [
    "train_X.info()"
   ]
  },
  {
   "cell_type": "code",
   "execution_count": 89,
   "metadata": {},
   "outputs": [],
   "source": [
    "from sklearn.ensemble import RandomForestClassifier\n",
    "from sklearn.metrics import accuracy_score"
   ]
  },
  {
   "cell_type": "code",
   "execution_count": 90,
   "metadata": {},
   "outputs": [],
   "source": [
    "rf_7 = RandomForestClassifier(max_depth=30, n_estimators=100)\n",
    "rf_14 = RandomForestClassifier(max_depth=30, n_estimators=100)"
   ]
  },
  {
   "cell_type": "markdown",
   "metadata": {},
   "source": [
    "First predict the 1st week"
   ]
  },
  {
   "cell_type": "code",
   "execution_count": 91,
   "metadata": {},
   "outputs": [
    {
     "name": "stderr",
     "output_type": "stream",
     "text": [
      "/home/ubuntu/anaconda3/lib/python3.6/site-packages/ipykernel_launcher.py:1: DataConversionWarning: A column-vector y was passed when a 1d array was expected. Please change the shape of y to (n_samples,), for example using ravel().\n",
      "  \"\"\"Entry point for launching an IPython kernel.\n"
     ]
    },
    {
     "data": {
      "text/plain": [
       "RandomForestClassifier(bootstrap=True, class_weight=None, criterion='gini',\n",
       "            max_depth=30, max_features='auto', max_leaf_nodes=None,\n",
       "            min_impurity_decrease=0.0, min_impurity_split=None,\n",
       "            min_samples_leaf=1, min_samples_split=2,\n",
       "            min_weight_fraction_leaf=0.0, n_estimators=100, n_jobs=1,\n",
       "            oob_score=False, random_state=None, verbose=0,\n",
       "            warm_start=False)"
      ]
     },
     "execution_count": 91,
     "metadata": {},
     "output_type": "execute_result"
    }
   ],
   "source": [
    "rf_7.fit(train_X, train_y7)"
   ]
  },
  {
   "cell_type": "code",
   "execution_count": 92,
   "metadata": {},
   "outputs": [
    {
     "data": {
      "text/plain": [
       "0.9991941267960899"
      ]
     },
     "execution_count": 92,
     "metadata": {},
     "output_type": "execute_result"
    }
   ],
   "source": [
    "accuracy_score(rf_7.predict(train_X),train_y7)"
   ]
  },
  {
   "cell_type": "code",
   "execution_count": 93,
   "metadata": {},
   "outputs": [
    {
     "data": {
      "text/plain": [
       "0.9944049683880714"
      ]
     },
     "execution_count": 93,
     "metadata": {},
     "output_type": "execute_result"
    }
   ],
   "source": [
    "accuracy_score(rf_7.predict(val_X),val_y7)"
   ]
  },
  {
   "cell_type": "code",
   "execution_count": 103,
   "metadata": {},
   "outputs": [],
   "source": [
    "rf_model_week_pred = rf_7.predict(test_X)"
   ]
  },
  {
   "cell_type": "markdown",
   "metadata": {},
   "source": [
    "Then predict the 14 days period"
   ]
  },
  {
   "cell_type": "code",
   "execution_count": 97,
   "metadata": {},
   "outputs": [
    {
     "name": "stderr",
     "output_type": "stream",
     "text": [
      "/home/ubuntu/anaconda3/lib/python3.6/site-packages/ipykernel_launcher.py:1: DataConversionWarning: A column-vector y was passed when a 1d array was expected. Please change the shape of y to (n_samples,), for example using ravel().\n",
      "  \"\"\"Entry point for launching an IPython kernel.\n"
     ]
    },
    {
     "data": {
      "text/plain": [
       "RandomForestClassifier(bootstrap=True, class_weight=None, criterion='gini',\n",
       "            max_depth=30, max_features='auto', max_leaf_nodes=None,\n",
       "            min_impurity_decrease=0.0, min_impurity_split=None,\n",
       "            min_samples_leaf=1, min_samples_split=2,\n",
       "            min_weight_fraction_leaf=0.0, n_estimators=100, n_jobs=1,\n",
       "            oob_score=False, random_state=None, verbose=0,\n",
       "            warm_start=False)"
      ]
     },
     "execution_count": 97,
     "metadata": {},
     "output_type": "execute_result"
    }
   ],
   "source": [
    "rf_14.fit(train_X, train_y14)"
   ]
  },
  {
   "cell_type": "code",
   "execution_count": 98,
   "metadata": {},
   "outputs": [
    {
     "data": {
      "text/plain": [
       "0.9989966878611319"
      ]
     },
     "execution_count": 98,
     "metadata": {},
     "output_type": "execute_result"
    }
   ],
   "source": [
    "accuracy_score(rf_14.predict(train_X),train_y14)"
   ]
  },
  {
   "cell_type": "code",
   "execution_count": 101,
   "metadata": {},
   "outputs": [
    {
     "data": {
      "text/plain": [
       "0.9931181111173278"
      ]
     },
     "execution_count": 101,
     "metadata": {},
     "output_type": "execute_result"
    }
   ],
   "source": [
    "accuracy_score(rf_14.predict(val_X),val_y14)"
   ]
  },
  {
   "cell_type": "code",
   "execution_count": 104,
   "metadata": {},
   "outputs": [],
   "source": [
    "rf_model_2week_pred = rf_14.predict(test_X)"
   ]
  },
  {
   "cell_type": "code",
   "execution_count": 108,
   "metadata": {},
   "outputs": [],
   "source": [
    "result_model_rf = pd.DataFrame({'user_id_hash': all_X['user_id_hash'],'user_purchase_binary_7_days': rf_model_week_pred,\n",
    "                              'user_purchase_binary_14_days': rf_model_2week_pred})"
   ]
  },
  {
   "cell_type": "code",
   "execution_count": 109,
   "metadata": {},
   "outputs": [
    {
     "data": {
      "text/html": [
       "<div>\n",
       "<style scoped>\n",
       "    .dataframe tbody tr th:only-of-type {\n",
       "        vertical-align: middle;\n",
       "    }\n",
       "\n",
       "    .dataframe tbody tr th {\n",
       "        vertical-align: top;\n",
       "    }\n",
       "\n",
       "    .dataframe thead th {\n",
       "        text-align: right;\n",
       "    }\n",
       "</style>\n",
       "<table border=\"1\" class=\"dataframe\">\n",
       "  <thead>\n",
       "    <tr style=\"text-align: right;\">\n",
       "      <th></th>\n",
       "      <th>user_id_hash</th>\n",
       "      <th>user_purchase_binary_7_days</th>\n",
       "      <th>user_purchase_binary_14_days</th>\n",
       "    </tr>\n",
       "  </thead>\n",
       "  <tbody>\n",
       "    <tr>\n",
       "      <th>0</th>\n",
       "      <td>e469dfaed039ead9110165d9bc457acb11609ca34057dc...</td>\n",
       "      <td>0.0</td>\n",
       "      <td>0.0</td>\n",
       "    </tr>\n",
       "    <tr>\n",
       "      <th>1</th>\n",
       "      <td>afcc639a324b6c598ef83d360450afa011cb2dd1358bf9...</td>\n",
       "      <td>0.0</td>\n",
       "      <td>0.0</td>\n",
       "    </tr>\n",
       "    <tr>\n",
       "      <th>2</th>\n",
       "      <td>fd5a7cf211d08e3e00f7be6a9df6e6ea3d2e5c22a5d9c3...</td>\n",
       "      <td>0.0</td>\n",
       "      <td>0.0</td>\n",
       "    </tr>\n",
       "    <tr>\n",
       "      <th>3</th>\n",
       "      <td>00bfff98b9d0329f014c2eeac7ce47cd18b2bc6e10d608...</td>\n",
       "      <td>0.0</td>\n",
       "      <td>0.0</td>\n",
       "    </tr>\n",
       "    <tr>\n",
       "      <th>4</th>\n",
       "      <td>0d298f3638c43e915c119d4935e1ce8d168f81b5e3e8c1...</td>\n",
       "      <td>0.0</td>\n",
       "      <td>0.0</td>\n",
       "    </tr>\n",
       "    <tr>\n",
       "      <th>5</th>\n",
       "      <td>7f7e3c5da13a555b2c2047c2c94b45d289ffa8083908cb...</td>\n",
       "      <td>0.0</td>\n",
       "      <td>0.0</td>\n",
       "    </tr>\n",
       "    <tr>\n",
       "      <th>6</th>\n",
       "      <td>28b5edd0510e8517462bae9d67a99f272d8ccc8ba2f79d...</td>\n",
       "      <td>0.0</td>\n",
       "      <td>0.0</td>\n",
       "    </tr>\n",
       "    <tr>\n",
       "      <th>7</th>\n",
       "      <td>b9433b9c4d559218e64469b6807cb516a5866572c1c30b...</td>\n",
       "      <td>0.0</td>\n",
       "      <td>0.0</td>\n",
       "    </tr>\n",
       "    <tr>\n",
       "      <th>8</th>\n",
       "      <td>607da741597a3b15fecf9a30c76e2e418b629c975e069a...</td>\n",
       "      <td>0.0</td>\n",
       "      <td>0.0</td>\n",
       "    </tr>\n",
       "    <tr>\n",
       "      <th>9</th>\n",
       "      <td>455ff7334b87646d3ecc05d2e0ef5a8d99dc8fa6573e54...</td>\n",
       "      <td>0.0</td>\n",
       "      <td>0.0</td>\n",
       "    </tr>\n",
       "    <tr>\n",
       "      <th>10</th>\n",
       "      <td>0a23294736669dba2418eebd55a7c17ab2b757f8d49038...</td>\n",
       "      <td>0.0</td>\n",
       "      <td>0.0</td>\n",
       "    </tr>\n",
       "    <tr>\n",
       "      <th>11</th>\n",
       "      <td>999c1cda7848197f0bb6d5ff85bd1b8d8253e0f7d35c67...</td>\n",
       "      <td>0.0</td>\n",
       "      <td>0.0</td>\n",
       "    </tr>\n",
       "    <tr>\n",
       "      <th>12</th>\n",
       "      <td>f85eb8251426ac596c270c8c198ed75d0e4d491d135727...</td>\n",
       "      <td>0.0</td>\n",
       "      <td>0.0</td>\n",
       "    </tr>\n",
       "    <tr>\n",
       "      <th>13</th>\n",
       "      <td>669908978da4542b640e50367c97cd25c4cd03cb2c6452...</td>\n",
       "      <td>0.0</td>\n",
       "      <td>0.0</td>\n",
       "    </tr>\n",
       "    <tr>\n",
       "      <th>14</th>\n",
       "      <td>1f7375c85b4a584cfdd935292cde6283afc02bf9652869...</td>\n",
       "      <td>0.0</td>\n",
       "      <td>0.0</td>\n",
       "    </tr>\n",
       "    <tr>\n",
       "      <th>15</th>\n",
       "      <td>05a351991df11ed5293b44c8dc667558cf94cfe90ab8bf...</td>\n",
       "      <td>0.0</td>\n",
       "      <td>0.0</td>\n",
       "    </tr>\n",
       "    <tr>\n",
       "      <th>16</th>\n",
       "      <td>d834b9ac2cf350e58f30b39e5d2e5396c656447fbaf2c7...</td>\n",
       "      <td>0.0</td>\n",
       "      <td>0.0</td>\n",
       "    </tr>\n",
       "    <tr>\n",
       "      <th>17</th>\n",
       "      <td>d6442676fbd56c1a16678d571a35979601c2673f257b46...</td>\n",
       "      <td>0.0</td>\n",
       "      <td>0.0</td>\n",
       "    </tr>\n",
       "    <tr>\n",
       "      <th>18</th>\n",
       "      <td>2c2e6e7803401b15646e46c7838e6af47f9e160fba0de9...</td>\n",
       "      <td>0.0</td>\n",
       "      <td>0.0</td>\n",
       "    </tr>\n",
       "    <tr>\n",
       "      <th>19</th>\n",
       "      <td>fad8b3fbeebfd41ebaa9d990cb95f1db6241a2e7cb5a2d...</td>\n",
       "      <td>0.0</td>\n",
       "      <td>0.0</td>\n",
       "    </tr>\n",
       "    <tr>\n",
       "      <th>20</th>\n",
       "      <td>1ee807893428caeb776e4a12d4ece9ade5f9345d632d97...</td>\n",
       "      <td>0.0</td>\n",
       "      <td>0.0</td>\n",
       "    </tr>\n",
       "    <tr>\n",
       "      <th>21</th>\n",
       "      <td>1a6471f33e2e87544d75a9476c6386b97223d7dcea9a80...</td>\n",
       "      <td>0.0</td>\n",
       "      <td>0.0</td>\n",
       "    </tr>\n",
       "    <tr>\n",
       "      <th>22</th>\n",
       "      <td>8ea75d72f2488fe2f6f72b6ea80a2329449b6820751b85...</td>\n",
       "      <td>0.0</td>\n",
       "      <td>0.0</td>\n",
       "    </tr>\n",
       "    <tr>\n",
       "      <th>23</th>\n",
       "      <td>c05cefbac99341e3f0dcb091a4f084b1ba9781b89b908b...</td>\n",
       "      <td>0.0</td>\n",
       "      <td>0.0</td>\n",
       "    </tr>\n",
       "    <tr>\n",
       "      <th>24</th>\n",
       "      <td>2b5e2ccd7e432d39d64a142a5054d0a57fa0ad8d1ea28c...</td>\n",
       "      <td>0.0</td>\n",
       "      <td>0.0</td>\n",
       "    </tr>\n",
       "    <tr>\n",
       "      <th>25</th>\n",
       "      <td>197b30cdcc72c07cca123b8fa1528fb138e7acf54c8163...</td>\n",
       "      <td>0.0</td>\n",
       "      <td>0.0</td>\n",
       "    </tr>\n",
       "    <tr>\n",
       "      <th>26</th>\n",
       "      <td>1c84a8cdbf4f20e7e141c616523f68fa847686df8deb27...</td>\n",
       "      <td>0.0</td>\n",
       "      <td>0.0</td>\n",
       "    </tr>\n",
       "    <tr>\n",
       "      <th>27</th>\n",
       "      <td>810b296a576b49a965fadfd764714555ed3168c32379da...</td>\n",
       "      <td>1.0</td>\n",
       "      <td>1.0</td>\n",
       "    </tr>\n",
       "    <tr>\n",
       "      <th>28</th>\n",
       "      <td>26b441d13ea8778f39bb970fb718a2a5f8984069904382...</td>\n",
       "      <td>0.0</td>\n",
       "      <td>0.0</td>\n",
       "    </tr>\n",
       "    <tr>\n",
       "      <th>29</th>\n",
       "      <td>5a977399f4d20c4f04c715c86bfba936babc627f3fc57e...</td>\n",
       "      <td>0.0</td>\n",
       "      <td>0.0</td>\n",
       "    </tr>\n",
       "    <tr>\n",
       "      <th>...</th>\n",
       "      <td>...</td>\n",
       "      <td>...</td>\n",
       "      <td>...</td>\n",
       "    </tr>\n",
       "    <tr>\n",
       "      <th>312538</th>\n",
       "      <td>60aa888a2e19e5e7406433d3ab38893064edf4de977a53...</td>\n",
       "      <td>0.0</td>\n",
       "      <td>0.0</td>\n",
       "    </tr>\n",
       "    <tr>\n",
       "      <th>312539</th>\n",
       "      <td>d58c5c20f5b6ea5ebfc5fa85bc0737325ccf6024d3b827...</td>\n",
       "      <td>0.0</td>\n",
       "      <td>0.0</td>\n",
       "    </tr>\n",
       "    <tr>\n",
       "      <th>312540</th>\n",
       "      <td>15a059c181bf72c300e72960f2ac39d0a695a04c5fb107...</td>\n",
       "      <td>0.0</td>\n",
       "      <td>0.0</td>\n",
       "    </tr>\n",
       "    <tr>\n",
       "      <th>312541</th>\n",
       "      <td>a0ff5b28fa0757a907876b4cddcc2f1fd298580360743d...</td>\n",
       "      <td>0.0</td>\n",
       "      <td>0.0</td>\n",
       "    </tr>\n",
       "    <tr>\n",
       "      <th>312542</th>\n",
       "      <td>7e05c4124da18e8fda6833ebe8afcc97eaa058f06ad926...</td>\n",
       "      <td>0.0</td>\n",
       "      <td>0.0</td>\n",
       "    </tr>\n",
       "    <tr>\n",
       "      <th>312543</th>\n",
       "      <td>5a03dd10dd4349faf7d8f51835e8a3e653e05f8e322ecc...</td>\n",
       "      <td>0.0</td>\n",
       "      <td>0.0</td>\n",
       "    </tr>\n",
       "    <tr>\n",
       "      <th>312544</th>\n",
       "      <td>f0cac1bb267352a7d768782a4b7d4187285f007f98fa1f...</td>\n",
       "      <td>0.0</td>\n",
       "      <td>0.0</td>\n",
       "    </tr>\n",
       "    <tr>\n",
       "      <th>312545</th>\n",
       "      <td>019758809bc1a94605a2b5413a2c99e055f14197df3970...</td>\n",
       "      <td>0.0</td>\n",
       "      <td>0.0</td>\n",
       "    </tr>\n",
       "    <tr>\n",
       "      <th>312546</th>\n",
       "      <td>20284f3a71470fadb37c797a7722dddfe841f85574eb11...</td>\n",
       "      <td>0.0</td>\n",
       "      <td>0.0</td>\n",
       "    </tr>\n",
       "    <tr>\n",
       "      <th>312547</th>\n",
       "      <td>44f9b09731dce5f37caa6c120581c5074892fd21bfb3fc...</td>\n",
       "      <td>0.0</td>\n",
       "      <td>0.0</td>\n",
       "    </tr>\n",
       "    <tr>\n",
       "      <th>312548</th>\n",
       "      <td>cf3885f099c0e58b45936a990b846651406d639e4ace11...</td>\n",
       "      <td>0.0</td>\n",
       "      <td>0.0</td>\n",
       "    </tr>\n",
       "    <tr>\n",
       "      <th>312549</th>\n",
       "      <td>0623e36945b26b073997d3613b0c16ea24a1f82316ef85...</td>\n",
       "      <td>0.0</td>\n",
       "      <td>0.0</td>\n",
       "    </tr>\n",
       "    <tr>\n",
       "      <th>312550</th>\n",
       "      <td>504c1102b3c3dde67dcc51f87ad3871053e3d4136cbd42...</td>\n",
       "      <td>0.0</td>\n",
       "      <td>0.0</td>\n",
       "    </tr>\n",
       "    <tr>\n",
       "      <th>312551</th>\n",
       "      <td>8fcb54a385512e6e55d0a0262d86bbaab29ab42c9a9e9d...</td>\n",
       "      <td>0.0</td>\n",
       "      <td>0.0</td>\n",
       "    </tr>\n",
       "    <tr>\n",
       "      <th>312552</th>\n",
       "      <td>86e77532430efd363a97c0e7ecb9dca5573c42d621a94f...</td>\n",
       "      <td>0.0</td>\n",
       "      <td>0.0</td>\n",
       "    </tr>\n",
       "    <tr>\n",
       "      <th>312553</th>\n",
       "      <td>4641ebc0f667506b9ddd17dbdd2b80cf7f38fcb93f34c9...</td>\n",
       "      <td>0.0</td>\n",
       "      <td>0.0</td>\n",
       "    </tr>\n",
       "    <tr>\n",
       "      <th>312554</th>\n",
       "      <td>06906abf42402103ad8fafe6747ce9da0bc4c18285bfb9...</td>\n",
       "      <td>0.0</td>\n",
       "      <td>0.0</td>\n",
       "    </tr>\n",
       "    <tr>\n",
       "      <th>312555</th>\n",
       "      <td>d79030495f47d9562bf01fd92c20d270a0a3544049ff93...</td>\n",
       "      <td>0.0</td>\n",
       "      <td>0.0</td>\n",
       "    </tr>\n",
       "    <tr>\n",
       "      <th>312556</th>\n",
       "      <td>1d54f591f2c94933650d5be8468629f77abb4a686675d7...</td>\n",
       "      <td>0.0</td>\n",
       "      <td>0.0</td>\n",
       "    </tr>\n",
       "    <tr>\n",
       "      <th>312557</th>\n",
       "      <td>19b9d41cafccd0a5581238bcba6caf8dc99ca694d3fd0b...</td>\n",
       "      <td>0.0</td>\n",
       "      <td>0.0</td>\n",
       "    </tr>\n",
       "    <tr>\n",
       "      <th>312558</th>\n",
       "      <td>e2d50916c164738953e69ead8bb6103fa07278c6f3c375...</td>\n",
       "      <td>0.0</td>\n",
       "      <td>0.0</td>\n",
       "    </tr>\n",
       "    <tr>\n",
       "      <th>312559</th>\n",
       "      <td>c075316ff6c7db47ddc20529bc130543627a1553d94ff7...</td>\n",
       "      <td>0.0</td>\n",
       "      <td>0.0</td>\n",
       "    </tr>\n",
       "    <tr>\n",
       "      <th>312560</th>\n",
       "      <td>b4f44c2e0ab19e979da00ba11bf039816a062e6567faff...</td>\n",
       "      <td>0.0</td>\n",
       "      <td>0.0</td>\n",
       "    </tr>\n",
       "    <tr>\n",
       "      <th>312561</th>\n",
       "      <td>844c32dec155747a0947e4811c0e79d47f0e4c487f82ae...</td>\n",
       "      <td>0.0</td>\n",
       "      <td>0.0</td>\n",
       "    </tr>\n",
       "    <tr>\n",
       "      <th>312562</th>\n",
       "      <td>4f6105d24bffc47ac89f3822b63ae7447968570d23cccb...</td>\n",
       "      <td>0.0</td>\n",
       "      <td>0.0</td>\n",
       "    </tr>\n",
       "    <tr>\n",
       "      <th>312563</th>\n",
       "      <td>3e88a0362a959c28547a67a251ac7c4f06bec000e44ff6...</td>\n",
       "      <td>0.0</td>\n",
       "      <td>0.0</td>\n",
       "    </tr>\n",
       "    <tr>\n",
       "      <th>312564</th>\n",
       "      <td>d07f513df9f2c459c002414a57adb3c602fd072668b049...</td>\n",
       "      <td>0.0</td>\n",
       "      <td>0.0</td>\n",
       "    </tr>\n",
       "    <tr>\n",
       "      <th>312565</th>\n",
       "      <td>050147798ae313856c1b90100851e9dc1b734f846018ec...</td>\n",
       "      <td>0.0</td>\n",
       "      <td>0.0</td>\n",
       "    </tr>\n",
       "    <tr>\n",
       "      <th>312566</th>\n",
       "      <td>126eea5d985b8300f80602e26def683ff1e225ef4b0a2c...</td>\n",
       "      <td>0.0</td>\n",
       "      <td>0.0</td>\n",
       "    </tr>\n",
       "    <tr>\n",
       "      <th>312567</th>\n",
       "      <td>c18b2f0c3ab82a4edc9375e3f889e2d0b8d7a7739a9c90...</td>\n",
       "      <td>0.0</td>\n",
       "      <td>0.0</td>\n",
       "    </tr>\n",
       "  </tbody>\n",
       "</table>\n",
       "<p>312568 rows × 3 columns</p>\n",
       "</div>"
      ],
      "text/plain": [
       "                                             user_id_hash  \\\n",
       "0       e469dfaed039ead9110165d9bc457acb11609ca34057dc...   \n",
       "1       afcc639a324b6c598ef83d360450afa011cb2dd1358bf9...   \n",
       "2       fd5a7cf211d08e3e00f7be6a9df6e6ea3d2e5c22a5d9c3...   \n",
       "3       00bfff98b9d0329f014c2eeac7ce47cd18b2bc6e10d608...   \n",
       "4       0d298f3638c43e915c119d4935e1ce8d168f81b5e3e8c1...   \n",
       "5       7f7e3c5da13a555b2c2047c2c94b45d289ffa8083908cb...   \n",
       "6       28b5edd0510e8517462bae9d67a99f272d8ccc8ba2f79d...   \n",
       "7       b9433b9c4d559218e64469b6807cb516a5866572c1c30b...   \n",
       "8       607da741597a3b15fecf9a30c76e2e418b629c975e069a...   \n",
       "9       455ff7334b87646d3ecc05d2e0ef5a8d99dc8fa6573e54...   \n",
       "10      0a23294736669dba2418eebd55a7c17ab2b757f8d49038...   \n",
       "11      999c1cda7848197f0bb6d5ff85bd1b8d8253e0f7d35c67...   \n",
       "12      f85eb8251426ac596c270c8c198ed75d0e4d491d135727...   \n",
       "13      669908978da4542b640e50367c97cd25c4cd03cb2c6452...   \n",
       "14      1f7375c85b4a584cfdd935292cde6283afc02bf9652869...   \n",
       "15      05a351991df11ed5293b44c8dc667558cf94cfe90ab8bf...   \n",
       "16      d834b9ac2cf350e58f30b39e5d2e5396c656447fbaf2c7...   \n",
       "17      d6442676fbd56c1a16678d571a35979601c2673f257b46...   \n",
       "18      2c2e6e7803401b15646e46c7838e6af47f9e160fba0de9...   \n",
       "19      fad8b3fbeebfd41ebaa9d990cb95f1db6241a2e7cb5a2d...   \n",
       "20      1ee807893428caeb776e4a12d4ece9ade5f9345d632d97...   \n",
       "21      1a6471f33e2e87544d75a9476c6386b97223d7dcea9a80...   \n",
       "22      8ea75d72f2488fe2f6f72b6ea80a2329449b6820751b85...   \n",
       "23      c05cefbac99341e3f0dcb091a4f084b1ba9781b89b908b...   \n",
       "24      2b5e2ccd7e432d39d64a142a5054d0a57fa0ad8d1ea28c...   \n",
       "25      197b30cdcc72c07cca123b8fa1528fb138e7acf54c8163...   \n",
       "26      1c84a8cdbf4f20e7e141c616523f68fa847686df8deb27...   \n",
       "27      810b296a576b49a965fadfd764714555ed3168c32379da...   \n",
       "28      26b441d13ea8778f39bb970fb718a2a5f8984069904382...   \n",
       "29      5a977399f4d20c4f04c715c86bfba936babc627f3fc57e...   \n",
       "...                                                   ...   \n",
       "312538  60aa888a2e19e5e7406433d3ab38893064edf4de977a53...   \n",
       "312539  d58c5c20f5b6ea5ebfc5fa85bc0737325ccf6024d3b827...   \n",
       "312540  15a059c181bf72c300e72960f2ac39d0a695a04c5fb107...   \n",
       "312541  a0ff5b28fa0757a907876b4cddcc2f1fd298580360743d...   \n",
       "312542  7e05c4124da18e8fda6833ebe8afcc97eaa058f06ad926...   \n",
       "312543  5a03dd10dd4349faf7d8f51835e8a3e653e05f8e322ecc...   \n",
       "312544  f0cac1bb267352a7d768782a4b7d4187285f007f98fa1f...   \n",
       "312545  019758809bc1a94605a2b5413a2c99e055f14197df3970...   \n",
       "312546  20284f3a71470fadb37c797a7722dddfe841f85574eb11...   \n",
       "312547  44f9b09731dce5f37caa6c120581c5074892fd21bfb3fc...   \n",
       "312548  cf3885f099c0e58b45936a990b846651406d639e4ace11...   \n",
       "312549  0623e36945b26b073997d3613b0c16ea24a1f82316ef85...   \n",
       "312550  504c1102b3c3dde67dcc51f87ad3871053e3d4136cbd42...   \n",
       "312551  8fcb54a385512e6e55d0a0262d86bbaab29ab42c9a9e9d...   \n",
       "312552  86e77532430efd363a97c0e7ecb9dca5573c42d621a94f...   \n",
       "312553  4641ebc0f667506b9ddd17dbdd2b80cf7f38fcb93f34c9...   \n",
       "312554  06906abf42402103ad8fafe6747ce9da0bc4c18285bfb9...   \n",
       "312555  d79030495f47d9562bf01fd92c20d270a0a3544049ff93...   \n",
       "312556  1d54f591f2c94933650d5be8468629f77abb4a686675d7...   \n",
       "312557  19b9d41cafccd0a5581238bcba6caf8dc99ca694d3fd0b...   \n",
       "312558  e2d50916c164738953e69ead8bb6103fa07278c6f3c375...   \n",
       "312559  c075316ff6c7db47ddc20529bc130543627a1553d94ff7...   \n",
       "312560  b4f44c2e0ab19e979da00ba11bf039816a062e6567faff...   \n",
       "312561  844c32dec155747a0947e4811c0e79d47f0e4c487f82ae...   \n",
       "312562  4f6105d24bffc47ac89f3822b63ae7447968570d23cccb...   \n",
       "312563  3e88a0362a959c28547a67a251ac7c4f06bec000e44ff6...   \n",
       "312564  d07f513df9f2c459c002414a57adb3c602fd072668b049...   \n",
       "312565  050147798ae313856c1b90100851e9dc1b734f846018ec...   \n",
       "312566  126eea5d985b8300f80602e26def683ff1e225ef4b0a2c...   \n",
       "312567  c18b2f0c3ab82a4edc9375e3f889e2d0b8d7a7739a9c90...   \n",
       "\n",
       "        user_purchase_binary_7_days  user_purchase_binary_14_days  \n",
       "0                               0.0                           0.0  \n",
       "1                               0.0                           0.0  \n",
       "2                               0.0                           0.0  \n",
       "3                               0.0                           0.0  \n",
       "4                               0.0                           0.0  \n",
       "5                               0.0                           0.0  \n",
       "6                               0.0                           0.0  \n",
       "7                               0.0                           0.0  \n",
       "8                               0.0                           0.0  \n",
       "9                               0.0                           0.0  \n",
       "10                              0.0                           0.0  \n",
       "11                              0.0                           0.0  \n",
       "12                              0.0                           0.0  \n",
       "13                              0.0                           0.0  \n",
       "14                              0.0                           0.0  \n",
       "15                              0.0                           0.0  \n",
       "16                              0.0                           0.0  \n",
       "17                              0.0                           0.0  \n",
       "18                              0.0                           0.0  \n",
       "19                              0.0                           0.0  \n",
       "20                              0.0                           0.0  \n",
       "21                              0.0                           0.0  \n",
       "22                              0.0                           0.0  \n",
       "23                              0.0                           0.0  \n",
       "24                              0.0                           0.0  \n",
       "25                              0.0                           0.0  \n",
       "26                              0.0                           0.0  \n",
       "27                              1.0                           1.0  \n",
       "28                              0.0                           0.0  \n",
       "29                              0.0                           0.0  \n",
       "...                             ...                           ...  \n",
       "312538                          0.0                           0.0  \n",
       "312539                          0.0                           0.0  \n",
       "312540                          0.0                           0.0  \n",
       "312541                          0.0                           0.0  \n",
       "312542                          0.0                           0.0  \n",
       "312543                          0.0                           0.0  \n",
       "312544                          0.0                           0.0  \n",
       "312545                          0.0                           0.0  \n",
       "312546                          0.0                           0.0  \n",
       "312547                          0.0                           0.0  \n",
       "312548                          0.0                           0.0  \n",
       "312549                          0.0                           0.0  \n",
       "312550                          0.0                           0.0  \n",
       "312551                          0.0                           0.0  \n",
       "312552                          0.0                           0.0  \n",
       "312553                          0.0                           0.0  \n",
       "312554                          0.0                           0.0  \n",
       "312555                          0.0                           0.0  \n",
       "312556                          0.0                           0.0  \n",
       "312557                          0.0                           0.0  \n",
       "312558                          0.0                           0.0  \n",
       "312559                          0.0                           0.0  \n",
       "312560                          0.0                           0.0  \n",
       "312561                          0.0                           0.0  \n",
       "312562                          0.0                           0.0  \n",
       "312563                          0.0                           0.0  \n",
       "312564                          0.0                           0.0  \n",
       "312565                          0.0                           0.0  \n",
       "312566                          0.0                           0.0  \n",
       "312567                          0.0                           0.0  \n",
       "\n",
       "[312568 rows x 3 columns]"
      ]
     },
     "execution_count": 109,
     "metadata": {},
     "output_type": "execute_result"
    }
   ],
   "source": [
    "result_model_rf"
   ]
  },
  {
   "cell_type": "code",
   "execution_count": 110,
   "metadata": {},
   "outputs": [],
   "source": [
    "result_model1 = result_model1.sort_values(by=['user_purchase_binary_7_days', 'user_purchase_binary_14_days'])"
   ]
  },
  {
   "cell_type": "markdown",
   "metadata": {},
   "source": [
    "Save as csv to submit"
   ]
  },
  {
   "cell_type": "code",
   "execution_count": 111,
   "metadata": {},
   "outputs": [],
   "source": [
    "result_model1.to_csv('result_rf.csv',index=False)"
   ]
  },
  {
   "cell_type": "code",
   "execution_count": null,
   "metadata": {},
   "outputs": [],
   "source": []
  }
 ],
 "metadata": {
  "kernelspec": {
   "display_name": "Python 3",
   "language": "python",
   "name": "python3"
  },
  "language_info": {
   "codemirror_mode": {
    "name": "ipython",
    "version": 3
   },
   "file_extension": ".py",
   "mimetype": "text/x-python",
   "name": "python",
   "nbconvert_exporter": "python",
   "pygments_lexer": "ipython3",
   "version": "3.6.5"
  }
 },
 "nbformat": 4,
 "nbformat_minor": 2
}
