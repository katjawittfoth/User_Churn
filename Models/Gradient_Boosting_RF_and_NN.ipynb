{
 "cells": [
  {
   "cell_type": "code",
   "execution_count": 1,
   "metadata": {
    "ExecuteTime": {
     "end_time": "2019-02-27T05:58:29.760042Z",
     "start_time": "2019-02-27T05:58:29.738297Z"
    }
   },
   "outputs": [],
   "source": [
    "import pandas as pd\n",
    "from datetime import datetime\n",
    "import numpy as np\n",
    "from sklearn.metrics import roc_auc_score\n",
    "from sklearn.model_selection import train_test_split\n",
    "import xgboost as xgb"
   ]
  },
  {
   "cell_type": "code",
   "execution_count": 2,
   "metadata": {
    "ExecuteTime": {
     "end_time": "2019-02-27T05:31:17.359100Z",
     "start_time": "2019-02-27T05:31:14.768811Z"
    }
   },
   "outputs": [],
   "source": [
    "feature_train = pd.read_csv(\"feature_train.csv\")\n",
    "feature_test = pd.read_csv(\"feature_test.csv\")"
   ]
  },
  {
   "cell_type": "code",
   "execution_count": 3,
   "metadata": {
    "ExecuteTime": {
     "end_time": "2019-02-27T05:31:20.317015Z",
     "start_time": "2019-02-27T05:31:20.245220Z"
    }
   },
   "outputs": [],
   "source": [
    "X_train_7 = feature_train[['unique_session','sessions_duration', 'value_purchase', 'pct_city','0']]\n",
    "y_train_7 = feature_train['user_purchase_binary_7_days']\n",
    "\n",
    "X_train_14 = feature_train[['unique_session','sessions_duration', 'value_purchase', 'pct_city','0']]\n",
    "y_train_14 = feature_train['user_purchase_binary_14_days']"
   ]
  },
  {
   "cell_type": "markdown",
   "metadata": {},
   "source": [
    "## Random Forest"
   ]
  },
  {
   "cell_type": "code",
   "execution_count": 98,
   "metadata": {
    "ExecuteTime": {
     "end_time": "2019-02-27T05:31:40.854483Z",
     "start_time": "2019-02-27T05:31:40.700115Z"
    }
   },
   "outputs": [],
   "source": [
    "# train test split\n",
    "X_train, X_val, y_train, y_val = train_test_split(X_train_7, y_train_7, test_size=0.2)"
   ]
  },
  {
   "cell_type": "code",
   "execution_count": 99,
   "metadata": {
    "ExecuteTime": {
     "end_time": "2019-02-27T05:44:50.278412Z",
     "start_time": "2019-02-27T05:44:50.275688Z"
    }
   },
   "outputs": [],
   "source": [
    "from sklearn.ensemble import RandomForestClassifier\n",
    "rf_7 = RandomForestClassifier(n_estimators=500, max_depth=20,criterion='entropy',oob_score=True)"
   ]
  },
  {
   "cell_type": "code",
   "execution_count": 100,
   "metadata": {
    "ExecuteTime": {
     "end_time": "2019-02-27T05:51:37.069658Z",
     "start_time": "2019-02-27T05:44:51.739233Z"
    }
   },
   "outputs": [
    {
     "data": {
      "text/plain": [
       "RandomForestClassifier(bootstrap=True, class_weight=None, criterion='entropy',\n",
       "            max_depth=20, max_features='auto', max_leaf_nodes=None,\n",
       "            min_impurity_decrease=0.0, min_impurity_split=None,\n",
       "            min_samples_leaf=1, min_samples_split=2,\n",
       "            min_weight_fraction_leaf=0.0, n_estimators=500, n_jobs=None,\n",
       "            oob_score=True, random_state=None, verbose=0, warm_start=False)"
      ]
     },
     "execution_count": 100,
     "metadata": {},
     "output_type": "execute_result"
    }
   ],
   "source": [
    "rf_7.fit(X_train,y_train)"
   ]
  },
  {
   "cell_type": "code",
   "execution_count": 101,
   "metadata": {},
   "outputs": [
    {
     "data": {
      "text/plain": [
       "0.9602652353969238"
      ]
     },
     "execution_count": 101,
     "metadata": {},
     "output_type": "execute_result"
    }
   ],
   "source": [
    "y_hat = rf_7.predict_proba(X_val)\n",
    "y_pred = pd.DataFrame(y_hat)[1]\n",
    "roc_auc_score(y_val,y_pred)"
   ]
  },
  {
   "cell_type": "code",
   "execution_count": 103,
   "metadata": {},
   "outputs": [
    {
     "data": {
      "text/plain": [
       "0.9573440863992689"
      ]
     },
     "execution_count": 103,
     "metadata": {},
     "output_type": "execute_result"
    }
   ],
   "source": [
    "X_train, X_val, y_train, y_val = train_test_split(X_train_14, y_train_14, test_size=0.2)\n",
    "rf_14 = RandomForestClassifier(n_estimators=500, max_depth=20,criterion='entropy',oob_score=True)\n",
    "rf_14.fit(X_train,y_train)\n",
    "y_hat = rf_14.predict_proba(X_val)\n",
    "y_pred = pd.DataFrame(y_hat)[1]\n",
    "roc_auc_score(y_val,y_pred)"
   ]
  },
  {
   "cell_type": "markdown",
   "metadata": {},
   "source": [
    "## Gradient Boosting"
   ]
  },
  {
   "cell_type": "code",
   "execution_count": 105,
   "metadata": {},
   "outputs": [],
   "source": [
    "def feature_imp(model):\n",
    "    feat_imp = pd.Series(model.get_booster().get_score(importance_type='weight')).sort_values(ascending=False)\n",
    "    feat_imp.plot(kind='bar', title = 'Feature Importance')\n",
    "    plt.ylabel('Feature Importance Score')"
   ]
  },
  {
   "cell_type": "code",
   "execution_count": 145,
   "metadata": {
    "ExecuteTime": {
     "end_time": "2019-02-27T05:58:37.026615Z",
     "start_time": "2019-02-27T05:58:36.970026Z"
    }
   },
   "outputs": [],
   "source": [
    "X_train_7 = feature_train[['unique_session','purchase_before', 'value_purchase','sessions_duration','pct_country','pct_city','0','66']]\n",
    "y_train_7 = feature_train['user_purchase_binary_7_days']\n",
    "\n",
    "X_train_14 = feature_train[['unique_session','purchase_before', 'value_purchase','sessions_duration','pct_country','0','66']]\n",
    "y_train_14 = feature_train['user_purchase_binary_14_days']"
   ]
  },
  {
   "cell_type": "code",
   "execution_count": 179,
   "metadata": {
    "ExecuteTime": {
     "end_time": "2019-02-27T06:20:02.757378Z",
     "start_time": "2019-02-27T06:08:17.741792Z"
    }
   },
   "outputs": [
    {
     "data": {
      "text/plain": [
       "XGBClassifier(base_score=0.5, booster='gbtree', colsample_bylevel=1,\n",
       "       colsample_bytree=1, gamma=0, learning_rate=0.1, max_delta_step=0,\n",
       "       max_depth=20, min_child_weight=1, missing=None, n_estimators=400,\n",
       "       n_jobs=1, nthread=None, objective='binary:logistic', random_state=0,\n",
       "       reg_alpha=0, reg_lambda=1, scale_pos_weight=1, seed=None,\n",
       "       silent=True, subsample=1)"
      ]
     },
     "execution_count": 179,
     "metadata": {},
     "output_type": "execute_result"
    }
   ],
   "source": [
    "X_train, X_val, y_train, y_val = train_test_split(X_train_7, y_train_7, test_size=0.2)\n",
    "model_7 = xgb.XGBClassifier(n_estimators=400,max_depth=20)\n",
    "model_7.fit(X_train,y_train)"
   ]
  },
  {
   "cell_type": "code",
   "execution_count": 180,
   "metadata": {},
   "outputs": [
    {
     "name": "stdout",
     "output_type": "stream",
     "text": [
      "0.9603390677070966\n"
     ]
    },
    {
     "data": {
      "image/png": "[encoded data removed]",
      "text/plain": [
       "<matplotlib.figure.Figure at 0x1a51233860>"
      ]
     },
     "metadata": {
      "needs_background": "light"
     },
     "output_type": "display_data"
    }
   ],
   "source": [
    "y_hat = model_7.predict_proba(X_val)\n",
    "y_pred = pd.DataFrame(y_hat)[1]\n",
    "print(roc_auc_score(y_val,y_pred))\n",
    "feature_imp(model_7)"
   ]
  },
  {
   "cell_type": "code",
   "execution_count": 185,
   "metadata": {
    "ExecuteTime": {
     "end_time": "2019-02-27T06:31:45.456519Z",
     "start_time": "2019-02-27T06:22:19.757298Z"
    }
   },
   "outputs": [
    {
     "data": {
      "text/plain": [
       "XGBClassifier(base_score=0.5, booster='gbtree', colsample_bylevel=1,\n",
       "       colsample_bytree=1, gamma=0, learning_rate=0.1, max_delta_step=0,\n",
       "       max_depth=20, min_child_weight=1, missing=None, n_estimators=400,\n",
       "       n_jobs=1, nthread=None, objective='binary:logistic', random_state=0,\n",
       "       reg_alpha=0, reg_lambda=1, scale_pos_weight=1, seed=None,\n",
       "       silent=True, subsample=1)"
      ]
     },
     "execution_count": 185,
     "metadata": {},
     "output_type": "execute_result"
    }
   ],
   "source": [
    "X_train, X_val, y_train, y_val = train_test_split(X_train_14, y_train_14, test_size=0.2)\n",
    "model_14 = xgb.XGBClassifier(n_estimators=400,max_depth=20)\n",
    "model_14.fit(X_train,y_train)"
   ]
  },
  {
   "cell_type": "code",
   "execution_count": 186,
   "metadata": {
    "ExecuteTime": {
     "end_time": "2019-02-27T06:43:03.988444Z",
     "start_time": "2019-02-27T06:42:56.482067Z"
    }
   },
   "outputs": [
    {
     "name": "stdout",
     "output_type": "stream",
     "text": [
      "0.9616371145906939\n"
     ]
    },
    {
     "data": {
      "image/png": "[encoded data removed]",
      "text/plain": [
       "<matplotlib.figure.Figure at 0x1a3fd06e80>"
      ]
     },
     "metadata": {
      "needs_background": "light"
     },
     "output_type": "display_data"
    }
   ],
   "source": [
    "y_hat = model_14.predict_proba(X_val)\n",
    "y_pred = pd.DataFrame(y_hat)[1]\n",
    "print(roc_auc_score(y_val,y_pred))\n",
    "feature_imp(model_14)"
   ]
  },
  {
   "cell_type": "markdown",
   "metadata": {},
   "source": [
    "## Under sampling"
   ]
  },
  {
   "cell_type": "code",
   "execution_count": 25,
   "metadata": {
    "ExecuteTime": {
     "end_time": "2019-02-27T06:43:09.282212Z",
     "start_time": "2019-02-27T06:43:08.703116Z"
    }
   },
   "outputs": [],
   "source": [
    "df_train, df_val = train_test_split(feature_train, test_size=0.2)\n",
    "no_purchase = len(df_train[df_train['user_purchase_binary_7_days'] == 1])\n",
    "non_purchase_indices = df_train[df_train['user_purchase_binary_7_days'] == 0].index\n",
    "random_indices = np.random.choice(non_purchase_indices, no_purchase, replace=False)\n",
    "purchase_indices = df_train[df_train['user_purchase_binary_7_days'] == 1].index\n",
    "under_sample_indices = np.concatenate([purchase_indices,random_indices])\n",
    "under_sample = df_train.loc[under_sample_indices]"
   ]
  },
  {
   "cell_type": "code",
   "execution_count": 26,
   "metadata": {
    "ExecuteTime": {
     "end_time": "2019-02-27T06:43:12.861927Z",
     "start_time": "2019-02-27T06:43:12.845757Z"
    }
   },
   "outputs": [],
   "source": [
    "X_train_7 = under_sample[['unique_session','purchase_before', 'value_purchase','sessions_duration','pct_country','pct_city','0','66']]\n",
    "y_train_7 = under_sample['user_purchase_binary_7_days']\n",
    "X_val_7 = df_val[['unique_session','purchase_before', 'value_purchase','sessions_duration','pct_country','pct_city','0','66']]\n",
    "y_val_7 = df_val['user_purchase_binary_7_days']"
   ]
  },
  {
   "cell_type": "code",
   "execution_count": 27,
   "metadata": {
    "ExecuteTime": {
     "end_time": "2019-02-27T06:43:28.456676Z",
     "start_time": "2019-02-27T06:43:13.766934Z"
    }
   },
   "outputs": [
    {
     "data": {
      "text/plain": [
       "XGBClassifier(base_score=0.5, booster='gbtree', colsample_bylevel=1,\n",
       "       colsample_bytree=1, gamma=0, learning_rate=0.01, max_delta_step=0,\n",
       "       max_depth=50, min_child_weight=1, missing=None, n_estimators=1000,\n",
       "       n_jobs=1, nthread=None, objective='binary:logistic', random_state=0,\n",
       "       reg_alpha=0, reg_lambda=1, scale_pos_weight=1, seed=None,\n",
       "       silent=True, subsample=1)"
      ]
     },
     "execution_count": 27,
     "metadata": {},
     "output_type": "execute_result"
    }
   ],
   "source": [
    "model_7_under = xgb.XGBClassifier(n_estimators=1000,max_depth=50, learning_rate=0.01)\n",
    "model_7_under.fit(X_train_7,y_train_7)"
   ]
  },
  {
   "cell_type": "code",
   "execution_count": 28,
   "metadata": {
    "ExecuteTime": {
     "end_time": "2019-02-27T06:43:54.151568Z",
     "start_time": "2019-02-27T06:43:44.157941Z"
    }
   },
   "outputs": [
    {
     "data": {
      "text/plain": [
       "0.9847980823482678"
      ]
     },
     "execution_count": 28,
     "metadata": {},
     "output_type": "execute_result"
    }
   ],
   "source": [
    "y_hat = model_7_under.predict_proba(X_val_7)\n",
    "y_pred = pd.DataFrame(y_hat)[1]\n",
    "roc_auc_score(y_val_7,y_pred)"
   ]
  },
  {
   "cell_type": "code",
   "execution_count": 29,
   "metadata": {
    "ExecuteTime": {
     "end_time": "2019-02-27T06:43:54.557624Z",
     "start_time": "2019-02-27T06:43:54.153751Z"
    }
   },
   "outputs": [],
   "source": [
    "df_train, df_val = train_test_split(feature_train, test_size=0.2)\n",
    "no_purchase = len(df_train[df_train['user_purchase_binary_14_days'] == 1])\n",
    "non_purchase_indices = df_train[df_train['user_purchase_binary_14_days'] == 0].index\n",
    "random_indices = np.random.choice(non_purchase_indices, no_purchase, replace=False)\n",
    "purchase_indices = df_train[df_train['user_purchase_binary_14_days'] == 1].index\n",
    "under_sample_indices = np.concatenate([purchase_indices,random_indices])\n",
    "under_sample = df_train.loc[under_sample_indices]"
   ]
  },
  {
   "cell_type": "code",
   "execution_count": 30,
   "metadata": {
    "ExecuteTime": {
     "end_time": "2019-02-27T06:43:54.576149Z",
     "start_time": "2019-02-27T06:43:54.559574Z"
    }
   },
   "outputs": [],
   "source": [
    "X_train_14 = under_sample[['unique_session','purchase_before', 'value_purchase','sessions_duration','pct_country','pct_city','0','66']]\n",
    "y_train_14 = under_sample['user_purchase_binary_14_days']\n",
    "X_val_14 = df_val[['unique_session','purchase_before', 'value_purchase','sessions_duration','pct_country','pct_city','0','66']]\n",
    "y_val_14 = df_val['user_purchase_binary_14_days']"
   ]
  },
  {
   "cell_type": "code",
   "execution_count": 32,
   "metadata": {
    "ExecuteTime": {
     "end_time": "2019-02-27T06:44:30.286829Z",
     "start_time": "2019-02-27T06:44:08.959143Z"
    }
   },
   "outputs": [
    {
     "data": {
      "text/plain": [
       "XGBClassifier(base_score=0.5, booster='gbtree', colsample_bylevel=1,\n",
       "       colsample_bytree=1, gamma=0, learning_rate=0.01, max_delta_step=0,\n",
       "       max_depth=50, min_child_weight=1, missing=None, n_estimators=1000,\n",
       "       n_jobs=1, nthread=None, objective='binary:logistic', random_state=0,\n",
       "       reg_alpha=0, reg_lambda=1, scale_pos_weight=1, seed=None,\n",
       "       silent=True, subsample=1)"
      ]
     },
     "execution_count": 32,
     "metadata": {},
     "output_type": "execute_result"
    }
   ],
   "source": [
    "model_14_under = xgb.XGBClassifier(n_estimators=1000,max_depth=50, learning_rate=0.01)\n",
    "model_14_under.fit(X_train_14,y_train_14)"
   ]
  },
  {
   "cell_type": "code",
   "execution_count": 33,
   "metadata": {
    "ExecuteTime": {
     "end_time": "2019-02-27T06:44:46.556159Z",
     "start_time": "2019-02-27T06:44:34.178312Z"
    }
   },
   "outputs": [
    {
     "data": {
      "text/plain": [
       "0.9838669445099735"
      ]
     },
     "execution_count": 33,
     "metadata": {},
     "output_type": "execute_result"
    }
   ],
   "source": [
    "y_hat = model_14_under.predict_proba(X_val_14)\n",
    "y_pred = pd.DataFrame(y_hat)[1]\n",
    "roc_auc_score(y_val_14,y_pred)"
   ]
  },
  {
   "cell_type": "markdown",
   "metadata": {},
   "source": [
    "# Hyperparameter Tuning"
   ]
  },
  {
   "cell_type": "code",
   "execution_count": 93,
   "metadata": {},
   "outputs": [],
   "source": [
    "import matplotlib.pylab as plt"
   ]
  },
  {
   "cell_type": "code",
   "execution_count": 7,
   "metadata": {},
   "outputs": [],
   "source": [
    "X_train_7, X_val_7, y_train_7, y_val_7 = train_test_split(X_train_7, y_train_7, test_size=0.2)\n",
    "X_train_14, X_val_14, y_train_14, y_val_14 = train_test_split(X_train_14, y_train_14, test_size=0.2)"
   ]
  },
  {
   "cell_type": "code",
   "execution_count": 163,
   "metadata": {},
   "outputs": [
    {
     "data": {
      "text/html": [
       "<div>\n",
       "<style scoped>\n",
       "    .dataframe tbody tr th:only-of-type {\n",
       "        vertical-align: middle;\n",
       "    }\n",
       "\n",
       "    .dataframe tbody tr th {\n",
       "        vertical-align: top;\n",
       "    }\n",
       "\n",
       "    .dataframe thead th {\n",
       "        text-align: right;\n",
       "    }\n",
       "</style>\n",
       "<table border=\"1\" class=\"dataframe\">\n",
       "  <thead>\n",
       "    <tr style=\"text-align: right;\">\n",
       "      <th></th>\n",
       "      <th>unique_session</th>\n",
       "      <th>purchase_before</th>\n",
       "      <th>value_purchase</th>\n",
       "      <th>sessions_duration</th>\n",
       "      <th>os_freq</th>\n",
       "      <th>pct_country</th>\n",
       "      <th>pct_city</th>\n",
       "      <th>0</th>\n",
       "      <th>66</th>\n",
       "      <th>67</th>\n",
       "    </tr>\n",
       "  </thead>\n",
       "  <tbody>\n",
       "    <tr>\n",
       "      <th>40023</th>\n",
       "      <td>4.0</td>\n",
       "      <td>0.0</td>\n",
       "      <td>0.0</td>\n",
       "      <td>0.001861</td>\n",
       "      <td>0.676836</td>\n",
       "      <td>0.001404</td>\n",
       "      <td>0.00000</td>\n",
       "      <td>4.0</td>\n",
       "      <td>1.0</td>\n",
       "      <td>0.0</td>\n",
       "    </tr>\n",
       "    <tr>\n",
       "      <th>73159</th>\n",
       "      <td>32.0</td>\n",
       "      <td>0.0</td>\n",
       "      <td>0.0</td>\n",
       "      <td>0.039422</td>\n",
       "      <td>0.311655</td>\n",
       "      <td>0.004113</td>\n",
       "      <td>0.00954</td>\n",
       "      <td>43.0</td>\n",
       "      <td>1.0</td>\n",
       "      <td>29.0</td>\n",
       "    </tr>\n",
       "    <tr>\n",
       "      <th>30421</th>\n",
       "      <td>2.0</td>\n",
       "      <td>0.0</td>\n",
       "      <td>0.0</td>\n",
       "      <td>0.000909</td>\n",
       "      <td>0.676836</td>\n",
       "      <td>0.004113</td>\n",
       "      <td>0.00954</td>\n",
       "      <td>2.0</td>\n",
       "      <td>0.0</td>\n",
       "      <td>0.0</td>\n",
       "    </tr>\n",
       "    <tr>\n",
       "      <th>167482</th>\n",
       "      <td>1.0</td>\n",
       "      <td>0.0</td>\n",
       "      <td>0.0</td>\n",
       "      <td>0.000000</td>\n",
       "      <td>0.311655</td>\n",
       "      <td>0.004113</td>\n",
       "      <td>0.00000</td>\n",
       "      <td>0.0</td>\n",
       "      <td>0.0</td>\n",
       "      <td>0.0</td>\n",
       "    </tr>\n",
       "    <tr>\n",
       "      <th>160864</th>\n",
       "      <td>2.0</td>\n",
       "      <td>0.0</td>\n",
       "      <td>0.0</td>\n",
       "      <td>0.000626</td>\n",
       "      <td>0.311655</td>\n",
       "      <td>0.001138</td>\n",
       "      <td>0.00000</td>\n",
       "      <td>0.0</td>\n",
       "      <td>0.0</td>\n",
       "      <td>0.0</td>\n",
       "    </tr>\n",
       "  </tbody>\n",
       "</table>\n",
       "</div>"
      ],
      "text/plain": [
       "        unique_session  purchase_before  value_purchase  sessions_duration  \\\n",
       "40023              4.0              0.0             0.0           0.001861   \n",
       "73159             32.0              0.0             0.0           0.039422   \n",
       "30421              2.0              0.0             0.0           0.000909   \n",
       "167482             1.0              0.0             0.0           0.000000   \n",
       "160864             2.0              0.0             0.0           0.000626   \n",
       "\n",
       "         os_freq  pct_country  pct_city     0   66    67  \n",
       "40023   0.676836     0.001404   0.00000   4.0  1.0   0.0  \n",
       "73159   0.311655     0.004113   0.00954  43.0  1.0  29.0  \n",
       "30421   0.676836     0.004113   0.00954   2.0  0.0   0.0  \n",
       "167482  0.311655     0.004113   0.00000   0.0  0.0   0.0  \n",
       "160864  0.311655     0.001138   0.00000   0.0  0.0   0.0  "
      ]
     },
     "execution_count": 163,
     "metadata": {},
     "output_type": "execute_result"
    }
   ],
   "source": [
    "X_val_7.head()"
   ]
  },
  {
   "cell_type": "code",
   "execution_count": 129,
   "metadata": {},
   "outputs": [],
   "source": [
    "def feature_imp(model):\n",
    "    feat_imp = pd.Series(model.get_booster().get_score(importance_type='weight')).sort_values(ascending=False)\n",
    "    feat_imp.plot(kind='bar', title = 'Feature Importance')\n",
    "    plt.ylabel('Feature Importance Score')\n",
    "    \n",
    "def xgbfit(model):  \n",
    "    model.fit(X_train_7, y_train_7, eval_metric='auc')\n",
    "    y_hat_7 = model.predict_proba(X_val_7)\n",
    "    y_pred_7 = pd.DataFrame(y_hat_7)[1]\n",
    "    auc_7 = roc_auc_score(y_val_7, y_pred_7)\n",
    "    print(f\"Val AUC for 7 days: {auc_7}\")\n",
    "    \n",
    "    model.fit(X_train_14, y_train_14, eval_metric='auc')\n",
    "    y_hat_14 = model.predict_proba(X_val_14)\n",
    "    y_pred_14 = pd.DataFrame(y_hat_14)[1]\n",
    "    auc_14 = roc_auc_score(y_val_14, y_pred_14)\n",
    "    print(f\"Val AUC for 14 days: {auc_14}\")"
   ]
  },
  {
   "cell_type": "code",
   "execution_count": 130,
   "metadata": {},
   "outputs": [
    {
     "name": "stdout",
     "output_type": "stream",
     "text": [
      "Val AUC for 7 days: 0.9763009042073586\n",
      "Val AUC for 14 days: 0.9743702115220907\n"
     ]
    }
   ],
   "source": [
    "# Setting initial values:\n",
    "\n",
    "xgb1 = xgb.XGBClassifier(\n",
    " learning_rate =0.1,\n",
    " n_estimators=400,\n",
    " max_depth=5,\n",
    " min_child_weight=1,\n",
    " gamma=0,\n",
    " subsample=0.8,\n",
    " colsample_bytree=0.8,\n",
    " objective= 'binary:logistic',\n",
    " nthread=4,\n",
    " scale_pos_weight=1,\n",
    " seed=42)\n",
    "\n",
    "xgbfit(xgb1)"
   ]
  },
  {
   "cell_type": "code",
   "execution_count": 136,
   "metadata": {},
   "outputs": [
    {
     "data": {
      "text/plain": [
       "({'max_depth': 3, 'min_child_weight': 3}, 0.9742951132251753)"
      ]
     },
     "execution_count": 136,
     "metadata": {},
     "output_type": "execute_result"
    }
   ],
   "source": [
    "# Tuning max_depth and child_weight\n",
    "from sklearn.model_selection import GridSearchCV \n",
    "\n",
    "param_test_1 = {\n",
    " 'max_depth': [2,3,5,10,15],\n",
    " 'min_child_weight':range(1,6,2)\n",
    "}\n",
    "\n",
    "gsearch_1 = GridSearchCV(estimator = xgb1, \n",
    "                         param_grid = param_test_1, scoring='roc_auc', n_jobs=4, iid=False, cv=5)\n",
    "\n",
    "gsearch_1.fit(X_train_7, y_train_7)\n",
    "gsearch_1.best_params_, gsearch_1.best_score_\n",
    "\n",
    "# after done, repeat same but with one below and one above optimum value"
   ]
  },
  {
   "cell_type": "code",
   "execution_count": 139,
   "metadata": {},
   "outputs": [
    {
     "name": "stdout",
     "output_type": "stream",
     "text": [
      "{'max_depth': 3, 'min_child_weight': 3} 0.9742951132251753\n",
      "CPU times: user 34.8 s, sys: 276 ms, total: 35.1 s\n",
      "Wall time: 5min 8s\n"
     ]
    }
   ],
   "source": [
    "%%time\n",
    "param_test_2 = {\n",
    " 'max_depth':[3,4],\n",
    " 'min_child_weight':[2,3,4]\n",
    "}\n",
    "gsearch = GridSearchCV(estimator = xgb1, \n",
    "                         param_grid = param_test_2, scoring='roc_auc', n_jobs=4, iid=False, cv=5)\n",
    "\n",
    "gsearch.fit(X_train_7, y_train_7)\n",
    "print(gsearch.best_params_, gsearch.best_score_)\n"
   ]
  },
  {
   "cell_type": "code",
   "execution_count": 141,
   "metadata": {},
   "outputs": [
    {
     "name": "stdout",
     "output_type": "stream",
     "text": [
      "{'gamma': 0.4} 0.970972672817286\n",
      "CPU times: user 51.3 s, sys: 300 ms, total: 51.6 s\n",
      "Wall time: 6min 31s\n"
     ]
    }
   ],
   "source": [
    "%%time\n",
    "# tunining gamma:\n",
    "param_test_3 = {\n",
    " 'gamma':[i/10.0 for i in range(0,5)]\n",
    "}\n",
    "gsearch = GridSearchCV(estimator = xgb1, \n",
    "                         param_grid = param_test_3, scoring='roc_auc', n_jobs=4, iid=False, cv=5)\n",
    "\n",
    "gsearch.fit(X_train_7, y_train_7)\n",
    "print(gsearch.best_params_, gsearch.best_score_)"
   ]
  },
  {
   "cell_type": "code",
   "execution_count": 143,
   "metadata": {},
   "outputs": [
    {
     "name": "stdout",
     "output_type": "stream",
     "text": [
      "Val AUC for 7 days: 0.9759860827536663\n",
      "Val AUC for 14 days: 0.976997820220468\n"
     ]
    }
   ],
   "source": [
    "# recalibrate the parameters:\n",
    "xgb2 = xgb.XGBClassifier(\n",
    " learning_rate =0.1,\n",
    " n_estimators=400,\n",
    " max_depth=3,\n",
    " min_child_weight=3,\n",
    " gamma=0.4,\n",
    " subsample=0.8,\n",
    " colsample_bytree=0.8,\n",
    " objective= 'binary:logistic',\n",
    " nthread=4,\n",
    " scale_pos_weight=1,\n",
    " seed=42)\n",
    "\n",
    "xgbfit(xgb2)"
   ]
  },
  {
   "cell_type": "code",
   "execution_count": 150,
   "metadata": {},
   "outputs": [
    {
     "name": "stdout",
     "output_type": "stream",
     "text": [
      "{'colsample_bytree': 0.6, 'subsample': 0.7} 0.9744178754968438\n"
     ]
    }
   ],
   "source": [
    "# tune subsample and colsample_bytree\n",
    "param_test_4 = {\n",
    " 'subsample':[i/10.0 for i in range(6,10)],\n",
    " 'colsample_bytree':[i/10.0 for i in range(6,10)]\n",
    "}\n",
    "\n",
    "gsearch = GridSearchCV(estimator = xgb2, \n",
    "                         param_grid = param_test_4, scoring='roc_auc', n_jobs=4, iid=False, cv=5)\n",
    "\n",
    "gsearch.fit(X_train_7, y_train_7)\n",
    "print(gsearch.best_params_, gsearch.best_score_)"
   ]
  },
  {
   "cell_type": "code",
   "execution_count": 152,
   "metadata": {},
   "outputs": [
    {
     "name": "stdout",
     "output_type": "stream",
     "text": [
      "{'colsample_bytree': 0.55, 'subsample': 0.7} 0.9744178754968438\n",
      "CPU times: user 31.5 s, sys: 189 ms, total: 31.6 s\n",
      "Wall time: 6min 17s\n"
     ]
    }
   ],
   "source": [
    "%%time\n",
    "#trying values in around 0.7\n",
    "param_test_5 = {\n",
    " 'subsample':[i/100.0 for i in range(65,80,5)],\n",
    " 'colsample_bytree':[i/100.0 for i in range(55,70,5)]\n",
    "}\n",
    "\n",
    "gsearch = GridSearchCV(estimator = xgb2, \n",
    "                         param_grid = param_test_5, scoring='roc_auc', n_jobs=4, iid=False, cv=5)\n",
    "\n",
    "gsearch.fit(X_train_7, y_train_7)\n",
    "print(gsearch.best_params_, gsearch.best_score_)"
   ]
  },
  {
   "cell_type": "code",
   "execution_count": 151,
   "metadata": {},
   "outputs": [
    {
     "name": "stdout",
     "output_type": "stream",
     "text": [
      "{'n_estimator': 300} 0.9741511918927422\n"
     ]
    }
   ],
   "source": [
    "# Tuning n_estimators (num trees)\n",
    "param_test_6 = {\n",
    " 'n_estimator':[300, 400, 500, 700, 900]\n",
    "}\n",
    "\n",
    "gsearch = GridSearchCV(estimator = xgb2, \n",
    "                         param_grid = param_test_6, scoring='roc_auc', n_jobs=4, iid=False, cv=5)\n",
    "\n",
    "gsearch.fit(X_train_7, y_train_7)\n",
    "print(gsearch.best_params_, gsearch.best_score_)\n",
    "#this gives us the best as the lowest, if i drill down until 5 it\n",
    "# still says its the best param, but recalibrating I see the decrease\n",
    "# in AUC, overfit"
   ]
  },
  {
   "cell_type": "code",
   "execution_count": 165,
   "metadata": {},
   "outputs": [
    {
     "name": "stdout",
     "output_type": "stream",
     "text": [
      "Val AUC for 7 days: 0.9743178551131615\n",
      "Val AUC for 14 days: 0.9745191834544643\n"
     ]
    }
   ],
   "source": [
    "# recalibrating\n",
    "xgb3 = xgb.XGBClassifier(\n",
    " learning_rate =0.1,\n",
    " n_estimators=400,\n",
    " max_depth=3,\n",
    " min_child_weight=3,\n",
    " gamma=0.4,\n",
    " subsample=0.7,\n",
    " colsample_bytree=0.55,\n",
    " objective= 'binary:logistic',\n",
    " nthread=4,\n",
    " scale_pos_weight=1,\n",
    " seed=42)\n",
    "\n",
    "xgbfit(xgb3)"
   ]
  },
  {
   "cell_type": "code",
   "execution_count": 167,
   "metadata": {
    "scrolled": true
   },
   "outputs": [
    {
     "name": "stdout",
     "output_type": "stream",
     "text": [
      "{'reg_alpha': 1e-05} 0.9743770860291686\n"
     ]
    }
   ],
   "source": [
    "# tuning regulatizatiomn\n",
    "param_test_7 = {\n",
    " 'reg_alpha':[1e-5, 1e-2, 0.1, 1, 100]\n",
    "}\n",
    "gsearch = GridSearchCV(estimator = xgb3, \n",
    "                         param_grid = param_test_7, scoring='roc_auc', n_jobs=4, iid=False, cv=5)\n",
    "\n",
    "gsearch.fit(X_train_7, y_train_7)\n",
    "print(gsearch.best_params_, gsearch.best_score_)"
   ]
  },
  {
   "cell_type": "code",
   "execution_count": 169,
   "metadata": {},
   "outputs": [
    {
     "name": "stdout",
     "output_type": "stream",
     "text": [
      "{'learning_rate': 0.1} 0.9743770860291686\n"
     ]
    }
   ],
   "source": [
    "# lower learning rare\n",
    "param_test_8 = {\n",
    " 'learning_rate':[0.001, 0.01, 0.1]\n",
    "}\n",
    "gsearch = GridSearchCV(estimator = xgb3, \n",
    "                         param_grid = param_test_8, scoring='roc_auc', n_jobs=4, iid=False, cv=5)\n",
    "\n",
    "gsearch.fit(X_train_7, y_train_7)\n",
    "print(gsearch.best_params_, gsearch.best_score_)"
   ]
  },
  {
   "cell_type": "code",
   "execution_count": 53,
   "metadata": {},
   "outputs": [],
   "source": [
    "# Final tuned \n",
    "xgb4 = xgb.XGBClassifier(\n",
    " learning_rate =0.01,\n",
    " n_estimators=1000,\n",
    " max_depth=19,\n",
    " min_child_weight=3,\n",
    " gamma=0.1,\n",
    " subsample=1,\n",
    " colsample_bytree=1,\n",
    " objective= 'binary:logistic',\n",
    " nthread=4,\n",
    " scale_pos_weight=1)"
   ]
  },
  {
   "cell_type": "code",
   "execution_count": null,
   "metadata": {},
   "outputs": [],
   "source": [
    "(n_estimators=1000,max_depth=50, learning_rate=0.01)"
   ]
  },
  {
   "cell_type": "markdown",
   "metadata": {},
   "source": [
    "## Predictiction of tuned XGB"
   ]
  },
  {
   "cell_type": "code",
   "execution_count": 47,
   "metadata": {},
   "outputs": [],
   "source": [
    "res = pd.read_csv(\"sample_submission_2.csv\")"
   ]
  },
  {
   "cell_type": "code",
   "execution_count": 48,
   "metadata": {},
   "outputs": [
    {
     "data": {
      "text/plain": [
       "19.0"
      ]
     },
     "execution_count": 48,
     "metadata": {},
     "output_type": "execute_result"
    }
   ],
   "source": [
    "np.ceil(np.log2(res.shape[0]))"
   ]
  },
  {
   "cell_type": "code",
   "execution_count": 54,
   "metadata": {
    "ExecuteTime": {
     "end_time": "2019-02-27T06:49:37.083875Z",
     "start_time": "2019-02-27T06:49:07.093690Z"
    }
   },
   "outputs": [
    {
     "name": "stdout",
     "output_type": "stream",
     "text": [
      "Val AUC for 7 days: 0.9697631440646919\n"
     ]
    }
   ],
   "source": [
    "xgb4.fit(X_train_7, y_train_7, eval_metric='auc')\n",
    "y_hat_7 = xgb4.predict_proba(X_val_7)\n",
    "y_pred_7 = pd.DataFrame(y_hat_7)[1]\n",
    "auc_7 = roc_auc_score(y_val_7, y_pred_7)\n",
    "print(f\"Val AUC for 7 days: {auc_7}\")\n",
    "#feature_imp(xgb4)"
   ]
  },
  {
   "cell_type": "code",
   "execution_count": null,
   "metadata": {
    "ExecuteTime": {
     "end_time": "2019-02-27T06:51:43.124259Z",
     "start_time": "2019-02-27T06:51:00.816077Z"
    }
   },
   "outputs": [],
   "source": [
    "xgb4.fit(X_train_14, y_train_14, eval_metric='auc')\n",
    "y_hat_14 = xgb4.predict_proba(X_val_14)\n",
    "y_pred_14 = pd.DataFrame(y_hat_14)[1]\n",
    "auc_14 = roc_auc_score(y_val_14, y_pred_14)\n",
    "print(f\"Val AUC for 14 days: {auc_14}\")\n",
    "#feature_imp(xgb4)"
   ]
  },
  {
   "cell_type": "code",
   "execution_count": null,
   "metadata": {
    "ExecuteTime": {
     "end_time": "2019-02-27T06:51:43.143458Z",
     "start_time": "2019-02-27T06:51:43.126563Z"
    }
   },
   "outputs": [],
   "source": [
    "res['user_purchase_binary_7_days'] = y_pred_7\n",
    "res['user_purchase_binary_14_days'] = y_pred_14\n",
    "res = res.fillna(0) # new users"
   ]
  },
  {
   "cell_type": "code",
   "execution_count": null,
   "metadata": {
    "ExecuteTime": {
     "end_time": "2019-02-27T06:51:43.145869Z",
     "start_time": "2019-02-27T06:51:01.839Z"
    }
   },
   "outputs": [],
   "source": [
    "res.to_csv('result.csv',index=False)"
   ]
  },
  {
   "cell_type": "markdown",
   "metadata": {},
   "source": [
    "## NN"
   ]
  },
  {
   "cell_type": "code",
   "execution_count": 192,
   "metadata": {
    "ExecuteTime": {
     "end_time": "2019-02-27T07:01:11.325844Z",
     "start_time": "2019-02-27T07:01:11.320499Z"
    }
   },
   "outputs": [],
   "source": [
    "# Predict purchase in 7 days\n",
    "X_train, X_val, y_train, y_val = train_test_split(X_train_7, y_train_7, test_size=0.2)"
   ]
  },
  {
   "cell_type": "code",
   "execution_count": 193,
   "metadata": {
    "ExecuteTime": {
     "end_time": "2019-02-27T07:12:50.192501Z",
     "start_time": "2019-02-27T07:12:50.183443Z"
    }
   },
   "outputs": [],
   "source": [
    "X_train = np.array(X_train)\n",
    "y_train = np.array(y_train)\n",
    "X_val = np.array(X_val)\n",
    "y_val = np.array(y_val)"
   ]
  },
  {
   "cell_type": "code",
   "execution_count": 194,
   "metadata": {
    "ExecuteTime": {
     "end_time": "2019-02-27T07:12:55.486271Z",
     "start_time": "2019-02-27T07:12:55.479919Z"
    }
   },
   "outputs": [
    {
     "data": {
      "text/plain": [
       "MinMaxScaler(copy=True, feature_range=(0, 1))"
      ]
     },
     "execution_count": 194,
     "metadata": {},
     "output_type": "execute_result"
    }
   ],
   "source": [
    "# Normalize\n",
    "from sklearn.preprocessing import MinMaxScaler\n",
    "scaler = MinMaxScaler()\n",
    "scaler.fit(X_train)\n",
    "scaler.fit(X_val)"
   ]
  },
  {
   "cell_type": "code",
   "execution_count": 198,
   "metadata": {
    "ExecuteTime": {
     "end_time": "2019-02-27T07:12:56.589325Z",
     "start_time": "2019-02-27T07:12:56.578573Z"
    }
   },
   "outputs": [],
   "source": [
    "import torch\n",
    "from torch import nn\n",
    "from torch.autograd import Variable\n",
    "feature_train_v = Variable(torch.FloatTensor(X_train), requires_grad = False)\n",
    "labels_train_v = Variable(torch.FloatTensor(y_train), requires_grad = False)\n",
    "feature_test_v = Variable(torch.FloatTensor(X_val), requires_grad = False)\n",
    "labels_test_v = Variable(torch.FloatTensor(y_val), requires_grad = False)"
   ]
  },
  {
   "cell_type": "code",
   "execution_count": 202,
   "metadata": {
    "ExecuteTime": {
     "end_time": "2019-02-27T07:26:48.314128Z",
     "start_time": "2019-02-27T07:26:48.308926Z"
    }
   },
   "outputs": [],
   "source": [
    "# try a simple NN with 2 layers\n",
    "class LinearClassifier(nn.Module):\n",
    "    def __init__(self,M=200):\n",
    "        super(LinearClassifier, self).__init__()\n",
    "        self.h_layer_1 = nn.Linear(10, M)\n",
    "        self.h_layer_2 = nn.Linear(M, 1)\n",
    "        self.s_layer_1 = nn.ReLU()\n",
    "        self.s_layer_2 = nn.Sigmoid()\n",
    "        \n",
    "    def forward(self,x):\n",
    "        y = self.h_layer_1(x)\n",
    "        y = self.s_layer_1(y)\n",
    "        y = self.h_layer_2(y)\n",
    "        p = self.s_layer_2(y)\n",
    "        return p"
   ]
  },
  {
   "cell_type": "code",
   "execution_count": 203,
   "metadata": {
    "ExecuteTime": {
     "end_time": "2019-02-27T07:26:49.097360Z",
     "start_time": "2019-02-27T07:26:49.093876Z"
    }
   },
   "outputs": [],
   "source": [
    "model = LinearClassifier() #declaring the classifier to an object\n",
    "loss_fn = nn.BCELoss() #calculates the loss\n",
    "optim = torch.optim.SGD(model.parameters(), lr = 0.01)"
   ]
  },
  {
   "cell_type": "code",
   "execution_count": 204,
   "metadata": {
    "ExecuteTime": {
     "end_time": "2019-02-27T07:27:40.783136Z",
     "start_time": "2019-02-27T07:26:49.757529Z"
    }
   },
   "outputs": [
    {
     "name": "stderr",
     "output_type": "stream",
     "text": [
      "/anaconda3/lib/python3.6/site-packages/torch/nn/functional.py:1594: UserWarning: Using a target size (torch.Size([154491])) that is different to the input size (torch.Size([154491, 1])) is deprecated. Please ensure they have the same size.\n",
      "  \"Please ensure they have the same size.\".format(target.size(), input.size()))\n"
     ]
    }
   ],
   "source": [
    "all_losses = []\n",
    "for num in range(5000):\n",
    "    pred = model(feature_train_v) \n",
    "    loss = loss_fn(pred, labels_train_v) \n",
    "    all_losses.append(loss.data)\n",
    "    optim.zero_grad() \n",
    "    loss.backward() \n",
    "    optim.step() "
   ]
  },
  {
   "cell_type": "code",
   "execution_count": 205,
   "metadata": {
    "ExecuteTime": {
     "end_time": "2019-02-27T07:27:43.331203Z",
     "start_time": "2019-02-27T07:27:43.326659Z"
    }
   },
   "outputs": [
    {
     "data": {
      "text/plain": [
       "tensor(0.0294)"
      ]
     },
     "execution_count": 205,
     "metadata": {},
     "output_type": "execute_result"
    }
   ],
   "source": [
    "all_losses[-1]"
   ]
  },
  {
   "cell_type": "code",
   "execution_count": 206,
   "metadata": {
    "ExecuteTime": {
     "end_time": "2019-02-27T07:27:46.435534Z",
     "start_time": "2019-02-27T07:27:46.288309Z"
    }
   },
   "outputs": [],
   "source": [
    "# get predict values\n",
    "predicted_values = []\n",
    "pred = []\n",
    "for num in range(len(feature_test_v)):\n",
    "    predicted_values.append(model(feature_test_v[num]))\n",
    "    pred.append(predicted_values[num].data.numpy())"
   ]
  },
  {
   "cell_type": "code",
   "execution_count": 207,
   "metadata": {
    "ExecuteTime": {
     "end_time": "2019-02-27T07:27:47.091219Z",
     "start_time": "2019-02-27T07:27:47.084746Z"
    }
   },
   "outputs": [],
   "source": [
    "y_pred = np.stack(pred, axis=1)[0]"
   ]
  },
  {
   "cell_type": "code",
   "execution_count": 208,
   "metadata": {
    "ExecuteTime": {
     "end_time": "2019-02-27T07:27:47.804421Z",
     "start_time": "2019-02-27T07:27:47.797744Z"
    }
   },
   "outputs": [
    {
     "data": {
      "text/plain": [
       "0.9135188376326181"
      ]
     },
     "execution_count": 208,
     "metadata": {},
     "output_type": "execute_result"
    }
   ],
   "source": [
    "# calculate AUC\n",
    "roc_auc_score(y_val,y_pred)"
   ]
  },
  {
   "cell_type": "code",
   "execution_count": 112,
   "metadata": {
    "ExecuteTime": {
     "end_time": "2019-02-27T07:28:28.530618Z",
     "start_time": "2019-02-27T07:28:28.519790Z"
    }
   },
   "outputs": [],
   "source": [
    "#Predict purchase in 14 days\n",
    "X_train, X_val, y_train, y_val = train_test_split(X_train_14, y_train_14, test_size=0.2)\n",
    "X_train = np.array(X_train)\n",
    "y_train = np.array(y_train)\n",
    "X_val = np.array(X_val)\n",
    "y_val = np.array(y_val)"
   ]
  },
  {
   "cell_type": "code",
   "execution_count": 113,
   "metadata": {
    "ExecuteTime": {
     "end_time": "2019-02-27T07:28:37.663588Z",
     "start_time": "2019-02-27T07:28:37.657515Z"
    }
   },
   "outputs": [
    {
     "data": {
      "text/plain": [
       "MinMaxScaler(copy=True, feature_range=(0, 1))"
      ]
     },
     "execution_count": 113,
     "metadata": {},
     "output_type": "execute_result"
    }
   ],
   "source": [
    "scaler = MinMaxScaler()\n",
    "scaler.fit(X_train)\n",
    "scaler.fit(X_val)"
   ]
  },
  {
   "cell_type": "code",
   "execution_count": 114,
   "metadata": {
    "ExecuteTime": {
     "end_time": "2019-02-27T07:28:48.097622Z",
     "start_time": "2019-02-27T07:28:48.093430Z"
    }
   },
   "outputs": [],
   "source": [
    "feature_train_v = Variable(torch.FloatTensor(X_train), requires_grad = False)\n",
    "labels_train_v = Variable(torch.FloatTensor(y_train), requires_grad = False)\n",
    "feature_test_v = Variable(torch.FloatTensor(X_val), requires_grad = False)\n",
    "labels_test_v = Variable(torch.FloatTensor(y_val), requires_grad = False)"
   ]
  },
  {
   "cell_type": "code",
   "execution_count": 115,
   "metadata": {
    "ExecuteTime": {
     "end_time": "2019-02-27T07:29:01.773317Z",
     "start_time": "2019-02-27T07:29:01.768042Z"
    }
   },
   "outputs": [],
   "source": [
    "model = LinearClassifier() #declaring the classifier to an object\n",
    "loss_fn = nn.BCELoss() #calculates the loss\n",
    "optim = torch.optim.SGD(model.parameters(), lr = 0.01)"
   ]
  },
  {
   "cell_type": "code",
   "execution_count": 116,
   "metadata": {
    "ExecuteTime": {
     "end_time": "2019-02-27T07:30:20.207763Z",
     "start_time": "2019-02-27T07:29:13.615207Z"
    }
   },
   "outputs": [
    {
     "name": "stderr",
     "output_type": "stream",
     "text": [
      "/Users/hongdouli/anaconda3/lib/python3.6/site-packages/torch/nn/functional.py:2016: UserWarning: Using a target size (torch.Size([7859])) that is different to the input size (torch.Size([7859, 1])) is deprecated. Please ensure they have the same size.\n",
      "  \"Please ensure they have the same size.\".format(target.size(), input.size()))\n"
     ]
    }
   ],
   "source": [
    "all_losses = []\n",
    "for num in range(5000):\n",
    "    pred = model(feature_train_v) \n",
    "    loss = loss_fn(pred, labels_train_v) \n",
    "    all_losses.append(loss.data)\n",
    "    optim.zero_grad() \n",
    "    loss.backward() \n",
    "    optim.step() "
   ]
  },
  {
   "cell_type": "code",
   "execution_count": 117,
   "metadata": {
    "ExecuteTime": {
     "end_time": "2019-02-27T07:31:33.051048Z",
     "start_time": "2019-02-27T07:31:32.851534Z"
    }
   },
   "outputs": [
    {
     "data": {
      "text/plain": [
       "0.9783370483645223"
      ]
     },
     "execution_count": 117,
     "metadata": {},
     "output_type": "execute_result"
    }
   ],
   "source": [
    "predicted_values = []\n",
    "pred = []\n",
    "for num in range(len(feature_test_v)):\n",
    "    predicted_values.append(model(feature_test_v[num]))\n",
    "    pred.append(predicted_values[num].data.numpy())\n",
    "y_pred = np.stack(pred, axis=1)[0]\n",
    "roc_auc_score(y_val,y_pred)"
   ]
  },
  {
   "cell_type": "markdown",
   "metadata": {},
   "source": [
    "the NN model does not perform better than the other two models, will continue improve it by adding dropout and learning rate"
   ]
  },
  {
   "cell_type": "markdown",
   "metadata": {},
   "source": [
    "# Trying More Layers, Regularization, dropout"
   ]
  },
  {
   "cell_type": "code",
   "execution_count": null,
   "metadata": {},
   "outputs": [],
   "source": [
    "class Net(nn.Module):        \n",
    "    def __init__(self, M=200):\n",
    "        super(Net, self).__init__()\n",
    "        self.fc1 = Linear(10, M)\n",
    "        self.fc2 = Linear(M, 10)\n",
    "        self.fc3 = Linear(10, 1)\n",
    "        \n",
    "    def forward(self, x):\n",
    "        x = F.dropout(F.relu(self.fc1(x)), p=0.1)\n",
    "        x = F.relu(self.fc2(x))\n",
    "        x = F.sigmoid(self.fc3(x))\n",
    "        return x"
   ]
  },
  {
   "cell_type": "code",
   "execution_count": null,
   "metadata": {},
   "outputs": [],
   "source": [
    "model = Net() #declaring the classifier to an object\n",
    "loss_fn = F.binary_cross_entropy_with_logits() #calculates the loss\n",
    "optim = optim.Adam(net.parameters(), lr=0.001, weight_decay = 0.01)"
   ]
  },
  {
   "cell_type": "code",
   "execution_count": null,
   "metadata": {},
   "outputs": [],
   "source": [
    "all_losses = []\n",
    "for num in range(5000):\n",
    "    pred = model(feature_train_v) \n",
    "    loss = loss_fn(pred, labels_train_v) \n",
    "    all_losses.append(loss.data)\n",
    "    optim.zero_grad() \n",
    "    loss.backward() \n",
    "    optim.step() "
   ]
  },
  {
   "cell_type": "code",
   "execution_count": null,
   "metadata": {},
   "outputs": [],
   "source": [
    "predicted_values = []\n",
    "pred = []\n",
    "for num in range(len(feature_test_v)):\n",
    "    predicted_values.append(model(feature_test_v[num]))\n",
    "    pred.append(predicted_values[num].data.numpy())\n",
    "y_pred = np.stack(pred, axis=1)[0]\n",
    "roc_auc_score(y_val,y_pred)"
   ]
  }
 ],
 "metadata": {
  "kernelspec": {
   "display_name": "Python 3",
   "language": "python",
   "name": "python3"
  },
  "language_info": {
   "codemirror_mode": {
    "name": "ipython",
    "version": 3
   },
   "file_extension": ".py",
   "mimetype": "text/x-python",
   "name": "python",
   "nbconvert_exporter": "python",
   "pygments_lexer": "ipython3",
   "version": "3.6.8"
  }
 },
 "nbformat": 4,
 "nbformat_minor": 2
}
