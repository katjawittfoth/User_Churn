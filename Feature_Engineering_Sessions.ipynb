{
 "cells": [
  {
   "cell_type": "markdown",
   "metadata": {},
   "source": [
    "## Cleaning the data"
   ]
  },
  {
   "cell_type": "code",
   "execution_count": 222,
   "metadata": {},
   "outputs": [],
   "source": [
    "from pyspark import SparkContext\n",
    "from pyspark.sql import SparkSession\n",
    "from pyspark.sql.types import *\n",
    "\n",
    "import pandas as pd\n",
    "import numpy as np\n",
    "import boto3\n",
    "\n",
    "sc = SparkContext.getOrCreate()\n",
    "ss = SparkSession.builder.getOrCreate()"
   ]
  },
  {
   "cell_type": "code",
   "execution_count": 223,
   "metadata": {
    "scrolled": true
   },
   "outputs": [],
   "source": [
    "# s3 = boto3.resource('s3')\n",
    "# bucket = s3.Bucket(\"msds-630-finalproject\")\n",
    "\n",
    "# client = boto3.client(\"s3\", aws_access_key_id=access_key, aws_secret_acess_key=secret_key)\n",
    "\n",
    "# obj = client.get_object(Bucket=\"msds-630-finalproject\", Key=\"sessions.csv\")\n",
    "# sessions = pd.read_csv(obj[\"Body\"])"
   ]
  },
  {
   "cell_type": "code",
   "execution_count": 224,
   "metadata": {},
   "outputs": [],
   "source": [
    "#RUN ON FULL DATA\n",
    "df = ss.read.csv(\"session_100000.csv\", header=True)\n",
    "#df = ss.read.csv(\"s3a://msds-630-finalproject/sessions.csv\", header=True)"
   ]
  },
  {
   "cell_type": "code",
   "execution_count": 225,
   "metadata": {
    "scrolled": true
   },
   "outputs": [
    {
     "name": "stdout",
     "output_type": "stream",
     "text": [
      "root\n",
      " |-- app_id: string (nullable = true)\n",
      " |-- session_id: string (nullable = true)\n",
      " |-- start_timestamp: string (nullable = true)\n",
      " |-- timezone: string (nullable = true)\n",
      " |-- timezone_offset: string (nullable = true)\n",
      " |-- previous_sessions_duration: string (nullable = true)\n",
      " |-- user_created_timestamp: string (nullable = true)\n",
      " |-- is_user_first_session: string (nullable = true)\n",
      " |-- is_session: string (nullable = true)\n",
      " |-- is_developer: string (nullable = true)\n",
      " |-- is_wau: string (nullable = true)\n",
      " |-- is_mau: string (nullable = true)\n",
      " |-- country: string (nullable = true)\n",
      " |-- region: string (nullable = true)\n",
      " |-- city: string (nullable = true)\n",
      " |-- latitude: string (nullable = true)\n",
      " |-- longitude: string (nullable = true)\n",
      " |-- locale: string (nullable = true)\n",
      " |-- os_name: string (nullable = true)\n",
      " |-- session_index: string (nullable = true)\n",
      " |-- device_id: string (nullable = true)\n",
      " |-- user_id_hash: string (nullable = true)\n",
      "\n"
     ]
    }
   ],
   "source": [
    "df.printSchema()"
   ]
  },
  {
   "cell_type": "code",
   "execution_count": 226,
   "metadata": {},
   "outputs": [
    {
     "name": "stdout",
     "output_type": "stream",
     "text": [
      "+----------------+-------------------+---------------+-----------+---------------+--------------------------+----------------------+---------------------+----------+------------+------+------+-------+------+-----------+------------------+------------------+------+----------+-------------+--------------------+--------------------+\n",
      "|          app_id|         session_id|start_timestamp|   timezone|timezone_offset|previous_sessions_duration|user_created_timestamp|is_user_first_session|is_session|is_developer|is_wau|is_mau|country|region|       city|          latitude|         longitude|locale|   os_name|session_index|           device_id|        user_id_hash|\n",
      "+----------------+-------------------+---------------+-----------+---------------+--------------------------+----------------------+---------------------+----------+------------+------+------+-------+------+-----------+------------------+------------------+------+----------+-------------+--------------------+--------------------+\n",
      "|4724682771660800|5558845121177764917|  1542215364580|Asia/Manila|       28800000|                  25837591|         1538874289458|                false|      true|       false| false| false|     PH|    00|     makati|14.554729461669922|121.02444458007812| en_GB|Android OS|           30|546a3d98-d540-4e7...|9943447915df3a45f...|\n",
      "|4724682771660800|2201961907282901522|  1543712977293|Asia/Manila|       28800000|                  35050130|         1538874289458|                false|      true|       false| false| false|     PH|    00|quezon city|14.676040649414062|  121.043701171875| en_GB|Android OS|           47|546a3d98-d540-4e7...|9943447915df3a45f...|\n",
      "+----------------+-------------------+---------------+-----------+---------------+--------------------------+----------------------+---------------------+----------+------------+------+------+-------+------+-----------+------------------+------------------+------+----------+-------------+--------------------+--------------------+\n",
      "only showing top 2 rows\n",
      "\n"
     ]
    }
   ],
   "source": [
    "df.show(2)"
   ]
  },
  {
   "cell_type": "markdown",
   "metadata": {},
   "source": [
    "Dropping the columns"
   ]
  },
  {
   "cell_type": "code",
   "execution_count": 227,
   "metadata": {},
   "outputs": [
    {
     "name": "stdout",
     "output_type": "stream",
     "text": [
      "root\n",
      " |-- app_id: string (nullable = true)\n",
      " |-- session_id: string (nullable = true)\n",
      " |-- start_timestamp: string (nullable = true)\n",
      " |-- timezone: string (nullable = true)\n",
      " |-- previous_sessions_duration: string (nullable = true)\n",
      " |-- user_created_timestamp: string (nullable = true)\n",
      " |-- is_user_first_session: string (nullable = true)\n",
      " |-- is_session: string (nullable = true)\n",
      " |-- is_developer: string (nullable = true)\n",
      " |-- is_wau: string (nullable = true)\n",
      " |-- is_mau: string (nullable = true)\n",
      " |-- country: string (nullable = true)\n",
      " |-- region: string (nullable = true)\n",
      " |-- city: string (nullable = true)\n",
      " |-- latitude: string (nullable = true)\n",
      " |-- longitude: string (nullable = true)\n",
      " |-- locale: string (nullable = true)\n",
      " |-- os_name: string (nullable = true)\n",
      " |-- session_index: string (nullable = true)\n",
      " |-- user_id_hash: string (nullable = true)\n",
      "\n"
     ]
    }
   ],
   "source": [
    "df = df.drop('timezone_offset', 'device_id')\n",
    "df.printSchema()"
   ]
  },
  {
   "cell_type": "markdown",
   "metadata": {},
   "source": [
    "Dropping is developer true and is_mau and is_wau true"
   ]
  },
  {
   "cell_type": "code",
   "execution_count": 228,
   "metadata": {
    "scrolled": true
   },
   "outputs": [
    {
     "name": "stdout",
     "output_type": "stream",
     "text": [
      "root\n",
      " |-- app_id: string (nullable = true)\n",
      " |-- session_id: string (nullable = true)\n",
      " |-- start_timestamp: string (nullable = true)\n",
      " |-- timezone: string (nullable = true)\n",
      " |-- previous_sessions_duration: string (nullable = true)\n",
      " |-- user_created_timestamp: string (nullable = true)\n",
      " |-- is_user_first_session: string (nullable = true)\n",
      " |-- is_session: string (nullable = true)\n",
      " |-- country: string (nullable = true)\n",
      " |-- region: string (nullable = true)\n",
      " |-- city: string (nullable = true)\n",
      " |-- latitude: string (nullable = true)\n",
      " |-- longitude: string (nullable = true)\n",
      " |-- locale: string (nullable = true)\n",
      " |-- os_name: string (nullable = true)\n",
      " |-- session_index: string (nullable = true)\n",
      " |-- user_id_hash: string (nullable = true)\n",
      "\n"
     ]
    }
   ],
   "source": [
    "df = df.filter('is_developer==false').drop('is_developer')\n",
    "df = df.filter('is_mau==false').drop('is_mau')\n",
    "df = df.filter('is_wau==false').drop('is_wau')\n",
    "df.printSchema()"
   ]
  },
  {
   "cell_type": "markdown",
   "metadata": {},
   "source": [
    "Handling missing values"
   ]
  },
  {
   "cell_type": "markdown",
   "metadata": {},
   "source": [
    "seems like if city is ? it is just an unknown, we will treat this as others"
   ]
  },
  {
   "cell_type": "code",
   "execution_count": 229,
   "metadata": {},
   "outputs": [
    {
     "name": "stdout",
     "output_type": "stream",
     "text": [
      "+-----+-------+------+\n",
      "| city|country|locale|\n",
      "+-----+-------+------+\n",
      "|Other|     US| en_US|\n",
      "|Other|     US| en_US|\n",
      "|Other|     US| en_US|\n",
      "|Other|     US| en_US|\n",
      "|Other|     US| en_US|\n",
      "|Other|     US| en_US|\n",
      "|Other|     US| en_US|\n",
      "|Other|     US| en_US|\n",
      "|Other|     US| en_US|\n",
      "|Other|     US| en_US|\n",
      "|Other|     US| en_US|\n",
      "|Other|     US| en_US|\n",
      "|Other|     US| en_US|\n",
      "|Other|     US| en_US|\n",
      "|Other|     US| en_US|\n",
      "|Other|     US| en_US|\n",
      "|Other|     US| en_US|\n",
      "|Other|     US| en_US|\n",
      "|Other|     US| en_US|\n",
      "|Other|     US| en_US|\n",
      "+-----+-------+------+\n",
      "only showing top 20 rows\n",
      "\n"
     ]
    }
   ],
   "source": [
    "df = df.replace([\"?\"], [\"Other\"], [\"city\"])\n",
    "df.select(\"city\", \"country\", \"locale\").filter(df.city == \"Other\").show()"
   ]
  },
  {
   "cell_type": "code",
   "execution_count": 230,
   "metadata": {},
   "outputs": [
    {
     "name": "stdout",
     "output_type": "stream",
     "text": [
      "+----+-------+------+--------+---------+-------------+------+\n",
      "|city|country|locale|latitude|longitude|     timezone|region|\n",
      "+----+-------+------+--------+---------+-------------+------+\n",
      "|null|     ZZ| in_ID|    null|     null|Asia/Makassar|  null|\n",
      "|null|     ZZ| in_ID|    null|     null|Asia/Makassar|  null|\n",
      "|null|     ZZ| in_ID|    null|     null|Asia/Makassar|  null|\n",
      "|null|   null|  null|    null|     null|         null|  null|\n",
      "|null|   null|  null|    null|     null|         null|  null|\n",
      "|null|   null|  null|    null|     null|         null|  null|\n",
      "|null|   null|  null|    null|     null|         null|  null|\n",
      "|null|   null|  null|    null|     null|         null|  null|\n",
      "|null|   null|  null|    null|     null|         null|  null|\n",
      "|null|   null|  null|    null|     null|         null|  null|\n",
      "|null|   null|  null|    null|     null|         null|  null|\n",
      "|null|   null|  null|    null|     null|         null|  null|\n",
      "|null|   null|  null|    null|     null|         null|  null|\n",
      "|null|   null|  null|    null|     null|         null|  null|\n",
      "|null|   null|  null|    null|     null|         null|  null|\n",
      "|null|   null|  null|    null|     null|         null|  null|\n",
      "|null|   null|  null|    null|     null|         null|  null|\n",
      "|null|   null|  null|    null|     null|         null|  null|\n",
      "|null|   null|  null|    null|     null|         null|  null|\n",
      "|null|   null|  null|    null|     null|         null|  null|\n",
      "+----+-------+------+--------+---------+-------------+------+\n",
      "only showing top 20 rows\n",
      "\n"
     ]
    }
   ],
   "source": [
    "df.select(\"city\", \"country\", \"locale\", \"latitude\", \"longitude\", \"timezone\", \"region\").filter(df.city.isNull()).show()"
   ]
  },
  {
   "cell_type": "code",
   "execution_count": 231,
   "metadata": {},
   "outputs": [
    {
     "name": "stdout",
     "output_type": "stream",
     "text": [
      "+----+-------+--------+--------+---------+-----------------+------+\n",
      "|city|country|  locale|latitude|longitude|         timezone|region|\n",
      "+----+-------+--------+--------+---------+-----------------+------+\n",
      "|null|     ZZ|   in_ID|    null|     null|    Asia/Makassar|  null|\n",
      "|null|     ZZ|   in_ID|    null|     null|    Asia/Makassar|  null|\n",
      "|null|     ZZ|   in_ID|    null|     null|    Asia/Makassar|  null|\n",
      "|null|     ZZ|   en_US|    null|     null|  America/Jamaica|  null|\n",
      "|null|     ZZ|   ru_RU|    null|     null|      Asia/Almaty|  null|\n",
      "|null|     ZZ|   ru_RU|    null|     null|      Asia/Almaty|  null|\n",
      "|null|     ZZ|   ru_RU|    null|     null|      Asia/Almaty|  null|\n",
      "|null|     ZZ|   ru_RU|    null|     null|      Asia/Almaty|  null|\n",
      "|null|     ZZ|   ru_RU|    null|     null|      Asia/Almaty|  null|\n",
      "|null|     ZZ|   ru_RU|    null|     null|      Asia/Almaty|  null|\n",
      "|null|     ZZ|   en_GB|    null|     null|     Asia/Kolkata|  null|\n",
      "|null|     ZZ|   te_IN|    null|     null|    Asia/Calcutta|  null|\n",
      "|null|     ZZ|   te_IN|    null|     null|    Asia/Calcutta|  null|\n",
      "|null|     ZZ|   en_GB|    null|     null|     Asia/Karachi|  null|\n",
      "|null|     ZZ|   en_GB|    null|     null|     Asia/Karachi|  null|\n",
      "|null|     ZZ|   en_US|    null|     null|     Africa/Lagos|  null|\n",
      "|null|     ZZ|   en_US|    null|     null|     Africa/Lagos|  null|\n",
      "|null|     ZZ|   en_US|    null|     null|     Africa/Lagos|  null|\n",
      "|null|     ZZ|en-CA_CA|    null|     null|America/Vancouver|  null|\n",
      "|null|     ZZ|en-CA_CA|    null|     null|America/Vancouver|  null|\n",
      "+----+-------+--------+--------+---------+-----------------+------+\n",
      "only showing top 20 rows\n",
      "\n"
     ]
    }
   ],
   "source": [
    "df.select(\"city\", \"country\", \"locale\", \"latitude\", \"longitude\", \"timezone\", \"region\").filter(df.city.isNull() & df.timezone.isNotNull()).show()"
   ]
  },
  {
   "cell_type": "code",
   "execution_count": 232,
   "metadata": {},
   "outputs": [
    {
     "data": {
      "text/plain": [
       "31"
      ]
     },
     "execution_count": 232,
     "metadata": {},
     "output_type": "execute_result"
    }
   ],
   "source": [
    "df.select(\"city\", \"country\", \"locale\", \"latitude\", \"longitude\", \"timezone\", \"region\").filter(df.city.isNull() & df.timezone.isNotNull()).count()"
   ]
  },
  {
   "cell_type": "code",
   "execution_count": 233,
   "metadata": {},
   "outputs": [
    {
     "data": {
      "text/plain": [
       "566"
      ]
     },
     "execution_count": 233,
     "metadata": {},
     "output_type": "execute_result"
    }
   ],
   "source": [
    "df.select(\"city\", \"country\", \"locale\", \"latitude\", \"longitude\", \"timezone\", \"region\").filter(df.city.isNull() & df.timezone.isNull()).count()"
   ]
  },
  {
   "cell_type": "markdown",
   "metadata": {},
   "source": [
    "seems like when we have null country, the city is also null, locale, latitude and longitute doesnt help to figure out the location. time zone is available fot some of the missing values.\n",
    "I will leave it here for now, but basically we can find the most common country amd city for the timezone and replace null city and counntry with it. For the rest we need to see if we can impute with most common one or we will ignore for now"
   ]
  },
  {
   "cell_type": "code",
   "execution_count": 234,
   "metadata": {},
   "outputs": [
    {
     "name": "stdout",
     "output_type": "stream",
     "text": [
      "+------------+-----+\n",
      "|        city|count|\n",
      "+------------+-----+\n",
      "|      london| 1837|\n",
      "|      dallas| 1656|\n",
      "|    new york| 1571|\n",
      "|     chicago| 1235|\n",
      "|   melbourne| 1137|\n",
      "| quezon city| 1035|\n",
      "|     houston| 1013|\n",
      "|      mumbai|  891|\n",
      "|       lagos|  859|\n",
      "|     orlando|  850|\n",
      "|     atlanta|  849|\n",
      "|kuala lumpur|  839|\n",
      "|  chandigarh|  828|\n",
      "|     jakarta|  812|\n",
      "| los angeles|  733|\n",
      "|    budapest|  731|\n",
      "|       Other|  725|\n",
      "|        pune|  710|\n",
      "|    kingston|  683|\n",
      "|     phoenix|  672|\n",
      "+------------+-----+\n",
      "only showing top 20 rows\n",
      "\n"
     ]
    }
   ],
   "source": [
    "df.groupBy(df[\"city\"]).count()\\\n",
    ".orderBy(\"count\", ascending=False).show()"
   ]
  },
  {
   "cell_type": "code",
   "execution_count": 235,
   "metadata": {},
   "outputs": [
    {
     "data": {
      "text/plain": [
       "0"
      ]
     },
     "execution_count": 235,
     "metadata": {},
     "output_type": "execute_result"
    }
   ],
   "source": [
    "df.select(\"city\").filter(df.city == \"?\").count()"
   ]
  },
  {
   "cell_type": "code",
   "execution_count": 236,
   "metadata": {},
   "outputs": [
    {
     "data": {
      "text/plain": [
       "597"
      ]
     },
     "execution_count": 236,
     "metadata": {},
     "output_type": "execute_result"
    }
   ],
   "source": [
    "df.select(\"city\").filter(df.city.isNull()).count()"
   ]
  },
  {
   "cell_type": "code",
   "execution_count": 237,
   "metadata": {},
   "outputs": [
    {
     "data": {
      "text/plain": [
       "0"
      ]
     },
     "execution_count": 237,
     "metadata": {},
     "output_type": "execute_result"
    }
   ],
   "source": [
    "df.select(\"country\").filter(df.country == \"?\").count()"
   ]
  },
  {
   "cell_type": "code",
   "execution_count": 238,
   "metadata": {},
   "outputs": [
    {
     "data": {
      "text/plain": [
       "566"
      ]
     },
     "execution_count": 238,
     "metadata": {},
     "output_type": "execute_result"
    }
   ],
   "source": [
    "df.select(\"country\").filter(df.country.isNull()).count()"
   ]
  },
  {
   "cell_type": "code",
   "execution_count": 239,
   "metadata": {},
   "outputs": [
    {
     "name": "stdout",
     "output_type": "stream",
     "text": [
      "+-------+----------+\n",
      "|summary|   os_name|\n",
      "+-------+----------+\n",
      "|  count|     99127|\n",
      "|   mean|      null|\n",
      "| stddev|      null|\n",
      "|    min|Android OS|\n",
      "|    max| iPhone OS|\n",
      "+-------+----------+\n",
      "\n"
     ]
    }
   ],
   "source": [
    "df.select(\"os_name\").describe().show()"
   ]
  },
  {
   "cell_type": "code",
   "execution_count": 240,
   "metadata": {},
   "outputs": [
    {
     "data": {
      "text/plain": [
       "0"
      ]
     },
     "execution_count": 240,
     "metadata": {},
     "output_type": "execute_result"
    }
   ],
   "source": [
    "df.select(\"os_name\").filter(df.os_name == \"?\").count()"
   ]
  },
  {
   "cell_type": "code",
   "execution_count": 241,
   "metadata": {},
   "outputs": [
    {
     "data": {
      "text/plain": [
       "870"
      ]
     },
     "execution_count": 241,
     "metadata": {},
     "output_type": "execute_result"
    }
   ],
   "source": [
    "df.select(\"os_name\").filter(df.os_name.isNull()).count()"
   ]
  },
  {
   "cell_type": "code",
   "execution_count": 242,
   "metadata": {},
   "outputs": [],
   "source": [
    "from pyspark.sql.functions import isnan, when, count, col"
   ]
  },
  {
   "cell_type": "code",
   "execution_count": 243,
   "metadata": {},
   "outputs": [
    {
     "name": "stdout",
     "output_type": "stream",
     "text": [
      "+------+----------+---------------+--------+--------------------------+----------------------+---------------------+----------+-------+------+----+--------+---------+------+-------+-------------+------------+\n",
      "|app_id|session_id|start_timestamp|timezone|previous_sessions_duration|user_created_timestamp|is_user_first_session|is_session|country|region|city|latitude|longitude|locale|os_name|session_index|user_id_hash|\n",
      "+------+----------+---------------+--------+--------------------------+----------------------+---------------------+----------+-------+------+----+--------+---------+------+-------+-------------+------------+\n",
      "|     0|         0|              0|     566|                         0|                     0|                    0|         0|    566|   597| 597|     597|      597|   566|    870|            0|           0|\n",
      "+------+----------+---------------+--------+--------------------------+----------------------+---------------------+----------+-------+------+----+--------+---------+------+-------+-------------+------------+\n",
      "\n"
     ]
    }
   ],
   "source": [
    "missing = df.select([count(when(isnan(c) | col(c)  \\\n",
    "                      .isNull(), c)).alias(c) for c in df.columns])\n",
    "missing.show()"
   ]
  },
  {
   "cell_type": "code",
   "execution_count": 244,
   "metadata": {},
   "outputs": [
    {
     "name": "stdout",
     "output_type": "stream",
     "text": [
      "+-------+----+-------+\n",
      "|country|city|os_name|\n",
      "+-------+----+-------+\n",
      "|    566| 597|    870|\n",
      "+-------+----+-------+\n",
      "\n"
     ]
    }
   ],
   "source": [
    "missing.select(\"country\", \"city\", \"os_name\").show()"
   ]
  },
  {
   "cell_type": "markdown",
   "metadata": {},
   "source": [
    "We dont have any other missing values other then this three categories, the country and city we wil irgnore for now. As mentioned above, any other regional information doesnt really help to identify the missing values"
   ]
  },
  {
   "cell_type": "code",
   "execution_count": 245,
   "metadata": {},
   "outputs": [],
   "source": [
    "#dropping regional info:"
   ]
  },
  {
   "cell_type": "code",
   "execution_count": 246,
   "metadata": {},
   "outputs": [],
   "source": [
    "df = df.drop(\"locale\", \"latitude\", \"longitude\", \"timezone\", \"region\")"
   ]
  },
  {
   "cell_type": "markdown",
   "metadata": {},
   "source": [
    "1. We can train the model to predict the os_name for the missing values, i can do it on total"
   ]
  },
  {
   "cell_type": "code",
   "execution_count": 247,
   "metadata": {},
   "outputs": [
    {
     "data": {
      "text/plain": [
       "99997"
      ]
     },
     "execution_count": 247,
     "metadata": {},
     "output_type": "execute_result"
    }
   ],
   "source": [
    "df.count()"
   ]
  },
  {
   "cell_type": "code",
   "execution_count": 248,
   "metadata": {},
   "outputs": [],
   "source": [
    "df_ml = df"
   ]
  },
  {
   "cell_type": "code",
   "execution_count": 249,
   "metadata": {},
   "outputs": [],
   "source": [
    "# converting to categorical\n",
    "\n",
    "from pyspark.ml.feature import StringIndexer\n",
    "from pyspark.ml.feature import OneHotEncoder\n",
    "\n",
    "def toIntSafe(v):\n",
    "    try:\n",
    "        return float(v)\n",
    "    except ValueError:\n",
    "        return str(v)   \n",
    "\n",
    "def indexStringColumns(df, cols):\n",
    "    newdf = df   \n",
    "    for c in cols:\n",
    "        si = StringIndexer(inputCol=c, outputCol=c+\"-num\")\n",
    "        sm = si.fit(newdf)\n",
    "        newdf = sm.transform(newdf).drop(c)\n",
    "        newdf = newdf.withColumnRenamed(c+\"-num\", c)\n",
    "    return newdf\n",
    "\n",
    "def oneHotEncodeColumns(df, cols):\n",
    "    newdf = df\n",
    "    for c in cols:   \n",
    "        onehotenc = OneHotEncoder(inputCol=c, outputCol=c+\"-onehot\", dropLast=False)\n",
    "        newdf = onehotenc.transform(newdf).drop(c)\n",
    "        newdf = newdf.withColumnRenamed(c+\"-onehot\", c)\n",
    "    return newdf\n",
    "\n",
    "\n",
    "df_ml = indexStringColumns(df_ml, [\"app_id\"])\n",
    "df_ml = indexStringColumns(df_ml, [\"session_id\"])\n",
    "df_ml = indexStringColumns(df_ml, [\"is_user_first_session\"])"
   ]
  },
  {
   "cell_type": "code",
   "execution_count": 250,
   "metadata": {},
   "outputs": [
    {
     "name": "stdout",
     "output_type": "stream",
     "text": [
      "+---------------+--------------------------+----------------------+----------+-------+-----------+----------+-------------+--------------------+------+----------+---------------------+\n",
      "|start_timestamp|previous_sessions_duration|user_created_timestamp|is_session|country|       city|   os_name|session_index|        user_id_hash|app_id|session_id|is_user_first_session|\n",
      "+---------------+--------------------------+----------------------+----------+-------+-----------+----------+-------------+--------------------+------+----------+---------------------+\n",
      "|  1542215364580|                  25837591|         1538874289458|      true|     PH|     makati|Android OS|           30|9943447915df3a45f...|   0.0|   93536.0|                  0.0|\n",
      "|  1543712977293|                  35050130|         1538874289458|      true|     PH|quezon city|Android OS|           47|9943447915df3a45f...|   0.0|   21561.0|                  0.0|\n",
      "+---------------+--------------------------+----------------------+----------+-------+-----------+----------+-------------+--------------------+------+----------+---------------------+\n",
      "only showing top 2 rows\n",
      "\n"
     ]
    }
   ],
   "source": [
    "df_ml.show(2)"
   ]
  },
  {
   "cell_type": "code",
   "execution_count": 251,
   "metadata": {},
   "outputs": [],
   "source": [
    "os_not_null = df_ml.filter(df_ml.os_name.isNotNull())"
   ]
  },
  {
   "cell_type": "code",
   "execution_count": 252,
   "metadata": {},
   "outputs": [],
   "source": [
    "os_not_null = indexStringColumns(os_not_null, [\"os_name\"])"
   ]
  },
  {
   "cell_type": "code",
   "execution_count": 253,
   "metadata": {},
   "outputs": [
    {
     "name": "stdout",
     "output_type": "stream",
     "text": [
      "+-------+-----+\n",
      "|os_name|count|\n",
      "+-------+-----+\n",
      "|    0.0|67300|\n",
      "|    1.0|31127|\n",
      "|    2.0|  700|\n",
      "+-------+-----+\n",
      "\n"
     ]
    }
   ],
   "source": [
    "os_not_null.groupBy(\"os_name\").count().show()"
   ]
  },
  {
   "cell_type": "code",
   "execution_count": 254,
   "metadata": {},
   "outputs": [],
   "source": [
    "os_0 = os_not_null.filter(\"os_name = 0.0\").limit(700)"
   ]
  },
  {
   "cell_type": "code",
   "execution_count": 255,
   "metadata": {},
   "outputs": [],
   "source": [
    "os_1 = os_not_null.filter(\"os_name = 1.0\").limit(700)"
   ]
  },
  {
   "cell_type": "code",
   "execution_count": 256,
   "metadata": {},
   "outputs": [],
   "source": [
    "os_2 = os_not_null.filter(\"os_name = 2.0\")"
   ]
  },
  {
   "cell_type": "code",
   "execution_count": 257,
   "metadata": {},
   "outputs": [],
   "source": [
    "from pyspark.sql.functions import *\n",
    "\n",
    "\n",
    "os = os_0.union(os_1)\n",
    "os_not_null_red = os.union(os_2)"
   ]
  },
  {
   "cell_type": "code",
   "execution_count": 258,
   "metadata": {},
   "outputs": [],
   "source": [
    "# creating a feature vector:\n",
    "\n",
    "from pyspark.ml.feature import VectorAssembler\n",
    "\n",
    "input_cols=[\"app_id\", \"session_id\",\n",
    "           \"is_user_first_session\"]\n",
    "\n",
    "va = VectorAssembler(outputCol=\"features\", inputCols=input_cols)\n",
    "#lpoints - labeled data.\n",
    "lpoints = va.transform(os_not_null_red).select(\"features\", \"os_name\")\\\n",
    ".withColumnRenamed(\"os_name\", \"label\")"
   ]
  },
  {
   "cell_type": "code",
   "execution_count": 259,
   "metadata": {},
   "outputs": [],
   "source": [
    "#splitting the data\n",
    "\n",
    "splits = lpoints.randomSplit([0.8, 0.2])\n",
    "train = splits[0].cache()\n",
    "valid = splits[1].cache()"
   ]
  },
  {
   "cell_type": "code",
   "execution_count": 260,
   "metadata": {},
   "outputs": [
    {
     "name": "stdout",
     "output_type": "stream",
     "text": [
      "+-----+-----+\n",
      "|label|count|\n",
      "+-----+-----+\n",
      "|  0.0|  549|\n",
      "|  1.0|  570|\n",
      "|  2.0|  574|\n",
      "+-----+-----+\n",
      "\n"
     ]
    }
   ],
   "source": [
    "train.groupBy(\"label\").count().show()"
   ]
  },
  {
   "cell_type": "code",
   "execution_count": 261,
   "metadata": {},
   "outputs": [],
   "source": [
    "predict = df_ml.filter(df_ml.os_name.isNull())"
   ]
  },
  {
   "cell_type": "code",
   "execution_count": 262,
   "metadata": {},
   "outputs": [
    {
     "name": "stdout",
     "output_type": "stream",
     "text": [
      "+-------+-----+\n",
      "|os_name|count|\n",
      "+-------+-----+\n",
      "|   null|  870|\n",
      "+-------+-----+\n",
      "\n"
     ]
    }
   ],
   "source": [
    "predict.groupBy('os_name').count().show()"
   ]
  },
  {
   "cell_type": "code",
   "execution_count": 263,
   "metadata": {},
   "outputs": [],
   "source": [
    "predict = predict.withColumn('os_name_1', lit(0))"
   ]
  },
  {
   "cell_type": "code",
   "execution_count": 264,
   "metadata": {},
   "outputs": [],
   "source": [
    "predict = predict.drop(\"os_name\").withColumnRenamed('os_name_1', 'os_name')"
   ]
  },
  {
   "cell_type": "code",
   "execution_count": 265,
   "metadata": {},
   "outputs": [
    {
     "name": "stdout",
     "output_type": "stream",
     "text": [
      "+-------+-----+\n",
      "|os_name|count|\n",
      "+-------+-----+\n",
      "|      0|  870|\n",
      "+-------+-----+\n",
      "\n"
     ]
    }
   ],
   "source": [
    "predict.groupBy('os_name').count().show()"
   ]
  },
  {
   "cell_type": "code",
   "execution_count": 266,
   "metadata": {},
   "outputs": [],
   "source": [
    "input_cols=[\"app_id\", \"session_id\",\n",
    "           \"is_user_first_session\"]\n",
    "\n",
    "va = VectorAssembler(outputCol=\"features\", inputCols=input_cols)\n",
    "\n",
    "predict_df = va.transform(predict).select(\"features\", \"os_name\")\\\n",
    ".withColumnRenamed(\"os_name\", \"label\")"
   ]
  },
  {
   "cell_type": "code",
   "execution_count": 267,
   "metadata": {},
   "outputs": [
    {
     "name": "stdout",
     "output_type": "stream",
     "text": [
      "+-----------------+-----+\n",
      "|         features|label|\n",
      "+-----------------+-----+\n",
      "|[0.0,93536.0,0.0]|  0.0|\n",
      "|[0.0,21561.0,0.0]|  0.0|\n",
      "+-----------------+-----+\n",
      "only showing top 2 rows\n",
      "\n"
     ]
    }
   ],
   "source": [
    "lpoints.show(2)"
   ]
  },
  {
   "cell_type": "code",
   "execution_count": 268,
   "metadata": {},
   "outputs": [],
   "source": [
    "from pyspark.ml.classification import LogisticRegression\n",
    "lr = LogisticRegression(regParam=0.01, maxIter=1000, fitIntercept=True)\n",
    "lrmodel = lr.fit(train)"
   ]
  },
  {
   "cell_type": "code",
   "execution_count": 269,
   "metadata": {},
   "outputs": [
    {
     "name": "stdout",
     "output_type": "stream",
     "text": [
      "+----------+-----+\n",
      "|prediction|count|\n",
      "+----------+-----+\n",
      "|       0.0|  165|\n",
      "|       1.0|   54|\n",
      "|       2.0|  188|\n",
      "+----------+-----+\n",
      "\n"
     ]
    }
   ],
   "source": [
    "validpredicts = lrmodel.transform(valid)\n",
    "validpredicts.groupby(\"prediction\").count().show()"
   ]
  },
  {
   "cell_type": "code",
   "execution_count": 270,
   "metadata": {},
   "outputs": [
    {
     "name": "stdout",
     "output_type": "stream",
     "text": [
      "Test Error = 0.601966\n"
     ]
    }
   ],
   "source": [
    "from pyspark.ml.evaluation import MulticlassClassificationEvaluator\n",
    "\n",
    "predicts = lrmodel.transform(valid)\n",
    "evaluator = MulticlassClassificationEvaluator(labelCol=\"label\", predictionCol=\"prediction\", metricName=\"accuracy\")\n",
    "accuracy = evaluator.evaluate(predicts)\n",
    "print(\"Test Error = %g\" % (1.0 - accuracy))"
   ]
  },
  {
   "cell_type": "markdown",
   "metadata": {},
   "source": [
    "Not great but we will take it!"
   ]
  },
  {
   "cell_type": "code",
   "execution_count": 271,
   "metadata": {},
   "outputs": [
    {
     "name": "stdout",
     "output_type": "stream",
     "text": [
      "+-----------------+-----+--------------------+--------------------+----------+\n",
      "|         features|label|       rawPrediction|         probability|prediction|\n",
      "+-----------------+-----+--------------------+--------------------+----------+\n",
      "|[0.0,95901.0,0.0]|    0|[-0.2235651856262...|[0.26265640007752...|       2.0|\n",
      "|[0.0,55236.0,1.0]|    0|[-0.2805032404383...|[0.24371312540990...|       1.0|\n",
      "|[0.0,37583.0,0.0]|    0|[0.03571404276013...|[0.34531081250746...|       0.0|\n",
      "|[0.0,83417.0,0.0]|    0|[-0.1680618781195...|[0.27933099776396...|       2.0|\n",
      "|[0.0,88299.0,1.0]|    0|[-0.4274998646047...|[0.20649896618707...|       1.0|\n",
      "|[0.0,77036.0,0.0]|    0|[-0.1396922365623...|[0.28808249752722...|       2.0|\n",
      "|[0.0,29987.0,0.0]|    0|[0.06948552015687...|[0.35687622497794...|       0.0|\n",
      "|[0.0,56000.0,0.0]|    0|[-0.0461671182740...|[0.31796385090025...|       2.0|\n",
      "|[0.0,76718.0,0.0]|    0|[-0.1382784227376...|[0.28852257118479...|       2.0|\n",
      "|[0.0,24638.0,0.0]|    0|[0.09326693571705...|[0.36511127122362...|       0.0|\n",
      "|[0.0,51336.0,0.0]|    0|[-0.0254311821789...|[0.32479071441060...|       2.0|\n",
      "|[0.0,69749.0,0.0]|    0|[-0.1072945593914...|[0.29825874128311...|       2.0|\n",
      "|[0.0,68782.0,1.0]|    0|[-0.3407281526047...|[0.22796941022964...|       1.0|\n",
      "|[0.0,51710.0,0.0]|    0|[-0.0270939695073...|[0.32424072176410...|       2.0|\n",
      "|[0.0,37208.0,1.0]|    0|[-0.2003515560638...|[0.26570549507596...|       1.0|\n",
      "|[0.0,31074.0,1.0]|    0|[-0.1730800654962...|[0.27345067079181...|       1.0|\n",
      "|[0.0,49242.0,0.0]|    0|[-0.0161213515221...|[0.32787818259183...|       2.0|\n",
      "|[0.0,42878.0,0.0]|    0|[0.01217270879282...|[0.33734395280207...|       2.0|\n",
      "|[0.0,21477.0,1.0]|    0|[-0.1304122312971...|[0.28582609104122...|       1.0|\n",
      "|[0.0,58591.0,1.0]|    0|[-0.2954194208841...|[0.23975043509885...|       1.0|\n",
      "+-----------------+-----+--------------------+--------------------+----------+\n",
      "only showing top 20 rows\n",
      "\n"
     ]
    }
   ],
   "source": [
    "predict_on_missing = lrmodel.transform(predict_df)\n",
    "predict_on_missing.show()"
   ]
  },
  {
   "cell_type": "code",
   "execution_count": 272,
   "metadata": {},
   "outputs": [
    {
     "name": "stdout",
     "output_type": "stream",
     "text": [
      "+----------+-----+\n",
      "|prediction|count|\n",
      "+----------+-----+\n",
      "|       0.0|  316|\n",
      "|       1.0|  144|\n",
      "|       2.0|  410|\n",
      "+----------+-----+\n",
      "\n"
     ]
    }
   ],
   "source": [
    "predicticted_os = predict_on_missing.select(\"prediction\")\n",
    "predicticted_os.groupBy(\"prediction\").count().show()"
   ]
  },
  {
   "cell_type": "code",
   "execution_count": 273,
   "metadata": {},
   "outputs": [
    {
     "name": "stdout",
     "output_type": "stream",
     "text": [
      "+-------+-----+\n",
      "|os_name|count|\n",
      "+-------+-----+\n",
      "|   null|  870|\n",
      "+-------+-----+\n",
      "\n"
     ]
    }
   ],
   "source": [
    "#merge with nulls and merge with other to put in full df\n",
    "df_nulls = df.filter(df.os_name.isNull())\n",
    "df_nulls.groupBy(\"os_name\").count().show()"
   ]
  },
  {
   "cell_type": "code",
   "execution_count": 274,
   "metadata": {},
   "outputs": [],
   "source": [
    "df1 = df_nulls.withColumn(\"id\", monotonically_increasing_id())\n",
    "df2 = predicticted_os.withColumn(\"id\", monotonically_increasing_id())\n",
    "\n",
    "df_pred_nulls = df1.join(df2, \"id\", \"outer\").drop(\"id\")"
   ]
  },
  {
   "cell_type": "code",
   "execution_count": 275,
   "metadata": {},
   "outputs": [],
   "source": [
    "df_imputed = df_pred_nulls.drop(\"os_name\").withColumnRenamed(\"prediction\", \"os_name\")"
   ]
  },
  {
   "cell_type": "code",
   "execution_count": 276,
   "metadata": {},
   "outputs": [
    {
     "name": "stdout",
     "output_type": "stream",
     "text": [
      "+-------+-----+\n",
      "|os_name|count|\n",
      "+-------+-----+\n",
      "|    0.0|  316|\n",
      "|    1.0|  144|\n",
      "|    2.0|  410|\n",
      "+-------+-----+\n",
      "\n"
     ]
    }
   ],
   "source": [
    "df_imputed.groupBy(\"os_name\").count().show()"
   ]
  },
  {
   "cell_type": "code",
   "execution_count": 277,
   "metadata": {},
   "outputs": [
    {
     "data": {
      "text/plain": [
       "870"
      ]
     },
     "execution_count": 277,
     "metadata": {},
     "output_type": "execute_result"
    }
   ],
   "source": [
    "df_imputed.count()"
   ]
  },
  {
   "cell_type": "code",
   "execution_count": 278,
   "metadata": {},
   "outputs": [
    {
     "data": {
      "text/plain": [
       "99127"
      ]
     },
     "execution_count": 278,
     "metadata": {},
     "output_type": "execute_result"
    }
   ],
   "source": [
    "df_not_null = df.filter(df_ml.os_name.isNotNull())\n",
    "df_not_null\n",
    "df_not_null.count()"
   ]
  },
  {
   "cell_type": "code",
   "execution_count": 279,
   "metadata": {},
   "outputs": [
    {
     "name": "stdout",
     "output_type": "stream",
     "text": [
      "+-------+-----+\n",
      "|os_name|count|\n",
      "+-------+-----+\n",
      "|    0.0|67300|\n",
      "|    1.0|31127|\n",
      "|    2.0|  700|\n",
      "+-------+-----+\n",
      "\n"
     ]
    }
   ],
   "source": [
    "os_not_null.groupBy(\"os_name\").count().show()"
   ]
  },
  {
   "cell_type": "code",
   "execution_count": 280,
   "metadata": {},
   "outputs": [
    {
     "data": {
      "text/plain": [
       "99127"
      ]
     },
     "execution_count": 280,
     "metadata": {},
     "output_type": "execute_result"
    }
   ],
   "source": [
    "os_not_null.count()"
   ]
  },
  {
   "cell_type": "code",
   "execution_count": 281,
   "metadata": {},
   "outputs": [
    {
     "name": "stdout",
     "output_type": "stream",
     "text": [
      "root\n",
      " |-- start_timestamp: string (nullable = true)\n",
      " |-- previous_sessions_duration: string (nullable = true)\n",
      " |-- user_created_timestamp: string (nullable = true)\n",
      " |-- is_session: string (nullable = true)\n",
      " |-- country: string (nullable = true)\n",
      " |-- city: string (nullable = true)\n",
      " |-- session_index: string (nullable = true)\n",
      " |-- user_id_hash: string (nullable = true)\n",
      " |-- app_id: double (nullable = false)\n",
      " |-- session_id: double (nullable = false)\n",
      " |-- is_user_first_session: double (nullable = false)\n",
      " |-- os_name: double (nullable = false)\n",
      "\n"
     ]
    }
   ],
   "source": [
    "os_not_null.printSchema()"
   ]
  },
  {
   "cell_type": "code",
   "execution_count": 282,
   "metadata": {},
   "outputs": [
    {
     "data": {
      "text/plain": [
       "99997"
      ]
     },
     "execution_count": 282,
     "metadata": {},
     "output_type": "execute_result"
    }
   ],
   "source": [
    "870+99127"
   ]
  },
  {
   "cell_type": "code",
   "execution_count": 283,
   "metadata": {},
   "outputs": [
    {
     "name": "stdout",
     "output_type": "stream",
     "text": [
      "root\n",
      " |-- app_id: double (nullable = false)\n",
      " |-- session_id: double (nullable = false)\n",
      " |-- start_timestamp: string (nullable = true)\n",
      " |-- previous_sessions_duration: string (nullable = true)\n",
      " |-- user_created_timestamp: string (nullable = true)\n",
      " |-- is_user_first_session: double (nullable = false)\n",
      " |-- is_session: string (nullable = true)\n",
      " |-- country: string (nullable = true)\n",
      " |-- city: string (nullable = true)\n",
      " |-- session_index: string (nullable = true)\n",
      " |-- user_id_hash: string (nullable = true)\n",
      " |-- os_name: double (nullable = false)\n",
      "\n"
     ]
    }
   ],
   "source": [
    "os_not_null = os_not_null.select(\"app_id\", \"session_id\", \"start_timestamp\", \"previous_sessions_duration\",\n",
    "                                 \"user_created_timestamp\",\"is_user_first_session\",\"is_session\", \"country\", \"city\",\n",
    "                                \"session_index\", \"user_id_hash\",\"os_name\")\n",
    "os_not_null.printSchema()"
   ]
  },
  {
   "cell_type": "code",
   "execution_count": 284,
   "metadata": {},
   "outputs": [
    {
     "name": "stdout",
     "output_type": "stream",
     "text": [
      "root\n",
      " |-- app_id: string (nullable = true)\n",
      " |-- session_id: string (nullable = true)\n",
      " |-- start_timestamp: string (nullable = true)\n",
      " |-- previous_sessions_duration: string (nullable = true)\n",
      " |-- user_created_timestamp: string (nullable = true)\n",
      " |-- is_user_first_session: string (nullable = true)\n",
      " |-- is_session: string (nullable = true)\n",
      " |-- country: string (nullable = true)\n",
      " |-- city: string (nullable = true)\n",
      " |-- session_index: string (nullable = true)\n",
      " |-- user_id_hash: string (nullable = true)\n",
      " |-- os_name: double (nullable = true)\n",
      "\n"
     ]
    }
   ],
   "source": [
    "df_imputed.printSchema()"
   ]
  },
  {
   "cell_type": "code",
   "execution_count": 285,
   "metadata": {},
   "outputs": [],
   "source": [
    "df_t = os_not_null.union(df_imputed)"
   ]
  },
  {
   "cell_type": "code",
   "execution_count": 286,
   "metadata": {},
   "outputs": [
    {
     "name": "stdout",
     "output_type": "stream",
     "text": [
      "+-------+-----+\n",
      "|os_name|count|\n",
      "+-------+-----+\n",
      "|    0.0|67616|\n",
      "|    1.0|31271|\n",
      "|    2.0| 1110|\n",
      "+-------+-----+\n",
      "\n"
     ]
    }
   ],
   "source": [
    "df_t.groupBy(\"os_name\").count().show()"
   ]
  },
  {
   "cell_type": "code",
   "execution_count": 287,
   "metadata": {},
   "outputs": [
    {
     "data": {
      "text/plain": [
       "99997"
      ]
     },
     "execution_count": 287,
     "metadata": {},
     "output_type": "execute_result"
    }
   ],
   "source": [
    "df_t.count()"
   ]
  },
  {
   "cell_type": "markdown",
   "metadata": {},
   "source": [
    "2. after done i will tranform it to categorical and save to cvs and run test  train split, transform to one hot the "
   ]
  },
  {
   "cell_type": "code",
   "execution_count": 288,
   "metadata": {},
   "outputs": [
    {
     "name": "stdout",
     "output_type": "stream",
     "text": [
      "root\n",
      " |-- app_id: string (nullable = true)\n",
      " |-- session_id: string (nullable = true)\n",
      " |-- start_timestamp: string (nullable = true)\n",
      " |-- previous_sessions_duration: string (nullable = true)\n",
      " |-- user_created_timestamp: string (nullable = true)\n",
      " |-- is_user_first_session: string (nullable = true)\n",
      " |-- is_session: string (nullable = true)\n",
      " |-- country: string (nullable = true)\n",
      " |-- city: string (nullable = true)\n",
      " |-- session_index: string (nullable = true)\n",
      " |-- user_id_hash: string (nullable = true)\n",
      " |-- os_name: double (nullable = true)\n",
      "\n"
     ]
    }
   ],
   "source": [
    "df_t.printSchema()"
   ]
  },
  {
   "cell_type": "code",
   "execution_count": 289,
   "metadata": {},
   "outputs": [
    {
     "name": "stdout",
     "output_type": "stream",
     "text": [
      "+-------------+\n",
      "|session_index|\n",
      "+-------------+\n",
      "|           30|\n",
      "|           47|\n",
      "+-------------+\n",
      "only showing top 2 rows\n",
      "\n"
     ]
    }
   ],
   "source": [
    "df_t.select(\"session_index\").show(2)"
   ]
  },
  {
   "cell_type": "code",
   "execution_count": 290,
   "metadata": {},
   "outputs": [],
   "source": [
    "# converting strings to categorical values:\n",
    "\n",
    "df_n = indexStringColumns(df_t, [\"is_user_first_session\"]) # its a boolean\n",
    "df_n = indexStringColumns(df_n, [\"is_session\"]) # its a boolean\n",
    "\n",
    "#what are we doing with, one hot?: I will leave it for now, we can do target encoding on that later\n",
    "#country\n",
    "#city\n",
    "\n",
    "# os_name for sure categorical but normal or one_hot?\n",
    "df_n = indexStringColumns(df_n, [\"os_name\"])"
   ]
  },
  {
   "cell_type": "code",
   "execution_count": 291,
   "metadata": {},
   "outputs": [
    {
     "name": "stdout",
     "output_type": "stream",
     "text": [
      "+------+----------+---------------+--------------------------+----------------------+-------+-----------+-------------+--------------------+---------------------+----------+-------+\n",
      "|app_id|session_id|start_timestamp|previous_sessions_duration|user_created_timestamp|country|       city|session_index|        user_id_hash|is_user_first_session|is_session|os_name|\n",
      "+------+----------+---------------+--------------------------+----------------------+-------+-----------+-------------+--------------------+---------------------+----------+-------+\n",
      "|   0.0|   93536.0|  1542215364580|                  25837591|         1538874289458|     PH|     makati|           30|9943447915df3a45f...|                  0.0|       0.0|    0.0|\n",
      "|   0.0|   21561.0|  1543712977293|                  35050130|         1538874289458|     PH|quezon city|           47|9943447915df3a45f...|                  0.0|       0.0|    0.0|\n",
      "+------+----------+---------------+--------------------------+----------------------+-------+-----------+-------------+--------------------+---------------------+----------+-------+\n",
      "only showing top 2 rows\n",
      "\n"
     ]
    }
   ],
   "source": [
    "df_n.show(2)"
   ]
  },
  {
   "cell_type": "code",
   "execution_count": 292,
   "metadata": {},
   "outputs": [],
   "source": [
    "from pyspark.sql.types import IntegerType\n",
    "\n",
    "df_n = df_n.withColumn(\"previous_sessions_duration\", df_n[\"previous_sessions_duration\"].cast(IntegerType()))\n",
    "df_n = df_n.withColumn(\"session_index\", df_n[\"session_index\"].cast(IntegerType()))"
   ]
  },
  {
   "cell_type": "code",
   "execution_count": 293,
   "metadata": {},
   "outputs": [
    {
     "name": "stdout",
     "output_type": "stream",
     "text": [
      "+------+----------+\n",
      "|app_id|session_id|\n",
      "+------+----------+\n",
      "|   0.0|   93536.0|\n",
      "|   0.0|   21561.0|\n",
      "+------+----------+\n",
      "only showing top 2 rows\n",
      "\n"
     ]
    }
   ],
   "source": [
    "df_n.select(\"app_id\", \"session_id\").show(2)"
   ]
  },
  {
   "cell_type": "code",
   "execution_count": 294,
   "metadata": {},
   "outputs": [],
   "source": [
    "#df_n = df_n.withColumn(\"app_id\", df_n[\"app_id\"].cast(IntegerType())) #if i cast them they got nulled\n",
    "#df_n = df_n.withColumn(\"session_id\", df_n[\"session_id\"].cast(IntegerType())) #if i cast them they got nulled\n",
    "#df_n = df_n.withColumn(\"start_timestamp\", df_n[\"start_timestamp\"].cast(IntegerType())) #not casting since we use it below as str\n",
    "#df_n = df_n.withColumn(\"user_created_timestamp\", df_n[\"user_created_timestamp\"].cast(IntegerType())) #not casting since we use it below as str"
   ]
  },
  {
   "cell_type": "code",
   "execution_count": 295,
   "metadata": {},
   "outputs": [
    {
     "name": "stdout",
     "output_type": "stream",
     "text": [
      "root\n",
      " |-- app_id: string (nullable = true)\n",
      " |-- session_id: string (nullable = true)\n",
      " |-- start_timestamp: string (nullable = true)\n",
      " |-- previous_sessions_duration: integer (nullable = true)\n",
      " |-- user_created_timestamp: string (nullable = true)\n",
      " |-- country: string (nullable = true)\n",
      " |-- city: string (nullable = true)\n",
      " |-- session_index: integer (nullable = true)\n",
      " |-- user_id_hash: string (nullable = true)\n",
      " |-- is_user_first_session: integer (nullable = true)\n",
      " |-- is_session: integer (nullable = true)\n",
      " |-- os_name: integer (nullable = true)\n",
      "\n"
     ]
    }
   ],
   "source": [
    "df_n = df_n.withColumn(\"is_user_first_session\", df_n[\"is_user_first_session\"].cast(IntegerType()))\n",
    "df_n = df_n.withColumn(\"is_session\", df_n[\"is_session\"].cast(IntegerType()))\n",
    "df_n = df_n.withColumn(\"os_name\", df_n[\"os_name\"].cast(IntegerType()))\n",
    "df_n.printSchema()"
   ]
  },
  {
   "cell_type": "code",
   "execution_count": 296,
   "metadata": {},
   "outputs": [
    {
     "name": "stdout",
     "output_type": "stream",
     "text": [
      "+------+----------+---------------+--------------------------+----------------------+-------+-----------+-------------+--------------------+---------------------+----------+-------+\n",
      "|app_id|session_id|start_timestamp|previous_sessions_duration|user_created_timestamp|country|       city|session_index|        user_id_hash|is_user_first_session|is_session|os_name|\n",
      "+------+----------+---------------+--------------------------+----------------------+-------+-----------+-------------+--------------------+---------------------+----------+-------+\n",
      "|   0.0|   93536.0|  1542215364580|                  25837591|         1538874289458|     PH|     makati|           30|9943447915df3a45f...|                    0|         0|      0|\n",
      "|   0.0|   21561.0|  1543712977293|                  35050130|         1538874289458|     PH|quezon city|           47|9943447915df3a45f...|                    0|         0|      0|\n",
      "+------+----------+---------------+--------------------------+----------------------+-------+-----------+-------------+--------------------+---------------------+----------+-------+\n",
      "only showing top 2 rows\n",
      "\n"
     ]
    }
   ],
   "source": [
    "df_n.show(2)"
   ]
  },
  {
   "cell_type": "code",
   "execution_count": 298,
   "metadata": {},
   "outputs": [],
   "source": [
    "df_n.repartition(1).write.format(\"com.databricks.spark.csv\") \\\n",
    "  .option(\"header\", \"true\") \\\n",
    "  .option(\"inferSchema\", \"true\") \\\n",
    "  .option(\"delimiter\", \",\")\\\n",
    "  .save(\"sessions_cleaned.csv\")\n"
   ]
  },
  {
   "cell_type": "markdown",
   "metadata": {},
   "source": [
    "## Spliting into test and train: "
   ]
  },
  {
   "cell_type": "code",
   "execution_count": 299,
   "metadata": {},
   "outputs": [],
   "source": [
    "from pyspark.sql import SQLContext\n",
    "sqlContext = SQLContext(sc)\n",
    "df = sqlContext.read.format(\"csv\").load('sessions_cleaned.csv', header=True, inferSchema=\"true\")"
   ]
  },
  {
   "cell_type": "code",
   "execution_count": 300,
   "metadata": {},
   "outputs": [],
   "source": [
    "from datetime import datetime\n",
    "import pandas as pd"
   ]
  },
  {
   "cell_type": "code",
   "execution_count": 301,
   "metadata": {},
   "outputs": [],
   "source": [
    "df = df.toPandas()"
   ]
  },
  {
   "cell_type": "code",
   "execution_count": 302,
   "metadata": {},
   "outputs": [
    {
     "data": {
      "text/html": [
       "<div>\n",
       "<style scoped>\n",
       "    .dataframe tbody tr th:only-of-type {\n",
       "        vertical-align: middle;\n",
       "    }\n",
       "\n",
       "    .dataframe tbody tr th {\n",
       "        vertical-align: top;\n",
       "    }\n",
       "\n",
       "    .dataframe thead th {\n",
       "        text-align: right;\n",
       "    }\n",
       "</style>\n",
       "<table border=\"1\" class=\"dataframe\">\n",
       "  <thead>\n",
       "    <tr style=\"text-align: right;\">\n",
       "      <th></th>\n",
       "      <th>app_id</th>\n",
       "      <th>session_id</th>\n",
       "      <th>start_timestamp</th>\n",
       "      <th>previous_sessions_duration</th>\n",
       "      <th>user_created_timestamp</th>\n",
       "      <th>country</th>\n",
       "      <th>city</th>\n",
       "      <th>session_index</th>\n",
       "      <th>user_id_hash</th>\n",
       "      <th>is_user_first_session</th>\n",
       "      <th>is_session</th>\n",
       "      <th>os_name</th>\n",
       "    </tr>\n",
       "  </thead>\n",
       "  <tbody>\n",
       "    <tr>\n",
       "      <th>0</th>\n",
       "      <td>0.0</td>\n",
       "      <td>93536.0</td>\n",
       "      <td>1542215364580</td>\n",
       "      <td>25837591</td>\n",
       "      <td>1538874289458</td>\n",
       "      <td>PH</td>\n",
       "      <td>makati</td>\n",
       "      <td>30</td>\n",
       "      <td>9943447915df3a45fd6720a026af905b6da6b56a37701b...</td>\n",
       "      <td>0</td>\n",
       "      <td>0</td>\n",
       "      <td>0</td>\n",
       "    </tr>\n",
       "    <tr>\n",
       "      <th>1</th>\n",
       "      <td>0.0</td>\n",
       "      <td>21561.0</td>\n",
       "      <td>1543712977293</td>\n",
       "      <td>35050130</td>\n",
       "      <td>1538874289458</td>\n",
       "      <td>PH</td>\n",
       "      <td>quezon city</td>\n",
       "      <td>47</td>\n",
       "      <td>9943447915df3a45fd6720a026af905b6da6b56a37701b...</td>\n",
       "      <td>0</td>\n",
       "      <td>0</td>\n",
       "      <td>0</td>\n",
       "    </tr>\n",
       "    <tr>\n",
       "      <th>2</th>\n",
       "      <td>0.0</td>\n",
       "      <td>92180.0</td>\n",
       "      <td>1539215568666</td>\n",
       "      <td>11343848</td>\n",
       "      <td>1538874289458</td>\n",
       "      <td>PH</td>\n",
       "      <td>makati</td>\n",
       "      <td>10</td>\n",
       "      <td>9943447915df3a45fd6720a026af905b6da6b56a37701b...</td>\n",
       "      <td>0</td>\n",
       "      <td>0</td>\n",
       "      <td>0</td>\n",
       "    </tr>\n",
       "    <tr>\n",
       "      <th>3</th>\n",
       "      <td>0.0</td>\n",
       "      <td>27200.0</td>\n",
       "      <td>1540120743010</td>\n",
       "      <td>13499724</td>\n",
       "      <td>1538874289458</td>\n",
       "      <td>PH</td>\n",
       "      <td>davao city</td>\n",
       "      <td>13</td>\n",
       "      <td>9943447915df3a45fd6720a026af905b6da6b56a37701b...</td>\n",
       "      <td>0</td>\n",
       "      <td>0</td>\n",
       "      <td>0</td>\n",
       "    </tr>\n",
       "    <tr>\n",
       "      <th>4</th>\n",
       "      <td>0.0</td>\n",
       "      <td>42027.0</td>\n",
       "      <td>1542671625528</td>\n",
       "      <td>32788010</td>\n",
       "      <td>1538874289458</td>\n",
       "      <td>PH</td>\n",
       "      <td>makati</td>\n",
       "      <td>41</td>\n",
       "      <td>9943447915df3a45fd6720a026af905b6da6b56a37701b...</td>\n",
       "      <td>0</td>\n",
       "      <td>0</td>\n",
       "      <td>0</td>\n",
       "    </tr>\n",
       "  </tbody>\n",
       "</table>\n",
       "</div>"
      ],
      "text/plain": [
       "   app_id  session_id  start_timestamp  previous_sessions_duration  \\\n",
       "0     0.0     93536.0    1542215364580                    25837591   \n",
       "1     0.0     21561.0    1543712977293                    35050130   \n",
       "2     0.0     92180.0    1539215568666                    11343848   \n",
       "3     0.0     27200.0    1540120743010                    13499724   \n",
       "4     0.0     42027.0    1542671625528                    32788010   \n",
       "\n",
       "   user_created_timestamp country         city  session_index  \\\n",
       "0           1538874289458      PH       makati             30   \n",
       "1           1538874289458      PH  quezon city             47   \n",
       "2           1538874289458      PH       makati             10   \n",
       "3           1538874289458      PH   davao city             13   \n",
       "4           1538874289458      PH       makati             41   \n",
       "\n",
       "                                        user_id_hash  is_user_first_session  \\\n",
       "0  9943447915df3a45fd6720a026af905b6da6b56a37701b...                      0   \n",
       "1  9943447915df3a45fd6720a026af905b6da6b56a37701b...                      0   \n",
       "2  9943447915df3a45fd6720a026af905b6da6b56a37701b...                      0   \n",
       "3  9943447915df3a45fd6720a026af905b6da6b56a37701b...                      0   \n",
       "4  9943447915df3a45fd6720a026af905b6da6b56a37701b...                      0   \n",
       "\n",
       "   is_session  os_name  \n",
       "0           0        0  \n",
       "1           0        0  \n",
       "2           0        0  \n",
       "3           0        0  \n",
       "4           0        0  "
      ]
     },
     "execution_count": 302,
     "metadata": {},
     "output_type": "execute_result"
    }
   ],
   "source": [
    "df.head()"
   ]
  },
  {
   "cell_type": "code",
   "execution_count": 303,
   "metadata": {},
   "outputs": [
    {
     "name": "stdout",
     "output_type": "stream",
     "text": [
      "<class 'pandas.core.frame.DataFrame'>\n",
      "RangeIndex: 99997 entries, 0 to 99996\n",
      "Data columns (total 12 columns):\n",
      "app_id                        99997 non-null float64\n",
      "session_id                    99997 non-null float64\n",
      "start_timestamp               99997 non-null datetime64[ns]\n",
      "previous_sessions_duration    99997 non-null int32\n",
      "user_created_timestamp        99997 non-null datetime64[ns]\n",
      "country                       99431 non-null object\n",
      "city                          99400 non-null object\n",
      "session_index                 99997 non-null int32\n",
      "user_id_hash                  99997 non-null object\n",
      "is_user_first_session         99997 non-null int32\n",
      "is_session                    99997 non-null int32\n",
      "os_name                       99997 non-null int32\n",
      "dtypes: datetime64[ns](2), float64(2), int32(5), object(3)\n",
      "memory usage: 28.3 MB\n"
     ]
    }
   ],
   "source": [
    "df['start_timestamp'] = pd.to_datetime(df['start_timestamp'], unit='ms')\n",
    "df['user_created_timestamp'] = pd.to_datetime(df['user_created_timestamp'], unit='ms')\n",
    "\n",
    "df.info(memory_usage='deep')\n",
    "\n",
    "dec1_cutoff = datetime(2018, 12, 1, 0, 0, 0)\n",
    "dec14_cutoff = datetime(2018, 12, 14, 0, 0, 0)\n",
    "\n",
    "df_train = df[df['start_timestamp'] < dec1_cutoff]\n",
    "\n",
    "df_dec1_dec14 = df[df['start_timestamp'] > dec1_cutoff]\n",
    "\n",
    "#df_test is dec1\n",
    "df_test = df_dec1_dec14[df_dec1_dec14['start_timestamp'] < dec14_cutoff]\n",
    "#df_dec1_dec14 = df_dec1_dec14[df_dec1_dec14['start_timestamp'] > dec14_cutoff]"
   ]
  },
  {
   "cell_type": "code",
   "execution_count": 304,
   "metadata": {},
   "outputs": [
    {
     "data": {
      "text/html": [
       "<div>\n",
       "<style scoped>\n",
       "    .dataframe tbody tr th:only-of-type {\n",
       "        vertical-align: middle;\n",
       "    }\n",
       "\n",
       "    .dataframe tbody tr th {\n",
       "        vertical-align: top;\n",
       "    }\n",
       "\n",
       "    .dataframe thead th {\n",
       "        text-align: right;\n",
       "    }\n",
       "</style>\n",
       "<table border=\"1\" class=\"dataframe\">\n",
       "  <thead>\n",
       "    <tr style=\"text-align: right;\">\n",
       "      <th></th>\n",
       "      <th>app_id</th>\n",
       "      <th>session_id</th>\n",
       "      <th>start_timestamp</th>\n",
       "      <th>previous_sessions_duration</th>\n",
       "      <th>user_created_timestamp</th>\n",
       "      <th>country</th>\n",
       "      <th>city</th>\n",
       "      <th>session_index</th>\n",
       "      <th>user_id_hash</th>\n",
       "      <th>is_user_first_session</th>\n",
       "      <th>is_session</th>\n",
       "      <th>os_name</th>\n",
       "    </tr>\n",
       "  </thead>\n",
       "  <tbody>\n",
       "    <tr>\n",
       "      <th>0</th>\n",
       "      <td>0.0</td>\n",
       "      <td>93536.0</td>\n",
       "      <td>2018-11-14 17:09:24.580</td>\n",
       "      <td>25837591</td>\n",
       "      <td>2018-10-07 01:04:49.458</td>\n",
       "      <td>PH</td>\n",
       "      <td>makati</td>\n",
       "      <td>30</td>\n",
       "      <td>9943447915df3a45fd6720a026af905b6da6b56a37701b...</td>\n",
       "      <td>0</td>\n",
       "      <td>0</td>\n",
       "      <td>0</td>\n",
       "    </tr>\n",
       "    <tr>\n",
       "      <th>2</th>\n",
       "      <td>0.0</td>\n",
       "      <td>92180.0</td>\n",
       "      <td>2018-10-10 23:52:48.666</td>\n",
       "      <td>11343848</td>\n",
       "      <td>2018-10-07 01:04:49.458</td>\n",
       "      <td>PH</td>\n",
       "      <td>makati</td>\n",
       "      <td>10</td>\n",
       "      <td>9943447915df3a45fd6720a026af905b6da6b56a37701b...</td>\n",
       "      <td>0</td>\n",
       "      <td>0</td>\n",
       "      <td>0</td>\n",
       "    </tr>\n",
       "    <tr>\n",
       "      <th>3</th>\n",
       "      <td>0.0</td>\n",
       "      <td>27200.0</td>\n",
       "      <td>2018-10-21 11:19:03.010</td>\n",
       "      <td>13499724</td>\n",
       "      <td>2018-10-07 01:04:49.458</td>\n",
       "      <td>PH</td>\n",
       "      <td>davao city</td>\n",
       "      <td>13</td>\n",
       "      <td>9943447915df3a45fd6720a026af905b6da6b56a37701b...</td>\n",
       "      <td>0</td>\n",
       "      <td>0</td>\n",
       "      <td>0</td>\n",
       "    </tr>\n",
       "    <tr>\n",
       "      <th>4</th>\n",
       "      <td>0.0</td>\n",
       "      <td>42027.0</td>\n",
       "      <td>2018-11-19 23:53:45.528</td>\n",
       "      <td>32788010</td>\n",
       "      <td>2018-10-07 01:04:49.458</td>\n",
       "      <td>PH</td>\n",
       "      <td>makati</td>\n",
       "      <td>41</td>\n",
       "      <td>9943447915df3a45fd6720a026af905b6da6b56a37701b...</td>\n",
       "      <td>0</td>\n",
       "      <td>0</td>\n",
       "      <td>0</td>\n",
       "    </tr>\n",
       "    <tr>\n",
       "      <th>5</th>\n",
       "      <td>0.0</td>\n",
       "      <td>81362.0</td>\n",
       "      <td>2018-10-08 11:25:13.013</td>\n",
       "      <td>5872534</td>\n",
       "      <td>2018-10-07 01:04:49.458</td>\n",
       "      <td>PH</td>\n",
       "      <td>davao city</td>\n",
       "      <td>4</td>\n",
       "      <td>9943447915df3a45fd6720a026af905b6da6b56a37701b...</td>\n",
       "      <td>0</td>\n",
       "      <td>0</td>\n",
       "      <td>0</td>\n",
       "    </tr>\n",
       "  </tbody>\n",
       "</table>\n",
       "</div>"
      ],
      "text/plain": [
       "   app_id  session_id         start_timestamp  previous_sessions_duration  \\\n",
       "0     0.0     93536.0 2018-11-14 17:09:24.580                    25837591   \n",
       "2     0.0     92180.0 2018-10-10 23:52:48.666                    11343848   \n",
       "3     0.0     27200.0 2018-10-21 11:19:03.010                    13499724   \n",
       "4     0.0     42027.0 2018-11-19 23:53:45.528                    32788010   \n",
       "5     0.0     81362.0 2018-10-08 11:25:13.013                     5872534   \n",
       "\n",
       "   user_created_timestamp country        city  session_index  \\\n",
       "0 2018-10-07 01:04:49.458      PH      makati             30   \n",
       "2 2018-10-07 01:04:49.458      PH      makati             10   \n",
       "3 2018-10-07 01:04:49.458      PH  davao city             13   \n",
       "4 2018-10-07 01:04:49.458      PH      makati             41   \n",
       "5 2018-10-07 01:04:49.458      PH  davao city              4   \n",
       "\n",
       "                                        user_id_hash  is_user_first_session  \\\n",
       "0  9943447915df3a45fd6720a026af905b6da6b56a37701b...                      0   \n",
       "2  9943447915df3a45fd6720a026af905b6da6b56a37701b...                      0   \n",
       "3  9943447915df3a45fd6720a026af905b6da6b56a37701b...                      0   \n",
       "4  9943447915df3a45fd6720a026af905b6da6b56a37701b...                      0   \n",
       "5  9943447915df3a45fd6720a026af905b6da6b56a37701b...                      0   \n",
       "\n",
       "   is_session  os_name  \n",
       "0           0        0  \n",
       "2           0        0  \n",
       "3           0        0  \n",
       "4           0        0  \n",
       "5           0        0  "
      ]
     },
     "execution_count": 304,
     "metadata": {},
     "output_type": "execute_result"
    }
   ],
   "source": [
    "df_train.head()"
   ]
  },
  {
   "cell_type": "code",
   "execution_count": 305,
   "metadata": {},
   "outputs": [],
   "source": [
    "df_train.to_csv(\"train.csv\", sep=\",\")"
   ]
  },
  {
   "cell_type": "code",
   "execution_count": 306,
   "metadata": {},
   "outputs": [],
   "source": [
    "df_test.to_csv(\"test.csv\", sep=\",\")"
   ]
  },
  {
   "cell_type": "code",
   "execution_count": 307,
   "metadata": {},
   "outputs": [],
   "source": [
    "# df_train.write.format(\"csv\").save('train.csv')\n",
    "# df_test.write.format(\"csv\").save('test.csv')"
   ]
  },
  {
   "cell_type": "markdown",
   "metadata": {},
   "source": [
    "## 3. Adding feature os_freq on test and train separatly "
   ]
  },
  {
   "cell_type": "code",
   "execution_count": 308,
   "metadata": {},
   "outputs": [],
   "source": [
    "df = ss.read.csv(\"train.csv\", header=True)"
   ]
  },
  {
   "cell_type": "code",
   "execution_count": 309,
   "metadata": {},
   "outputs": [],
   "source": [
    "df = df.drop(\"_c0\")"
   ]
  },
  {
   "cell_type": "code",
   "execution_count": 310,
   "metadata": {},
   "outputs": [
    {
     "name": "stdout",
     "output_type": "stream",
     "text": [
      "+-------+-----+\n",
      "|os_name|count|\n",
      "+-------+-----+\n",
      "|      0|58878|\n",
      "|      1|26518|\n",
      "|      2|  925|\n",
      "+-------+-----+\n",
      "\n"
     ]
    }
   ],
   "source": [
    "df.groupBy(\"os_name\").count().show()"
   ]
  },
  {
   "cell_type": "code",
   "execution_count": 311,
   "metadata": {},
   "outputs": [
    {
     "name": "stdout",
     "output_type": "stream",
     "text": [
      "+------------------+\n",
      "|           os_freq|\n",
      "+------------------+\n",
      "|0.6820819962697374|\n",
      "|0.6820819962697374|\n",
      "+------------------+\n",
      "only showing top 2 rows\n",
      "\n"
     ]
    }
   ],
   "source": [
    "from pyspark.sql.functions import col, expr, when\n",
    "\n",
    "os_t = df.count()\n",
    "os_0 = df.filter(\"os_name=0\").count()\n",
    "os_1 = df.filter(\"os_name=1\").count()\n",
    "os_2 = df.filter(\"os_name=2\").count()\n",
    "\n",
    "new_col = when(col(\"os_name\")==0, os_0/os_t).when(col(\"os_name\")==1, os_1/os_t).when(col(\"os_name\")==2, os_2/os_t)\n",
    "\n",
    "df = df.withColumn(\"os_freq\", new_col)\n",
    "\n",
    "df.filter(\"os_name=0\").select(\"os_freq\").show(2)"
   ]
  },
  {
   "cell_type": "code",
   "execution_count": 312,
   "metadata": {},
   "outputs": [
    {
     "name": "stdout",
     "output_type": "stream",
     "text": [
      "+-------+-----+\n",
      "|os_name|count|\n",
      "+-------+-----+\n",
      "|      0| 8228|\n",
      "|      1| 4436|\n",
      "|      2|  181|\n",
      "+-------+-----+\n",
      "\n"
     ]
    }
   ],
   "source": [
    "df1 = ss.read.csv(\"test.csv\", header=True)\n",
    "df1.groupBy(\"os_name\").count().show()\n",
    "df1 = df1.drop(\"_c0\")"
   ]
  },
  {
   "cell_type": "code",
   "execution_count": 313,
   "metadata": {},
   "outputs": [
    {
     "name": "stdout",
     "output_type": "stream",
     "text": [
      "+------------------+\n",
      "|           os_freq|\n",
      "+------------------+\n",
      "|0.6405605293888673|\n",
      "|0.6405605293888673|\n",
      "+------------------+\n",
      "only showing top 2 rows\n",
      "\n"
     ]
    }
   ],
   "source": [
    "os_t = df1.count()\n",
    "os_0 = df1.filter(\"os_name=0\").count()\n",
    "os_1 = df1.filter(\"os_name=1\").count()\n",
    "os_2 = df1.filter(\"os_name=2\").count()\n",
    "\n",
    "new_col = when(col(\"os_name\")==0, os_0/os_t).when(col(\"os_name\")==1, os_1/os_t).when(col(\"os_name\")==2, os_2/os_t)\n",
    "\n",
    "df1 = df1.withColumn(\"os_freq\", new_col)\n",
    "\n",
    "df1.filter(\"os_name=0\").select(\"os_freq\").show(2)"
   ]
  },
  {
   "cell_type": "markdown",
   "metadata": {},
   "source": [
    "## 4. group by user_hash and create total num of sessions created on train and on test and\n",
    "## 5. group by user_hash and create avg previous session durationon train and on test (both below)"
   ]
  },
  {
   "cell_type": "code",
   "execution_count": 314,
   "metadata": {},
   "outputs": [
    {
     "data": {
      "text/plain": [
       "86321"
      ]
     },
     "execution_count": 314,
     "metadata": {},
     "output_type": "execute_result"
    }
   ],
   "source": [
    "df.count()"
   ]
  },
  {
   "cell_type": "code",
   "execution_count": 315,
   "metadata": {},
   "outputs": [
    {
     "data": {
      "text/plain": [
       "86321"
      ]
     },
     "execution_count": 315,
     "metadata": {},
     "output_type": "execute_result"
    }
   ],
   "source": [
    "number_sessions = df.groupBy(\"user_id_hash\").agg(count(\"session_id\"))\n",
    "df = df.join(number_sessions, \"user_id_hash\", \"left\")\n",
    "df.count()"
   ]
  },
  {
   "cell_type": "code",
   "execution_count": 316,
   "metadata": {},
   "outputs": [
    {
     "name": "stdout",
     "output_type": "stream",
     "text": [
      "root\n",
      " |-- user_id_hash: string (nullable = true)\n",
      " |-- app_id: string (nullable = true)\n",
      " |-- session_id: string (nullable = true)\n",
      " |-- start_timestamp: string (nullable = true)\n",
      " |-- previous_sessions_duration: string (nullable = true)\n",
      " |-- user_created_timestamp: string (nullable = true)\n",
      " |-- country: string (nullable = true)\n",
      " |-- city: string (nullable = true)\n",
      " |-- session_index: string (nullable = true)\n",
      " |-- is_user_first_session: string (nullable = true)\n",
      " |-- is_session: string (nullable = true)\n",
      " |-- os_name: string (nullable = true)\n",
      " |-- os_freq: double (nullable = true)\n",
      " |-- number_sessions: long (nullable = true)\n",
      "\n"
     ]
    }
   ],
   "source": [
    "df = df.withColumnRenamed(\"count(session_id)\", \"number_sessions\")\n",
    "df.printSchema()"
   ]
  },
  {
   "cell_type": "code",
   "execution_count": 317,
   "metadata": {},
   "outputs": [
    {
     "name": "stdout",
     "output_type": "stream",
     "text": [
      "root\n",
      " |-- user_id_hash: string (nullable = true)\n",
      " |-- app_id: string (nullable = true)\n",
      " |-- session_id: string (nullable = true)\n",
      " |-- start_timestamp: string (nullable = true)\n",
      " |-- previous_sessions_duration: string (nullable = true)\n",
      " |-- user_created_timestamp: string (nullable = true)\n",
      " |-- country: string (nullable = true)\n",
      " |-- city: string (nullable = true)\n",
      " |-- session_index: string (nullable = true)\n",
      " |-- is_user_first_session: string (nullable = true)\n",
      " |-- is_session: string (nullable = true)\n",
      " |-- os_name: string (nullable = true)\n",
      " |-- os_freq: double (nullable = true)\n",
      " |-- number_sessions: long (nullable = true)\n",
      " |-- avg(previous_sessions_duration): double (nullable = true)\n",
      "\n"
     ]
    }
   ],
   "source": [
    "avg_prev_session_dur = df.groupBy(\"user_id_hash\").agg(avg(\"previous_sessions_duration\"))\n",
    "df = df.join(avg_prev_session_dur, \"user_id_hash\", \"left\")\n",
    "df.printSchema()"
   ]
  },
  {
   "cell_type": "code",
   "execution_count": 318,
   "metadata": {},
   "outputs": [
    {
     "name": "stdout",
     "output_type": "stream",
     "text": [
      "root\n",
      " |-- user_id_hash: string (nullable = true)\n",
      " |-- app_id: string (nullable = true)\n",
      " |-- session_id: string (nullable = true)\n",
      " |-- start_timestamp: string (nullable = true)\n",
      " |-- previous_sessions_duration: string (nullable = true)\n",
      " |-- user_created_timestamp: string (nullable = true)\n",
      " |-- country: string (nullable = true)\n",
      " |-- city: string (nullable = true)\n",
      " |-- session_index: string (nullable = true)\n",
      " |-- is_user_first_session: string (nullable = true)\n",
      " |-- is_session: string (nullable = true)\n",
      " |-- os_name: string (nullable = true)\n",
      " |-- os_freq: double (nullable = true)\n",
      " |-- number_sessions: long (nullable = true)\n",
      " |-- avg_prev_session_dur: double (nullable = true)\n",
      "\n"
     ]
    }
   ],
   "source": [
    "df = df.withColumnRenamed(\"avg(previous_sessions_duration)\", \"avg_prev_session_dur\")\n",
    "df.printSchema()"
   ]
  },
  {
   "cell_type": "code",
   "execution_count": 319,
   "metadata": {},
   "outputs": [],
   "source": [
    "number_sessions = df1.groupBy(\"user_id_hash\").agg(count(\"session_id\"))\n",
    "df1 = df1.join(number_sessions, \"user_id_hash\", \"left\")\n",
    "df1 = df1.withColumnRenamed(\"count(session_id)\", \"number_sessions\")\n",
    "avg_prev_session_dur = df1.groupBy(\"user_id_hash\").agg(avg(\"previous_sessions_duration\"))\n",
    "df1 = df1.join(avg_prev_session_dur, \"user_id_hash\", \"left\")\n",
    "df1 = df1.withColumnRenamed(\"avg(previous_sessions_duration)\", \"avg_prev_session_dur\")"
   ]
  },
  {
   "cell_type": "markdown",
   "metadata": {},
   "source": [
    "get country and city info:"
   ]
  },
  {
   "cell_type": "code",
   "execution_count": 320,
   "metadata": {},
   "outputs": [],
   "source": [
    "a = df.groupBy(\"user_id_hash\")"
   ]
  },
  {
   "cell_type": "code",
   "execution_count": 321,
   "metadata": {},
   "outputs": [
    {
     "name": "stdout",
     "output_type": "stream",
     "text": [
      "+--------------------+-----+\n",
      "|        user_id_hash|count|\n",
      "+--------------------+-----+\n",
      "|000d22a1e4e1abdd0...|  210|\n",
      "|030b7aaefeeebc223...|    2|\n",
      "|03663d0eda3bf33a2...|    2|\n",
      "|04b6836e16e856579...|    2|\n",
      "|09028ad40995ddae7...|   13|\n",
      "|09580bf48092fd097...|    2|\n",
      "|0de90f3a2a04b4d4b...|    2|\n",
      "|1acd4823fae34d820...|    2|\n",
      "|2aed29211c979f9df...|    2|\n",
      "|32f1ae64f27d330b0...|    7|\n",
      "|3818994b1a66a47a4...|    5|\n",
      "|3b1be5c17d58562da...|   22|\n",
      "|448a7de13d61c19a1...|    7|\n",
      "|4541c8aad5a9c69cc...|    8|\n",
      "|470195b52fda2a7bf...|    3|\n",
      "|4bf7f1a538c09c3ca...|    2|\n",
      "|5cf6a15acc79d6bb0...|    1|\n",
      "|71f0ebc9b9c7b0747...|    3|\n",
      "|78797634a127768e3...|    2|\n",
      "|7be48439102699b30...|    9|\n",
      "+--------------------+-----+\n",
      "only showing top 20 rows\n",
      "\n"
     ]
    }
   ],
   "source": [
    "a.count().show()"
   ]
  },
  {
   "cell_type": "code",
   "execution_count": 322,
   "metadata": {},
   "outputs": [
    {
     "name": "stdout",
     "output_type": "stream",
     "text": [
      "+--------------------+-------+-----+\n",
      "|        user_id_hash|country|count|\n",
      "+--------------------+-------+-----+\n",
      "|000d22a1e4e1abdd0...|     NG|  210|\n",
      "|030b7aaefeeebc223...|     SG|    2|\n",
      "|03663d0eda3bf33a2...|     EE|    2|\n",
      "|04b6836e16e856579...|     JM|    2|\n",
      "|09028ad40995ddae7...|     US|   13|\n",
      "|09580bf48092fd097...|     PR|    2|\n",
      "|0de90f3a2a04b4d4b...|     US|    2|\n",
      "|1acd4823fae34d820...|     US|    2|\n",
      "|2aed29211c979f9df...|     US|    2|\n",
      "|32f1ae64f27d330b0...|     IN|    7|\n",
      "|3818994b1a66a47a4...|     US|    5|\n",
      "|3b1be5c17d58562da...|     US|   22|\n",
      "|448a7de13d61c19a1...|     ES|    7|\n",
      "|4541c8aad5a9c69cc...|     IN|    8|\n",
      "|470195b52fda2a7bf...|     US|    3|\n",
      "|4bf7f1a538c09c3ca...|     GR|    2|\n",
      "|5cf6a15acc79d6bb0...|     SA|    1|\n",
      "|71f0ebc9b9c7b0747...|     AU|    3|\n",
      "|78797634a127768e3...|     ID|    2|\n",
      "|7be48439102699b30...|     IN|    9|\n",
      "+--------------------+-------+-----+\n",
      "only showing top 20 rows\n",
      "\n"
     ]
    }
   ],
   "source": [
    "from pyspark.sql.functions import col, countDistinct\n",
    "\n",
    "df.groupBy(\"user_id_hash\", \"country\").count().show()"
   ]
  },
  {
   "cell_type": "code",
   "execution_count": 323,
   "metadata": {},
   "outputs": [
    {
     "data": {
      "text/plain": [
       "DataFrame[user_id_hash: string, country: string, city: string, os_name: string, os_freq: double, number_sessions: bigint, avg_prev_session_dur: double, count: bigint]"
      ]
     },
     "execution_count": 323,
     "metadata": {},
     "output_type": "execute_result"
    }
   ],
   "source": [
    "from pyspark.sql import Window\n",
    "\n",
    "grouped = df.groupBy(\"user_id_hash\", \"country\", \"city\", \"os_name\", \"os_freq\", \"number_sessions\", \"avg_prev_session_dur\").count()\n",
    "\n",
    "window = Window.partitionBy(\"user_id_hash\").orderBy(desc(\"count\"))\n",
    "\n",
    "gropuped = grouped\\\n",
    "    .withColumn('order', row_number().over(window))\\\n",
    "    .where(col('order') == 1).drop(\"order\")\n",
    "\n",
    "grouped"
   ]
  },
  {
   "cell_type": "code",
   "execution_count": 324,
   "metadata": {},
   "outputs": [],
   "source": [
    "grouped.repartition(1).write.format(\"com.databricks.spark.csv\") \\\n",
    "  .option(\"header\", \"true\") \\\n",
    "  .option(\"inferSchema\", \"true\") \\\n",
    "  .option(\"delimiter\", \",\")\\\n",
    "  .save(\"train_features.csv\")"
   ]
  },
  {
   "cell_type": "code",
   "execution_count": 328,
   "metadata": {},
   "outputs": [
    {
     "name": "stdout",
     "output_type": "stream",
     "text": [
      "root\n",
      " |-- user_id_hash: string (nullable = true)\n",
      " |-- app_id: string (nullable = true)\n",
      " |-- session_id: string (nullable = true)\n",
      " |-- start_timestamp: string (nullable = true)\n",
      " |-- previous_sessions_duration: string (nullable = true)\n",
      " |-- user_created_timestamp: string (nullable = true)\n",
      " |-- country: string (nullable = true)\n",
      " |-- city: string (nullable = true)\n",
      " |-- session_index: string (nullable = true)\n",
      " |-- is_user_first_session: string (nullable = true)\n",
      " |-- is_session: string (nullable = true)\n",
      " |-- os_name: string (nullable = true)\n",
      " |-- os_freq: double (nullable = true)\n",
      " |-- number_sessions: long (nullable = true)\n",
      " |-- avg_prev_session_dur: double (nullable = true)\n",
      "\n"
     ]
    }
   ],
   "source": [
    "df1.printSchema()"
   ]
  },
  {
   "cell_type": "code",
   "execution_count": 329,
   "metadata": {},
   "outputs": [],
   "source": [
    "grouped1 = df1.groupBy(\"user_id_hash\", \"country\", \"city\", \"os_name\", \"os_freq\", \"number_sessions\", \n",
    "                       \"avg_prev_session_dur\").count()"
   ]
  },
  {
   "cell_type": "code",
   "execution_count": 330,
   "metadata": {},
   "outputs": [],
   "source": [
    "window1 = Window.partitionBy(\"user_id_hash\").orderBy(desc(\"count\"))\n",
    "\n",
    "grouped1\\\n",
    "    .withColumn('order', row_number().over(window1))\\\n",
    "    .where(col('order') == 1).drop(\"order\")\n",
    "\n",
    "grouped1.repartition(1).write.format(\"com.databricks.spark.csv\") \\\n",
    "  .option(\"header\", \"true\") \\\n",
    "  .option(\"inferSchema\", \"true\") \\\n",
    "  .option(\"delimiter\", \",\")\\\n",
    "  .save(\"test_features.csv\")"
   ]
  },
  {
   "cell_type": "markdown",
   "metadata": {},
   "source": [
    "to do after:\n",
    "6. I have train and test data, they need to be both merged and\n",
    "7. merge with labels and do target encoding on city and country"
   ]
  },
  {
   "cell_type": "code",
   "execution_count": 333,
   "metadata": {},
   "outputs": [],
   "source": [
    "labels = pd.read_csv(\"features_train.csv\")"
   ]
  },
  {
   "cell_type": "code",
   "execution_count": 334,
   "metadata": {},
   "outputs": [
    {
     "data": {
      "text/html": [
       "<div>\n",
       "<style scoped>\n",
       "    .dataframe tbody tr th:only-of-type {\n",
       "        vertical-align: middle;\n",
       "    }\n",
       "\n",
       "    .dataframe tbody tr th {\n",
       "        vertical-align: top;\n",
       "    }\n",
       "\n",
       "    .dataframe thead th {\n",
       "        text-align: right;\n",
       "    }\n",
       "</style>\n",
       "<table border=\"1\" class=\"dataframe\">\n",
       "  <thead>\n",
       "    <tr style=\"text-align: right;\">\n",
       "      <th></th>\n",
       "      <th>Unnamed: 0</th>\n",
       "      <th>user_id_hash</th>\n",
       "      <th>user_purchase_binary_7_days</th>\n",
       "      <th>user_purchase_binary_14_days</th>\n",
       "      <th>num_purchase</th>\n",
       "      <th>value_purchase</th>\n",
       "    </tr>\n",
       "  </thead>\n",
       "  <tbody>\n",
       "    <tr>\n",
       "      <th>0</th>\n",
       "      <td>0</td>\n",
       "      <td>e469dfaed039ead9110165d9bc457acb11609ca34057dc...</td>\n",
       "      <td>0.0</td>\n",
       "      <td>0.0</td>\n",
       "      <td>0.0</td>\n",
       "      <td>0.0</td>\n",
       "    </tr>\n",
       "    <tr>\n",
       "      <th>1</th>\n",
       "      <td>1</td>\n",
       "      <td>afcc639a324b6c598ef83d360450afa011cb2dd1358bf9...</td>\n",
       "      <td>0.0</td>\n",
       "      <td>0.0</td>\n",
       "      <td>0.0</td>\n",
       "      <td>0.0</td>\n",
       "    </tr>\n",
       "    <tr>\n",
       "      <th>2</th>\n",
       "      <td>2</td>\n",
       "      <td>fd5a7cf211d08e3e00f7be6a9df6e6ea3d2e5c22a5d9c3...</td>\n",
       "      <td>0.0</td>\n",
       "      <td>0.0</td>\n",
       "      <td>0.0</td>\n",
       "      <td>0.0</td>\n",
       "    </tr>\n",
       "    <tr>\n",
       "      <th>3</th>\n",
       "      <td>3</td>\n",
       "      <td>00bfff98b9d0329f014c2eeac7ce47cd18b2bc6e10d608...</td>\n",
       "      <td>0.0</td>\n",
       "      <td>0.0</td>\n",
       "      <td>0.0</td>\n",
       "      <td>0.0</td>\n",
       "    </tr>\n",
       "    <tr>\n",
       "      <th>4</th>\n",
       "      <td>4</td>\n",
       "      <td>0d298f3638c43e915c119d4935e1ce8d168f81b5e3e8c1...</td>\n",
       "      <td>0.0</td>\n",
       "      <td>0.0</td>\n",
       "      <td>0.0</td>\n",
       "      <td>0.0</td>\n",
       "    </tr>\n",
       "  </tbody>\n",
       "</table>\n",
       "</div>"
      ],
      "text/plain": [
       "   Unnamed: 0                                       user_id_hash  \\\n",
       "0           0  e469dfaed039ead9110165d9bc457acb11609ca34057dc...   \n",
       "1           1  afcc639a324b6c598ef83d360450afa011cb2dd1358bf9...   \n",
       "2           2  fd5a7cf211d08e3e00f7be6a9df6e6ea3d2e5c22a5d9c3...   \n",
       "3           3  00bfff98b9d0329f014c2eeac7ce47cd18b2bc6e10d608...   \n",
       "4           4  0d298f3638c43e915c119d4935e1ce8d168f81b5e3e8c1...   \n",
       "\n",
       "   user_purchase_binary_7_days  user_purchase_binary_14_days  num_purchase  \\\n",
       "0                          0.0                           0.0           0.0   \n",
       "1                          0.0                           0.0           0.0   \n",
       "2                          0.0                           0.0           0.0   \n",
       "3                          0.0                           0.0           0.0   \n",
       "4                          0.0                           0.0           0.0   \n",
       "\n",
       "   value_purchase  \n",
       "0             0.0  \n",
       "1             0.0  \n",
       "2             0.0  \n",
       "3             0.0  \n",
       "4             0.0  "
      ]
     },
     "execution_count": 334,
     "metadata": {},
     "output_type": "execute_result"
    }
   ],
   "source": [
    "labels.head()"
   ]
  },
  {
   "cell_type": "code",
   "execution_count": 325,
   "metadata": {},
   "outputs": [],
   "source": [
    "sesh_labels = pd.read_csv(\"train_features.csv/part-00000-d33b4915-8780-41d1-9e40-8c96a1251785-c000.csv\")"
   ]
  },
  {
   "cell_type": "code",
   "execution_count": 326,
   "metadata": {},
   "outputs": [
    {
     "data": {
      "text/html": [
       "<div>\n",
       "<style scoped>\n",
       "    .dataframe tbody tr th:only-of-type {\n",
       "        vertical-align: middle;\n",
       "    }\n",
       "\n",
       "    .dataframe tbody tr th {\n",
       "        vertical-align: top;\n",
       "    }\n",
       "\n",
       "    .dataframe thead th {\n",
       "        text-align: right;\n",
       "    }\n",
       "</style>\n",
       "<table border=\"1\" class=\"dataframe\">\n",
       "  <thead>\n",
       "    <tr style=\"text-align: right;\">\n",
       "      <th></th>\n",
       "      <th>user_id_hash</th>\n",
       "      <th>country</th>\n",
       "      <th>city</th>\n",
       "      <th>os_name</th>\n",
       "      <th>os_freq</th>\n",
       "      <th>number_sessions</th>\n",
       "      <th>avg_prev_session_dur</th>\n",
       "      <th>count</th>\n",
       "    </tr>\n",
       "  </thead>\n",
       "  <tbody>\n",
       "    <tr>\n",
       "      <th>0</th>\n",
       "      <td>000d22a1e4e1abdd0dcfce208299ebcf3d708456024ee9...</td>\n",
       "      <td>NG</td>\n",
       "      <td>lagos</td>\n",
       "      <td>0</td>\n",
       "      <td>0.682082</td>\n",
       "      <td>210</td>\n",
       "      <td>6.730164e+07</td>\n",
       "      <td>208</td>\n",
       "    </tr>\n",
       "    <tr>\n",
       "      <th>1</th>\n",
       "      <td>000d22a1e4e1abdd0dcfce208299ebcf3d708456024ee9...</td>\n",
       "      <td>NG</td>\n",
       "      <td>owerri</td>\n",
       "      <td>0</td>\n",
       "      <td>0.682082</td>\n",
       "      <td>210</td>\n",
       "      <td>6.730164e+07</td>\n",
       "      <td>2</td>\n",
       "    </tr>\n",
       "    <tr>\n",
       "      <th>2</th>\n",
       "      <td>030b7aaefeeebc223136cddf0d0a9f785d1e8e85554190...</td>\n",
       "      <td>SG</td>\n",
       "      <td>singapore</td>\n",
       "      <td>1</td>\n",
       "      <td>0.307202</td>\n",
       "      <td>2</td>\n",
       "      <td>5.304420e+05</td>\n",
       "      <td>2</td>\n",
       "    </tr>\n",
       "    <tr>\n",
       "      <th>3</th>\n",
       "      <td>03663d0eda3bf33a23ae98d01e3533537d21383f9f7dcb...</td>\n",
       "      <td>EE</td>\n",
       "      <td>valga</td>\n",
       "      <td>0</td>\n",
       "      <td>0.682082</td>\n",
       "      <td>2</td>\n",
       "      <td>1.294854e+06</td>\n",
       "      <td>2</td>\n",
       "    </tr>\n",
       "    <tr>\n",
       "      <th>4</th>\n",
       "      <td>04b6836e16e8565796440451c969cd81187f9c97de9692...</td>\n",
       "      <td>JM</td>\n",
       "      <td>kingston</td>\n",
       "      <td>0</td>\n",
       "      <td>0.682082</td>\n",
       "      <td>2</td>\n",
       "      <td>2.667920e+05</td>\n",
       "      <td>2</td>\n",
       "    </tr>\n",
       "  </tbody>\n",
       "</table>\n",
       "</div>"
      ],
      "text/plain": [
       "                                        user_id_hash country       city  \\\n",
       "0  000d22a1e4e1abdd0dcfce208299ebcf3d708456024ee9...      NG      lagos   \n",
       "1  000d22a1e4e1abdd0dcfce208299ebcf3d708456024ee9...      NG     owerri   \n",
       "2  030b7aaefeeebc223136cddf0d0a9f785d1e8e85554190...      SG  singapore   \n",
       "3  03663d0eda3bf33a23ae98d01e3533537d21383f9f7dcb...      EE      valga   \n",
       "4  04b6836e16e8565796440451c969cd81187f9c97de9692...      JM   kingston   \n",
       "\n",
       "   os_name   os_freq  number_sessions  avg_prev_session_dur  count  \n",
       "0        0  0.682082              210          6.730164e+07    208  \n",
       "1        0  0.682082              210          6.730164e+07      2  \n",
       "2        1  0.307202                2          5.304420e+05      2  \n",
       "3        0  0.682082                2          1.294854e+06      2  \n",
       "4        0  0.682082                2          2.667920e+05      2  "
      ]
     },
     "execution_count": 326,
     "metadata": {},
     "output_type": "execute_result"
    }
   ],
   "source": [
    "sesh_labels.head()"
   ]
  },
  {
   "cell_type": "code",
   "execution_count": 337,
   "metadata": {},
   "outputs": [],
   "source": [
    "features_labels = labels.merge(sesh_labels, left_on='user_id_hash', right_on='user_id_hash')"
   ]
  },
  {
   "cell_type": "code",
   "execution_count": 338,
   "metadata": {},
   "outputs": [
    {
     "data": {
      "text/html": [
       "<div>\n",
       "<style scoped>\n",
       "    .dataframe tbody tr th:only-of-type {\n",
       "        vertical-align: middle;\n",
       "    }\n",
       "\n",
       "    .dataframe tbody tr th {\n",
       "        vertical-align: top;\n",
       "    }\n",
       "\n",
       "    .dataframe thead th {\n",
       "        text-align: right;\n",
       "    }\n",
       "</style>\n",
       "<table border=\"1\" class=\"dataframe\">\n",
       "  <thead>\n",
       "    <tr style=\"text-align: right;\">\n",
       "      <th></th>\n",
       "      <th>Unnamed: 0</th>\n",
       "      <th>user_id_hash</th>\n",
       "      <th>user_purchase_binary_7_days</th>\n",
       "      <th>user_purchase_binary_14_days</th>\n",
       "      <th>num_purchase</th>\n",
       "      <th>value_purchase</th>\n",
       "      <th>country</th>\n",
       "      <th>city</th>\n",
       "      <th>os_name</th>\n",
       "      <th>os_freq</th>\n",
       "      <th>number_sessions</th>\n",
       "      <th>avg_prev_session_dur</th>\n",
       "      <th>count</th>\n",
       "    </tr>\n",
       "  </thead>\n",
       "  <tbody>\n",
       "    <tr>\n",
       "      <th>0</th>\n",
       "      <td>154</td>\n",
       "      <td>ff85e474e26272486fc9c379a344b68d779085e9753a8f...</td>\n",
       "      <td>0.0</td>\n",
       "      <td>0.0</td>\n",
       "      <td>0.0</td>\n",
       "      <td>0.0</td>\n",
       "      <td>DE</td>\n",
       "      <td>wuppertal</td>\n",
       "      <td>0</td>\n",
       "      <td>0.682082</td>\n",
       "      <td>4</td>\n",
       "      <td>4040769.75</td>\n",
       "      <td>4</td>\n",
       "    </tr>\n",
       "    <tr>\n",
       "      <th>1</th>\n",
       "      <td>274</td>\n",
       "      <td>6c338ad0a43d6d8b32ad185e349ea5032c86bcd4caa004...</td>\n",
       "      <td>0.0</td>\n",
       "      <td>0.0</td>\n",
       "      <td>0.0</td>\n",
       "      <td>0.0</td>\n",
       "      <td>PK</td>\n",
       "      <td>karachi</td>\n",
       "      <td>0</td>\n",
       "      <td>0.682082</td>\n",
       "      <td>2</td>\n",
       "      <td>1037072.50</td>\n",
       "      <td>2</td>\n",
       "    </tr>\n",
       "    <tr>\n",
       "      <th>2</th>\n",
       "      <td>333</td>\n",
       "      <td>e3e520438c89cb10c3a6f4f2a772f46fedf10df74d4e0d...</td>\n",
       "      <td>0.0</td>\n",
       "      <td>0.0</td>\n",
       "      <td>0.0</td>\n",
       "      <td>0.0</td>\n",
       "      <td>PE</td>\n",
       "      <td>arequipa</td>\n",
       "      <td>1</td>\n",
       "      <td>0.307202</td>\n",
       "      <td>10</td>\n",
       "      <td>1062377.10</td>\n",
       "      <td>10</td>\n",
       "    </tr>\n",
       "    <tr>\n",
       "      <th>3</th>\n",
       "      <td>358</td>\n",
       "      <td>5cec909f078fc6f35208b7166d2fa3500032fad798d046...</td>\n",
       "      <td>0.0</td>\n",
       "      <td>0.0</td>\n",
       "      <td>0.0</td>\n",
       "      <td>0.0</td>\n",
       "      <td>US</td>\n",
       "      <td>los angeles</td>\n",
       "      <td>0</td>\n",
       "      <td>0.682082</td>\n",
       "      <td>2</td>\n",
       "      <td>44849.50</td>\n",
       "      <td>2</td>\n",
       "    </tr>\n",
       "    <tr>\n",
       "      <th>4</th>\n",
       "      <td>366</td>\n",
       "      <td>63f98b74f066b34346662a5d002bfac15f09b8a4648bf0...</td>\n",
       "      <td>0.0</td>\n",
       "      <td>0.0</td>\n",
       "      <td>0.0</td>\n",
       "      <td>0.0</td>\n",
       "      <td>GB</td>\n",
       "      <td>bramhall</td>\n",
       "      <td>1</td>\n",
       "      <td>0.307202</td>\n",
       "      <td>144</td>\n",
       "      <td>73349722.50</td>\n",
       "      <td>143</td>\n",
       "    </tr>\n",
       "  </tbody>\n",
       "</table>\n",
       "</div>"
      ],
      "text/plain": [
       "   Unnamed: 0                                       user_id_hash  \\\n",
       "0         154  ff85e474e26272486fc9c379a344b68d779085e9753a8f...   \n",
       "1         274  6c338ad0a43d6d8b32ad185e349ea5032c86bcd4caa004...   \n",
       "2         333  e3e520438c89cb10c3a6f4f2a772f46fedf10df74d4e0d...   \n",
       "3         358  5cec909f078fc6f35208b7166d2fa3500032fad798d046...   \n",
       "4         366  63f98b74f066b34346662a5d002bfac15f09b8a4648bf0...   \n",
       "\n",
       "   user_purchase_binary_7_days  user_purchase_binary_14_days  num_purchase  \\\n",
       "0                          0.0                           0.0           0.0   \n",
       "1                          0.0                           0.0           0.0   \n",
       "2                          0.0                           0.0           0.0   \n",
       "3                          0.0                           0.0           0.0   \n",
       "4                          0.0                           0.0           0.0   \n",
       "\n",
       "   value_purchase country         city  os_name   os_freq  number_sessions  \\\n",
       "0             0.0      DE    wuppertal        0  0.682082                4   \n",
       "1             0.0      PK      karachi        0  0.682082                2   \n",
       "2             0.0      PE     arequipa        1  0.307202               10   \n",
       "3             0.0      US  los angeles        0  0.682082                2   \n",
       "4             0.0      GB     bramhall        1  0.307202              144   \n",
       "\n",
       "   avg_prev_session_dur  count  \n",
       "0            4040769.75      4  \n",
       "1            1037072.50      2  \n",
       "2            1062377.10     10  \n",
       "3              44849.50      2  \n",
       "4           73349722.50    143  "
      ]
     },
     "execution_count": 338,
     "metadata": {},
     "output_type": "execute_result"
    }
   ],
   "source": [
    "features_labels.head()"
   ]
  },
  {
   "cell_type": "code",
   "execution_count": 439,
   "metadata": {},
   "outputs": [],
   "source": [
    "sc.stop()"
   ]
  },
  {
   "cell_type": "code",
   "execution_count": null,
   "metadata": {},
   "outputs": [],
   "source": []
  }
 ],
 "metadata": {
  "kernelspec": {
   "display_name": "Python 3",
   "language": "python",
   "name": "python3"
  },
  "language_info": {
   "codemirror_mode": {
    "name": "ipython",
    "version": 3
   },
   "file_extension": ".py",
   "mimetype": "text/x-python",
   "name": "python",
   "nbconvert_exporter": "python",
   "pygments_lexer": "ipython3",
   "version": "3.6.8"
  }
 },
 "nbformat": 4,
 "nbformat_minor": 2
}
